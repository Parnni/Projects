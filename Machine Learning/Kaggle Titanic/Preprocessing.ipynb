{
 "cells": [
  {
   "cell_type": "code",
   "execution_count": 2,
   "id": "4ebadbb4",
   "metadata": {},
   "outputs": [],
   "source": [
    "# Date: 28/05/2021\n",
    "# Title: Titanic Project.\n",
    "# Author: Parmeshwar Prajapati."
   ]
  },
  {
   "cell_type": "markdown",
   "id": "b02b6279",
   "metadata": {},
   "source": [
    "---\n",
    "### 1. Importing modules."
   ]
  },
  {
   "cell_type": "code",
   "execution_count": 1,
   "id": "3fde2734",
   "metadata": {},
   "outputs": [],
   "source": [
    "import numpy as np\n",
    "import pandas as pd\n",
    "\n",
    "import matplotlib.pyplot as plt\n",
    "import seaborn as sb\n",
    "\n",
    "import scipy.stats as scistats"
   ]
  },
  {
   "cell_type": "markdown",
   "id": "e5fa02a5",
   "metadata": {},
   "source": [
    "---\n",
    "### 2. Importing data."
   ]
  },
  {
   "cell_type": "code",
   "execution_count": 2,
   "id": "4c3d2e32",
   "metadata": {},
   "outputs": [
    {
     "name": "stdout",
     "output_type": "stream",
     "text": [
      "(891, 12)\n",
      "(418, 11)\n"
     ]
    }
   ],
   "source": [
    "raw_train = pd.read_csv('train.csv')\n",
    "raw_test = pd.read_csv('test.csv')\n",
    "\n",
    "print(raw_train.shape)\n",
    "print(raw_test.shape)"
   ]
  },
  {
   "cell_type": "markdown",
   "id": "9a1aa733",
   "metadata": {},
   "source": [
    "#### 2.1. Quick glance at the data."
   ]
  },
  {
   "cell_type": "code",
   "execution_count": 151,
   "id": "ba1ddd4d",
   "metadata": {},
   "outputs": [
    {
     "data": {
      "text/html": [
       "<div>\n",
       "<style scoped>\n",
       "    .dataframe tbody tr th:only-of-type {\n",
       "        vertical-align: middle;\n",
       "    }\n",
       "\n",
       "    .dataframe tbody tr th {\n",
       "        vertical-align: top;\n",
       "    }\n",
       "\n",
       "    .dataframe thead th {\n",
       "        text-align: right;\n",
       "    }\n",
       "</style>\n",
       "<table border=\"1\" class=\"dataframe\">\n",
       "  <thead>\n",
       "    <tr style=\"text-align: right;\">\n",
       "      <th></th>\n",
       "      <th>PassengerId</th>\n",
       "      <th>Survived</th>\n",
       "      <th>Pclass</th>\n",
       "      <th>Name</th>\n",
       "      <th>Sex</th>\n",
       "      <th>Age</th>\n",
       "      <th>SibSp</th>\n",
       "      <th>Parch</th>\n",
       "      <th>Ticket</th>\n",
       "      <th>Fare</th>\n",
       "      <th>Cabin</th>\n",
       "      <th>Embarked</th>\n",
       "    </tr>\n",
       "  </thead>\n",
       "  <tbody>\n",
       "    <tr>\n",
       "      <th>0</th>\n",
       "      <td>1</td>\n",
       "      <td>0</td>\n",
       "      <td>3</td>\n",
       "      <td>Braund, Mr. Owen Harris</td>\n",
       "      <td>male</td>\n",
       "      <td>22.0</td>\n",
       "      <td>1</td>\n",
       "      <td>0</td>\n",
       "      <td>A/5 21171</td>\n",
       "      <td>7.2500</td>\n",
       "      <td>NaN</td>\n",
       "      <td>S</td>\n",
       "    </tr>\n",
       "    <tr>\n",
       "      <th>1</th>\n",
       "      <td>2</td>\n",
       "      <td>1</td>\n",
       "      <td>1</td>\n",
       "      <td>Cumings, Mrs. John Bradley (Florence Briggs Th...</td>\n",
       "      <td>female</td>\n",
       "      <td>38.0</td>\n",
       "      <td>1</td>\n",
       "      <td>0</td>\n",
       "      <td>PC 17599</td>\n",
       "      <td>71.2833</td>\n",
       "      <td>C85</td>\n",
       "      <td>C</td>\n",
       "    </tr>\n",
       "  </tbody>\n",
       "</table>\n",
       "</div>"
      ],
      "text/plain": [
       "   PassengerId  Survived  Pclass  \\\n",
       "0            1         0       3   \n",
       "1            2         1       1   \n",
       "\n",
       "                                                Name     Sex   Age  SibSp  \\\n",
       "0                            Braund, Mr. Owen Harris    male  22.0      1   \n",
       "1  Cumings, Mrs. John Bradley (Florence Briggs Th...  female  38.0      1   \n",
       "\n",
       "   Parch     Ticket     Fare Cabin Embarked  \n",
       "0      0  A/5 21171   7.2500   NaN        S  \n",
       "1      0   PC 17599  71.2833   C85        C  "
      ]
     },
     "execution_count": 151,
     "metadata": {},
     "output_type": "execute_result"
    }
   ],
   "source": [
    "raw_train.head(2)"
   ]
  },
  {
   "cell_type": "code",
   "execution_count": 3,
   "id": "acdc0fdb",
   "metadata": {},
   "outputs": [
    {
     "name": "stdout",
     "output_type": "stream",
     "text": [
      "Raw train data shape: (891, 11)\n",
      "Raw test data shape: (418, 10)\n"
     ]
    }
   ],
   "source": [
    "# Dropping 'PassengerId'.\n",
    "\n",
    "raw_train.drop(columns = ['PassengerId'], inplace = True)\n",
    "raw_test.drop(columns = ['PassengerId'], inplace = True)\n",
    "\n",
    "print('Raw train data shape:', raw_train.shape)\n",
    "print('Raw test data shape:', raw_test.shape)"
   ]
  },
  {
   "cell_type": "code",
   "execution_count": 4,
   "id": "df689052",
   "metadata": {},
   "outputs": [
    {
     "name": "stdout",
     "output_type": "stream",
     "text": [
      "Null values in target feature: 0\n"
     ]
    }
   ],
   "source": [
    "# Checking for null values in target data.\n",
    "\n",
    "print('Null values in target feature:', \n",
    "      raw_train['Survived'].isnull().sum().sum())"
   ]
  },
  {
   "cell_type": "markdown",
   "id": "abad8455",
   "metadata": {},
   "source": [
    "#### 2.2. Describing the data."
   ]
  },
  {
   "cell_type": "code",
   "execution_count": 154,
   "id": "64954c1e",
   "metadata": {},
   "outputs": [
    {
     "data": {
      "text/html": [
       "<div>\n",
       "<style scoped>\n",
       "    .dataframe tbody tr th:only-of-type {\n",
       "        vertical-align: middle;\n",
       "    }\n",
       "\n",
       "    .dataframe tbody tr th {\n",
       "        vertical-align: top;\n",
       "    }\n",
       "\n",
       "    .dataframe thead th {\n",
       "        text-align: right;\n",
       "    }\n",
       "</style>\n",
       "<table border=\"1\" class=\"dataframe\">\n",
       "  <thead>\n",
       "    <tr style=\"text-align: right;\">\n",
       "      <th></th>\n",
       "      <th>Survived</th>\n",
       "      <th>Pclass</th>\n",
       "      <th>Age</th>\n",
       "      <th>SibSp</th>\n",
       "      <th>Parch</th>\n",
       "      <th>Fare</th>\n",
       "    </tr>\n",
       "  </thead>\n",
       "  <tbody>\n",
       "    <tr>\n",
       "      <th>count</th>\n",
       "      <td>891.000000</td>\n",
       "      <td>891.000000</td>\n",
       "      <td>714.000000</td>\n",
       "      <td>891.000000</td>\n",
       "      <td>891.000000</td>\n",
       "      <td>891.000000</td>\n",
       "    </tr>\n",
       "    <tr>\n",
       "      <th>mean</th>\n",
       "      <td>0.383838</td>\n",
       "      <td>2.308642</td>\n",
       "      <td>29.699118</td>\n",
       "      <td>0.523008</td>\n",
       "      <td>0.381594</td>\n",
       "      <td>32.204208</td>\n",
       "    </tr>\n",
       "    <tr>\n",
       "      <th>std</th>\n",
       "      <td>0.486592</td>\n",
       "      <td>0.836071</td>\n",
       "      <td>14.526497</td>\n",
       "      <td>1.102743</td>\n",
       "      <td>0.806057</td>\n",
       "      <td>49.693429</td>\n",
       "    </tr>\n",
       "    <tr>\n",
       "      <th>min</th>\n",
       "      <td>0.000000</td>\n",
       "      <td>1.000000</td>\n",
       "      <td>0.420000</td>\n",
       "      <td>0.000000</td>\n",
       "      <td>0.000000</td>\n",
       "      <td>0.000000</td>\n",
       "    </tr>\n",
       "    <tr>\n",
       "      <th>25%</th>\n",
       "      <td>0.000000</td>\n",
       "      <td>2.000000</td>\n",
       "      <td>20.125000</td>\n",
       "      <td>0.000000</td>\n",
       "      <td>0.000000</td>\n",
       "      <td>7.910400</td>\n",
       "    </tr>\n",
       "    <tr>\n",
       "      <th>50%</th>\n",
       "      <td>0.000000</td>\n",
       "      <td>3.000000</td>\n",
       "      <td>28.000000</td>\n",
       "      <td>0.000000</td>\n",
       "      <td>0.000000</td>\n",
       "      <td>14.454200</td>\n",
       "    </tr>\n",
       "    <tr>\n",
       "      <th>75%</th>\n",
       "      <td>1.000000</td>\n",
       "      <td>3.000000</td>\n",
       "      <td>38.000000</td>\n",
       "      <td>1.000000</td>\n",
       "      <td>0.000000</td>\n",
       "      <td>31.000000</td>\n",
       "    </tr>\n",
       "    <tr>\n",
       "      <th>max</th>\n",
       "      <td>1.000000</td>\n",
       "      <td>3.000000</td>\n",
       "      <td>80.000000</td>\n",
       "      <td>8.000000</td>\n",
       "      <td>6.000000</td>\n",
       "      <td>512.329200</td>\n",
       "    </tr>\n",
       "  </tbody>\n",
       "</table>\n",
       "</div>"
      ],
      "text/plain": [
       "         Survived      Pclass         Age       SibSp       Parch        Fare\n",
       "count  891.000000  891.000000  714.000000  891.000000  891.000000  891.000000\n",
       "mean     0.383838    2.308642   29.699118    0.523008    0.381594   32.204208\n",
       "std      0.486592    0.836071   14.526497    1.102743    0.806057   49.693429\n",
       "min      0.000000    1.000000    0.420000    0.000000    0.000000    0.000000\n",
       "25%      0.000000    2.000000   20.125000    0.000000    0.000000    7.910400\n",
       "50%      0.000000    3.000000   28.000000    0.000000    0.000000   14.454200\n",
       "75%      1.000000    3.000000   38.000000    1.000000    0.000000   31.000000\n",
       "max      1.000000    3.000000   80.000000    8.000000    6.000000  512.329200"
      ]
     },
     "execution_count": 154,
     "metadata": {},
     "output_type": "execute_result"
    }
   ],
   "source": [
    "raw_train.describe()"
   ]
  },
  {
   "cell_type": "code",
   "execution_count": 5,
   "id": "79b2bf72",
   "metadata": {},
   "outputs": [
    {
     "data": {
      "text/html": [
       "<div>\n",
       "<style scoped>\n",
       "    .dataframe tbody tr th:only-of-type {\n",
       "        vertical-align: middle;\n",
       "    }\n",
       "\n",
       "    .dataframe tbody tr th {\n",
       "        vertical-align: top;\n",
       "    }\n",
       "\n",
       "    .dataframe thead th {\n",
       "        text-align: right;\n",
       "    }\n",
       "</style>\n",
       "<table border=\"1\" class=\"dataframe\">\n",
       "  <thead>\n",
       "    <tr style=\"text-align: right;\">\n",
       "      <th></th>\n",
       "      <th>Name</th>\n",
       "      <th>Sex</th>\n",
       "      <th>Ticket</th>\n",
       "      <th>Cabin</th>\n",
       "      <th>Embarked</th>\n",
       "    </tr>\n",
       "  </thead>\n",
       "  <tbody>\n",
       "    <tr>\n",
       "      <th>count</th>\n",
       "      <td>891</td>\n",
       "      <td>891</td>\n",
       "      <td>891</td>\n",
       "      <td>204</td>\n",
       "      <td>889</td>\n",
       "    </tr>\n",
       "    <tr>\n",
       "      <th>unique</th>\n",
       "      <td>891</td>\n",
       "      <td>2</td>\n",
       "      <td>681</td>\n",
       "      <td>147</td>\n",
       "      <td>3</td>\n",
       "    </tr>\n",
       "    <tr>\n",
       "      <th>top</th>\n",
       "      <td>Brown, Mrs. James Joseph (Margaret Tobin)</td>\n",
       "      <td>male</td>\n",
       "      <td>347082</td>\n",
       "      <td>B96 B98</td>\n",
       "      <td>S</td>\n",
       "    </tr>\n",
       "    <tr>\n",
       "      <th>freq</th>\n",
       "      <td>1</td>\n",
       "      <td>577</td>\n",
       "      <td>7</td>\n",
       "      <td>4</td>\n",
       "      <td>644</td>\n",
       "    </tr>\n",
       "  </tbody>\n",
       "</table>\n",
       "</div>"
      ],
      "text/plain": [
       "                                             Name   Sex  Ticket    Cabin  \\\n",
       "count                                         891   891     891      204   \n",
       "unique                                        891     2     681      147   \n",
       "top     Brown, Mrs. James Joseph (Margaret Tobin)  male  347082  B96 B98   \n",
       "freq                                            1   577       7        4   \n",
       "\n",
       "       Embarked  \n",
       "count       889  \n",
       "unique        3  \n",
       "top           S  \n",
       "freq        644  "
      ]
     },
     "execution_count": 5,
     "metadata": {},
     "output_type": "execute_result"
    }
   ],
   "source": [
    "raw_train.describe(include = 'object')"
   ]
  },
  {
   "cell_type": "markdown",
   "id": "57e04955",
   "metadata": {},
   "source": [
    "#### 2.3. Checking the data types."
   ]
  },
  {
   "cell_type": "code",
   "execution_count": 6,
   "id": "df1d7648",
   "metadata": {},
   "outputs": [
    {
     "data": {
      "text/plain": [
       "Survived      int64\n",
       "Pclass        int64\n",
       "Name         object\n",
       "Sex          object\n",
       "Age         float64\n",
       "SibSp         int64\n",
       "Parch         int64\n",
       "Ticket       object\n",
       "Fare        float64\n",
       "Cabin        object\n",
       "Embarked     object\n",
       "dtype: object"
      ]
     },
     "execution_count": 6,
     "metadata": {},
     "output_type": "execute_result"
    }
   ],
   "source": [
    "raw_train.dtypes"
   ]
  },
  {
   "cell_type": "code",
   "execution_count": 7,
   "id": "e635524e",
   "metadata": {},
   "outputs": [
    {
     "name": "stdout",
     "output_type": "stream",
     "text": [
      "Data types are same in training and testing dataset: True\n"
     ]
    }
   ],
   "source": [
    "# Comparing the dtypes.\n",
    "\n",
    "print('Data types are same in training and testing dataset:', \n",
    "      all((raw_train.dtypes[1:] == raw_test.dtypes).values))\n"
   ]
  },
  {
   "cell_type": "markdown",
   "id": "09ffb70c",
   "metadata": {},
   "source": [
    "---\n",
    "### 3. EDA"
   ]
  },
  {
   "cell_type": "markdown",
   "id": "753ba70a",
   "metadata": {},
   "source": [
    "#### 3.1. Checking for null values."
   ]
  },
  {
   "cell_type": "code",
   "execution_count": 5,
   "id": "380f420a",
   "metadata": {},
   "outputs": [
    {
     "name": "stdout",
     "output_type": "stream",
     "text": [
      "Null columns in train data with more than 25% null values are: ['Cabin']\n",
      "Null columns in test data with more than 25% null values are: ['Cabin']\n"
     ]
    }
   ],
   "source": [
    "train_null_data = (raw_train.isnull().sum()/raw_train.shape[0])*100\n",
    "train_null_col25 = train_null_data[train_null_data > 25].keys().to_list()\n",
    "\n",
    "test_null_data = (raw_test.isnull().sum()/raw_test.shape[0])*100\n",
    "test_null_col25 = test_null_data[test_null_data > 25].keys().to_list()\n",
    "\n",
    "print('Null columns in train data with more than 25% null values are:', \n",
    "      train_null_col25)\n",
    "print('Null columns in test data with more than 25% null values are:', \n",
    "      test_null_col25)"
   ]
  },
  {
   "cell_type": "code",
   "execution_count": 6,
   "id": "5c0997a0",
   "metadata": {},
   "outputs": [],
   "source": [
    "# Checking whether the above column can be dropped or not.\n",
    "\n",
    "# 1) 891 tickets are present so everyone should have a Cabin.\n",
    "# 2) If the null values are filled with 'mode' or 'median' values then more \n",
    "# people will have same Cabin which cannot be True.\n",
    "\n",
    "# Dropping 'Cabin' column from both the dataset.\n",
    "raw_train.drop(columns = 'Cabin', inplace = True)\n",
    "raw_test.drop(columns = 'Cabin', inplace = True)"
   ]
  },
  {
   "cell_type": "markdown",
   "id": "2f9731d8",
   "metadata": {},
   "source": [
    "#### 3.2. Checking columns with low variance."
   ]
  },
  {
   "cell_type": "code",
   "execution_count": 10,
   "id": "1072fec4",
   "metadata": {},
   "outputs": [
    {
     "data": {
      "text/plain": [
       "Survived       0.236772\n",
       "Pclass         0.699015\n",
       "Age          211.019125\n",
       "SibSp          1.216043\n",
       "Parch          0.649728\n",
       "Fare        2469.436846\n",
       "dtype: float64"
      ]
     },
     "execution_count": 10,
     "metadata": {},
     "output_type": "execute_result"
    }
   ],
   "source": [
    "# Columns with low variance.\n",
    "\n",
    "raw_train.var()"
   ]
  },
  {
   "cell_type": "code",
   "execution_count": 11,
   "id": "75dc9aef",
   "metadata": {},
   "outputs": [],
   "source": [
    "# The above columns have low variance due to low value range except age."
   ]
  },
  {
   "cell_type": "code",
   "execution_count": 9,
   "id": "98b4c1e4",
   "metadata": {},
   "outputs": [],
   "source": [
    "# Making changes in Name column.\n",
    "\n",
    "import re"
   ]
  },
  {
   "cell_type": "code",
   "execution_count": 10,
   "id": "910d9e9f",
   "metadata": {},
   "outputs": [],
   "source": [
    "def extract_desig(data):\n",
    "    pattern = re.compile(',\\s\\w+')\n",
    "    match_list = []\n",
    "\n",
    "    for string in list(data.Name.values):\n",
    "        matches = pattern.finditer(string)\n",
    "\n",
    "        for match in matches:\n",
    "            match_list.append(match[0][2:])\n",
    "            \n",
    "    return match_list"
   ]
  },
  {
   "cell_type": "code",
   "execution_count": 11,
   "id": "86dfc3d0",
   "metadata": {},
   "outputs": [],
   "source": [
    "raw_train['Desig'] = extract_desig(raw_train)\n",
    "raw_test['Desig'] = extract_desig(raw_test)"
   ]
  },
  {
   "cell_type": "code",
   "execution_count": 12,
   "id": "da777195",
   "metadata": {},
   "outputs": [
    {
     "data": {
      "text/plain": [
       "Index(['Mr', 'Miss', 'Mrs', 'Master', 'Dr', 'Rev', 'Col', 'Major', 'Mlle',\n",
       "       'Mme', 'Capt', 'Don', 'Ms', 'Lady', 'Sir', 'Jonkheer', 'the'],\n",
       "      dtype='object')"
      ]
     },
     "execution_count": 12,
     "metadata": {},
     "output_type": "execute_result"
    }
   ],
   "source": [
    "raw_train['Desig'].value_counts().keys()"
   ]
  },
  {
   "cell_type": "code",
   "execution_count": 13,
   "id": "214160a3",
   "metadata": {},
   "outputs": [
    {
     "data": {
      "text/plain": [
       "Index(['Mr', 'Miss', 'Mrs', 'Master', 'Col', 'Rev', 'Ms', 'Dona', 'Dr'], dtype='object')"
      ]
     },
     "execution_count": 13,
     "metadata": {},
     "output_type": "execute_result"
    }
   ],
   "source": [
    "raw_test['Desig'].value_counts().keys()"
   ]
  },
  {
   "cell_type": "code",
   "execution_count": 14,
   "id": "5b0587d7",
   "metadata": {},
   "outputs": [
    {
     "data": {
      "text/plain": [
       "['Sir', 'Lady', 'Major', 'Don', 'Mme', 'Capt', 'Mlle', 'Jonkheer', 'the']"
      ]
     },
     "execution_count": 14,
     "metadata": {},
     "output_type": "execute_result"
    }
   ],
   "source": [
    "list(set(raw_train['Desig'].value_counts().keys()).difference(set(raw_test['Desig'].value_counts().keys())))"
   ]
  },
  {
   "cell_type": "code",
   "execution_count": 15,
   "id": "1bf9b9fb",
   "metadata": {},
   "outputs": [],
   "source": [
    "check_desig = ['Rev', 'Mlle', 'the',  'Jonkheer', 'Mme', 'Don']\n",
    "vals = False\n",
    "\n",
    "for des in check_desig:\n",
    "    vals = vals | (raw_train.Desig == des)"
   ]
  },
  {
   "cell_type": "code",
   "execution_count": 16,
   "id": "78cc3728",
   "metadata": {},
   "outputs": [
    {
     "data": {
      "text/html": [
       "<div>\n",
       "<style scoped>\n",
       "    .dataframe tbody tr th:only-of-type {\n",
       "        vertical-align: middle;\n",
       "    }\n",
       "\n",
       "    .dataframe tbody tr th {\n",
       "        vertical-align: top;\n",
       "    }\n",
       "\n",
       "    .dataframe thead th {\n",
       "        text-align: right;\n",
       "    }\n",
       "</style>\n",
       "<table border=\"1\" class=\"dataframe\">\n",
       "  <thead>\n",
       "    <tr style=\"text-align: right;\">\n",
       "      <th></th>\n",
       "      <th>Survived</th>\n",
       "      <th>Pclass</th>\n",
       "      <th>Name</th>\n",
       "      <th>Sex</th>\n",
       "      <th>Age</th>\n",
       "      <th>SibSp</th>\n",
       "      <th>Parch</th>\n",
       "      <th>Ticket</th>\n",
       "      <th>Fare</th>\n",
       "      <th>Embarked</th>\n",
       "      <th>Desig</th>\n",
       "    </tr>\n",
       "  </thead>\n",
       "  <tbody>\n",
       "    <tr>\n",
       "      <th>30</th>\n",
       "      <td>0</td>\n",
       "      <td>1</td>\n",
       "      <td>Uruchurtu, Don. Manuel E</td>\n",
       "      <td>male</td>\n",
       "      <td>40.0</td>\n",
       "      <td>0</td>\n",
       "      <td>0</td>\n",
       "      <td>PC 17601</td>\n",
       "      <td>27.7208</td>\n",
       "      <td>C</td>\n",
       "      <td>Don</td>\n",
       "    </tr>\n",
       "    <tr>\n",
       "      <th>149</th>\n",
       "      <td>0</td>\n",
       "      <td>2</td>\n",
       "      <td>Byles, Rev. Thomas Roussel Davids</td>\n",
       "      <td>male</td>\n",
       "      <td>42.0</td>\n",
       "      <td>0</td>\n",
       "      <td>0</td>\n",
       "      <td>244310</td>\n",
       "      <td>13.0000</td>\n",
       "      <td>S</td>\n",
       "      <td>Rev</td>\n",
       "    </tr>\n",
       "    <tr>\n",
       "      <th>150</th>\n",
       "      <td>0</td>\n",
       "      <td>2</td>\n",
       "      <td>Bateman, Rev. Robert James</td>\n",
       "      <td>male</td>\n",
       "      <td>51.0</td>\n",
       "      <td>0</td>\n",
       "      <td>0</td>\n",
       "      <td>S.O.P. 1166</td>\n",
       "      <td>12.5250</td>\n",
       "      <td>S</td>\n",
       "      <td>Rev</td>\n",
       "    </tr>\n",
       "    <tr>\n",
       "      <th>249</th>\n",
       "      <td>0</td>\n",
       "      <td>2</td>\n",
       "      <td>Carter, Rev. Ernest Courtenay</td>\n",
       "      <td>male</td>\n",
       "      <td>54.0</td>\n",
       "      <td>1</td>\n",
       "      <td>0</td>\n",
       "      <td>244252</td>\n",
       "      <td>26.0000</td>\n",
       "      <td>S</td>\n",
       "      <td>Rev</td>\n",
       "    </tr>\n",
       "    <tr>\n",
       "      <th>369</th>\n",
       "      <td>1</td>\n",
       "      <td>1</td>\n",
       "      <td>Aubart, Mme. Leontine Pauline</td>\n",
       "      <td>female</td>\n",
       "      <td>24.0</td>\n",
       "      <td>0</td>\n",
       "      <td>0</td>\n",
       "      <td>PC 17477</td>\n",
       "      <td>69.3000</td>\n",
       "      <td>C</td>\n",
       "      <td>Mme</td>\n",
       "    </tr>\n",
       "    <tr>\n",
       "      <th>626</th>\n",
       "      <td>0</td>\n",
       "      <td>2</td>\n",
       "      <td>Kirkland, Rev. Charles Leonard</td>\n",
       "      <td>male</td>\n",
       "      <td>57.0</td>\n",
       "      <td>0</td>\n",
       "      <td>0</td>\n",
       "      <td>219533</td>\n",
       "      <td>12.3500</td>\n",
       "      <td>Q</td>\n",
       "      <td>Rev</td>\n",
       "    </tr>\n",
       "    <tr>\n",
       "      <th>641</th>\n",
       "      <td>1</td>\n",
       "      <td>1</td>\n",
       "      <td>Sagesser, Mlle. Emma</td>\n",
       "      <td>female</td>\n",
       "      <td>24.0</td>\n",
       "      <td>0</td>\n",
       "      <td>0</td>\n",
       "      <td>PC 17477</td>\n",
       "      <td>69.3000</td>\n",
       "      <td>C</td>\n",
       "      <td>Mlle</td>\n",
       "    </tr>\n",
       "    <tr>\n",
       "      <th>710</th>\n",
       "      <td>1</td>\n",
       "      <td>1</td>\n",
       "      <td>Mayne, Mlle. Berthe Antonine (\"Mrs de Villiers\")</td>\n",
       "      <td>female</td>\n",
       "      <td>24.0</td>\n",
       "      <td>0</td>\n",
       "      <td>0</td>\n",
       "      <td>PC 17482</td>\n",
       "      <td>49.5042</td>\n",
       "      <td>C</td>\n",
       "      <td>Mlle</td>\n",
       "    </tr>\n",
       "    <tr>\n",
       "      <th>759</th>\n",
       "      <td>1</td>\n",
       "      <td>1</td>\n",
       "      <td>Rothes, the Countess. of (Lucy Noel Martha Dye...</td>\n",
       "      <td>female</td>\n",
       "      <td>33.0</td>\n",
       "      <td>0</td>\n",
       "      <td>0</td>\n",
       "      <td>110152</td>\n",
       "      <td>86.5000</td>\n",
       "      <td>S</td>\n",
       "      <td>the</td>\n",
       "    </tr>\n",
       "    <tr>\n",
       "      <th>822</th>\n",
       "      <td>0</td>\n",
       "      <td>1</td>\n",
       "      <td>Reuchlin, Jonkheer. John George</td>\n",
       "      <td>male</td>\n",
       "      <td>38.0</td>\n",
       "      <td>0</td>\n",
       "      <td>0</td>\n",
       "      <td>19972</td>\n",
       "      <td>0.0000</td>\n",
       "      <td>S</td>\n",
       "      <td>Jonkheer</td>\n",
       "    </tr>\n",
       "    <tr>\n",
       "      <th>848</th>\n",
       "      <td>0</td>\n",
       "      <td>2</td>\n",
       "      <td>Harper, Rev. John</td>\n",
       "      <td>male</td>\n",
       "      <td>28.0</td>\n",
       "      <td>0</td>\n",
       "      <td>1</td>\n",
       "      <td>248727</td>\n",
       "      <td>33.0000</td>\n",
       "      <td>S</td>\n",
       "      <td>Rev</td>\n",
       "    </tr>\n",
       "    <tr>\n",
       "      <th>886</th>\n",
       "      <td>0</td>\n",
       "      <td>2</td>\n",
       "      <td>Montvila, Rev. Juozas</td>\n",
       "      <td>male</td>\n",
       "      <td>27.0</td>\n",
       "      <td>0</td>\n",
       "      <td>0</td>\n",
       "      <td>211536</td>\n",
       "      <td>13.0000</td>\n",
       "      <td>S</td>\n",
       "      <td>Rev</td>\n",
       "    </tr>\n",
       "  </tbody>\n",
       "</table>\n",
       "</div>"
      ],
      "text/plain": [
       "     Survived  Pclass                                               Name  \\\n",
       "30          0       1                           Uruchurtu, Don. Manuel E   \n",
       "149         0       2                  Byles, Rev. Thomas Roussel Davids   \n",
       "150         0       2                         Bateman, Rev. Robert James   \n",
       "249         0       2                      Carter, Rev. Ernest Courtenay   \n",
       "369         1       1                      Aubart, Mme. Leontine Pauline   \n",
       "626         0       2                     Kirkland, Rev. Charles Leonard   \n",
       "641         1       1                               Sagesser, Mlle. Emma   \n",
       "710         1       1   Mayne, Mlle. Berthe Antonine (\"Mrs de Villiers\")   \n",
       "759         1       1  Rothes, the Countess. of (Lucy Noel Martha Dye...   \n",
       "822         0       1                    Reuchlin, Jonkheer. John George   \n",
       "848         0       2                                  Harper, Rev. John   \n",
       "886         0       2                              Montvila, Rev. Juozas   \n",
       "\n",
       "        Sex   Age  SibSp  Parch       Ticket     Fare Embarked     Desig  \n",
       "30     male  40.0      0      0     PC 17601  27.7208        C       Don  \n",
       "149    male  42.0      0      0       244310  13.0000        S       Rev  \n",
       "150    male  51.0      0      0  S.O.P. 1166  12.5250        S       Rev  \n",
       "249    male  54.0      1      0       244252  26.0000        S       Rev  \n",
       "369  female  24.0      0      0     PC 17477  69.3000        C       Mme  \n",
       "626    male  57.0      0      0       219533  12.3500        Q       Rev  \n",
       "641  female  24.0      0      0     PC 17477  69.3000        C      Mlle  \n",
       "710  female  24.0      0      0     PC 17482  49.5042        C      Mlle  \n",
       "759  female  33.0      0      0       110152  86.5000        S       the  \n",
       "822    male  38.0      0      0        19972   0.0000        S  Jonkheer  \n",
       "848    male  28.0      0      1       248727  33.0000        S       Rev  \n",
       "886    male  27.0      0      0       211536  13.0000        S       Rev  "
      ]
     },
     "execution_count": 16,
     "metadata": {},
     "output_type": "execute_result"
    }
   ],
   "source": [
    "raw_train[vals]"
   ]
  },
  {
   "cell_type": "code",
   "execution_count": 17,
   "id": "972a0117",
   "metadata": {},
   "outputs": [],
   "source": [
    "raw_test['Desig'].replace('Dona', 'Don', inplace = True)"
   ]
  },
  {
   "cell_type": "code",
   "execution_count": 18,
   "id": "4a5542a1",
   "metadata": {},
   "outputs": [
    {
     "data": {
      "text/plain": [
       "Index(['Mr', 'Miss', 'Mrs', 'Master', 'Col', 'Rev', 'Don', 'Ms', 'Dr'], dtype='object')"
      ]
     },
     "execution_count": 18,
     "metadata": {},
     "output_type": "execute_result"
    }
   ],
   "source": [
    "raw_test['Desig'].value_counts().keys()"
   ]
  },
  {
   "cell_type": "code",
   "execution_count": 19,
   "id": "b0a5b02b",
   "metadata": {},
   "outputs": [
    {
     "name": "stdout",
     "output_type": "stream",
     "text": [
      "Raw train data shape: (891, 10)\n",
      "Raw test data shape: (418, 9)\n"
     ]
    }
   ],
   "source": [
    "raw_train.drop(columns = ['Name'], inplace = True)\n",
    "raw_test.drop(columns = ['Name'], inplace = True)\n",
    "\n",
    "print('Raw train data shape:', raw_train.shape)\n",
    "print('Raw test data shape:', raw_test.shape)"
   ]
  },
  {
   "cell_type": "code",
   "execution_count": 25,
   "id": "44cd320f",
   "metadata": {},
   "outputs": [
    {
     "data": {
      "image/png": "[encoded data removed]",
      "text/plain": [
       "<Figure size 432x288 with 1 Axes>"
      ]
     },
     "metadata": {
      "needs_background": "light"
     },
     "output_type": "display_data"
    }
   ],
   "source": [
    "sb.countplot(x = raw_train.Desig, \n",
    "             hue = raw_train.Survived)\n",
    "plt.show()"
   ]
  },
  {
   "cell_type": "markdown",
   "id": "12d5bfe5",
   "metadata": {},
   "source": [
    "#### 3.3. Splitting the data."
   ]
  },
  {
   "cell_type": "code",
   "execution_count": 20,
   "id": "f39a4b47",
   "metadata": {},
   "outputs": [],
   "source": [
    "# Splitting data.\n",
    "# Data is too small using stratified shuffle split\n",
    "\n",
    "from sklearn.model_selection import StratifiedShuffleSplit\n",
    "\n",
    "splitter = StratifiedShuffleSplit(n_splits = 1, test_size = 0.2, \n",
    "                                  random_state = 0)\n",
    "\n",
    "for train_index, valid_index in splitter.split(raw_train, raw_train['Survived']):\n",
    "    train_data = raw_train.iloc[train_index]\n",
    "    valid_data = raw_train.iloc[valid_index]\n",
    "    \n",
    "train_data.reset_index(drop = True, inplace = True)\n",
    "valid_data.reset_index(drop = True, inplace = True)"
   ]
  },
  {
   "cell_type": "code",
   "execution_count": 21,
   "id": "4550600c",
   "metadata": {},
   "outputs": [
    {
     "name": "stdout",
     "output_type": "stream",
     "text": [
      "Shape of training data: (712, 10)\n",
      "Shape of testing data: (179, 10)\n"
     ]
    }
   ],
   "source": [
    "# Checking the shapes.\n",
    "\n",
    "print('Shape of training data:', train_data.shape)\n",
    "print('Shape of testing data:', valid_data.shape)"
   ]
  },
  {
   "cell_type": "code",
   "execution_count": 176,
   "id": "eb9da7b2",
   "metadata": {},
   "outputs": [
    {
     "data": {
      "image/png": "[encoded data removed]",
      "text/plain": [
       "<Figure size 432x288 with 2 Axes>"
      ]
     },
     "metadata": {},
     "output_type": "display_data"
    }
   ],
   "source": [
    "# Checking the proportions.\n",
    "\n",
    "pie_train = train_data['Survived'].value_counts()/train_data.shape[0]*100\n",
    "pie_valid = valid_data['Survived'].value_counts()/valid_data.shape[0]*100\n",
    "\n",
    "plt.Figure(figsize = (8, 8))\n",
    "plt.subplot(121)\n",
    "plt.title('Train data')\n",
    "plt.pie(x = pie_train.to_list(), labels = pie_train.index.to_list(), \n",
    "        autopct = '%1.2f%%')\n",
    "\n",
    "plt.subplot(122)\n",
    "plt.title('Valid data')\n",
    "plt.pie(x = pie_valid.to_list(), labels = pie_valid.index.to_list(), \n",
    "        autopct = '%1.2f%%')\n",
    "plt.show()"
   ]
  },
  {
   "cell_type": "markdown",
   "id": "ef41a1a3",
   "metadata": {},
   "source": [
    "#### 3.4. Checking for valid zeros."
   ]
  },
  {
   "cell_type": "code",
   "execution_count": 28,
   "id": "7d6840f6",
   "metadata": {},
   "outputs": [
    {
     "data": {
      "text/plain": [
       "Survived    439\n",
       "Pclass        0\n",
       "Sex           0\n",
       "Age           0\n",
       "SibSp       486\n",
       "Parch       546\n",
       "Ticket        0\n",
       "Fare         12\n",
       "Embarked      0\n",
       "Desig         0\n",
       "dtype: int64"
      ]
     },
     "execution_count": 28,
     "metadata": {},
     "output_type": "execute_result"
    }
   ],
   "source": [
    "(train_data == 0).sum()"
   ]
  },
  {
   "cell_type": "code",
   "execution_count": 29,
   "id": "20bcc0af",
   "metadata": {},
   "outputs": [
    {
     "data": {
      "text/html": [
       "<div>\n",
       "<style scoped>\n",
       "    .dataframe tbody tr th:only-of-type {\n",
       "        vertical-align: middle;\n",
       "    }\n",
       "\n",
       "    .dataframe tbody tr th {\n",
       "        vertical-align: top;\n",
       "    }\n",
       "\n",
       "    .dataframe thead th {\n",
       "        text-align: right;\n",
       "    }\n",
       "</style>\n",
       "<table border=\"1\" class=\"dataframe\">\n",
       "  <thead>\n",
       "    <tr style=\"text-align: right;\">\n",
       "      <th></th>\n",
       "      <th>Survived</th>\n",
       "      <th>Pclass</th>\n",
       "      <th>Sex</th>\n",
       "      <th>Age</th>\n",
       "      <th>SibSp</th>\n",
       "      <th>Parch</th>\n",
       "      <th>Ticket</th>\n",
       "      <th>Fare</th>\n",
       "      <th>Embarked</th>\n",
       "      <th>Desig</th>\n",
       "    </tr>\n",
       "  </thead>\n",
       "  <tbody>\n",
       "    <tr>\n",
       "      <th>28</th>\n",
       "      <td>0</td>\n",
       "      <td>3</td>\n",
       "      <td>male</td>\n",
       "      <td>49.0</td>\n",
       "      <td>0</td>\n",
       "      <td>0</td>\n",
       "      <td>LINE</td>\n",
       "      <td>0.0</td>\n",
       "      <td>S</td>\n",
       "      <td>Mr</td>\n",
       "    </tr>\n",
       "    <tr>\n",
       "      <th>45</th>\n",
       "      <td>0</td>\n",
       "      <td>2</td>\n",
       "      <td>male</td>\n",
       "      <td>NaN</td>\n",
       "      <td>0</td>\n",
       "      <td>0</td>\n",
       "      <td>239856</td>\n",
       "      <td>0.0</td>\n",
       "      <td>S</td>\n",
       "      <td>Mr</td>\n",
       "    </tr>\n",
       "    <tr>\n",
       "      <th>62</th>\n",
       "      <td>0</td>\n",
       "      <td>1</td>\n",
       "      <td>male</td>\n",
       "      <td>NaN</td>\n",
       "      <td>0</td>\n",
       "      <td>0</td>\n",
       "      <td>112058</td>\n",
       "      <td>0.0</td>\n",
       "      <td>S</td>\n",
       "      <td>Mr</td>\n",
       "    </tr>\n",
       "    <tr>\n",
       "      <th>208</th>\n",
       "      <td>0</td>\n",
       "      <td>1</td>\n",
       "      <td>male</td>\n",
       "      <td>40.0</td>\n",
       "      <td>0</td>\n",
       "      <td>0</td>\n",
       "      <td>112059</td>\n",
       "      <td>0.0</td>\n",
       "      <td>S</td>\n",
       "      <td>Mr</td>\n",
       "    </tr>\n",
       "    <tr>\n",
       "      <th>218</th>\n",
       "      <td>0</td>\n",
       "      <td>1</td>\n",
       "      <td>male</td>\n",
       "      <td>38.0</td>\n",
       "      <td>0</td>\n",
       "      <td>0</td>\n",
       "      <td>19972</td>\n",
       "      <td>0.0</td>\n",
       "      <td>S</td>\n",
       "      <td>Jonkheer</td>\n",
       "    </tr>\n",
       "    <tr>\n",
       "      <th>258</th>\n",
       "      <td>0</td>\n",
       "      <td>3</td>\n",
       "      <td>male</td>\n",
       "      <td>36.0</td>\n",
       "      <td>0</td>\n",
       "      <td>0</td>\n",
       "      <td>LINE</td>\n",
       "      <td>0.0</td>\n",
       "      <td>S</td>\n",
       "      <td>Mr</td>\n",
       "    </tr>\n",
       "    <tr>\n",
       "      <th>314</th>\n",
       "      <td>0</td>\n",
       "      <td>2</td>\n",
       "      <td>male</td>\n",
       "      <td>NaN</td>\n",
       "      <td>0</td>\n",
       "      <td>0</td>\n",
       "      <td>239855</td>\n",
       "      <td>0.0</td>\n",
       "      <td>S</td>\n",
       "      <td>Mr</td>\n",
       "    </tr>\n",
       "    <tr>\n",
       "      <th>349</th>\n",
       "      <td>0</td>\n",
       "      <td>1</td>\n",
       "      <td>male</td>\n",
       "      <td>39.0</td>\n",
       "      <td>0</td>\n",
       "      <td>0</td>\n",
       "      <td>112050</td>\n",
       "      <td>0.0</td>\n",
       "      <td>S</td>\n",
       "      <td>Mr</td>\n",
       "    </tr>\n",
       "    <tr>\n",
       "      <th>386</th>\n",
       "      <td>0</td>\n",
       "      <td>2</td>\n",
       "      <td>male</td>\n",
       "      <td>NaN</td>\n",
       "      <td>0</td>\n",
       "      <td>0</td>\n",
       "      <td>239853</td>\n",
       "      <td>0.0</td>\n",
       "      <td>S</td>\n",
       "      <td>Mr</td>\n",
       "    </tr>\n",
       "    <tr>\n",
       "      <th>420</th>\n",
       "      <td>0</td>\n",
       "      <td>2</td>\n",
       "      <td>male</td>\n",
       "      <td>NaN</td>\n",
       "      <td>0</td>\n",
       "      <td>0</td>\n",
       "      <td>239853</td>\n",
       "      <td>0.0</td>\n",
       "      <td>S</td>\n",
       "      <td>Mr</td>\n",
       "    </tr>\n",
       "    <tr>\n",
       "      <th>450</th>\n",
       "      <td>1</td>\n",
       "      <td>3</td>\n",
       "      <td>male</td>\n",
       "      <td>25.0</td>\n",
       "      <td>0</td>\n",
       "      <td>0</td>\n",
       "      <td>LINE</td>\n",
       "      <td>0.0</td>\n",
       "      <td>S</td>\n",
       "      <td>Mr</td>\n",
       "    </tr>\n",
       "    <tr>\n",
       "      <th>533</th>\n",
       "      <td>0</td>\n",
       "      <td>2</td>\n",
       "      <td>male</td>\n",
       "      <td>NaN</td>\n",
       "      <td>0</td>\n",
       "      <td>0</td>\n",
       "      <td>239854</td>\n",
       "      <td>0.0</td>\n",
       "      <td>S</td>\n",
       "      <td>Mr</td>\n",
       "    </tr>\n",
       "  </tbody>\n",
       "</table>\n",
       "</div>"
      ],
      "text/plain": [
       "     Survived  Pclass   Sex   Age  SibSp  Parch  Ticket  Fare Embarked  \\\n",
       "28          0       3  male  49.0      0      0    LINE   0.0        S   \n",
       "45          0       2  male   NaN      0      0  239856   0.0        S   \n",
       "62          0       1  male   NaN      0      0  112058   0.0        S   \n",
       "208         0       1  male  40.0      0      0  112059   0.0        S   \n",
       "218         0       1  male  38.0      0      0   19972   0.0        S   \n",
       "258         0       3  male  36.0      0      0    LINE   0.0        S   \n",
       "314         0       2  male   NaN      0      0  239855   0.0        S   \n",
       "349         0       1  male  39.0      0      0  112050   0.0        S   \n",
       "386         0       2  male   NaN      0      0  239853   0.0        S   \n",
       "420         0       2  male   NaN      0      0  239853   0.0        S   \n",
       "450         1       3  male  25.0      0      0    LINE   0.0        S   \n",
       "533         0       2  male   NaN      0      0  239854   0.0        S   \n",
       "\n",
       "        Desig  \n",
       "28         Mr  \n",
       "45         Mr  \n",
       "62         Mr  \n",
       "208        Mr  \n",
       "218  Jonkheer  \n",
       "258        Mr  \n",
       "314        Mr  \n",
       "349        Mr  \n",
       "386        Mr  \n",
       "420        Mr  \n",
       "450        Mr  \n",
       "533        Mr  "
      ]
     },
     "execution_count": 29,
     "metadata": {},
     "output_type": "execute_result"
    }
   ],
   "source": [
    "# Survived, SibSp and Parch columns can have zero values.\n",
    "# Checking for Fare.\n",
    "\n",
    "train_data[train_data['Fare'] == 0]"
   ]
  },
  {
   "cell_type": "code",
   "execution_count": 22,
   "id": "2c12d11e",
   "metadata": {},
   "outputs": [
    {
     "data": {
      "text/plain": [
       "25.0"
      ]
     },
     "execution_count": 22,
     "metadata": {},
     "output_type": "execute_result"
    }
   ],
   "source": [
    "# Checking for minimum age.\n",
    "\n",
    "train_data[train_data['Fare'] == 0]['Age'].min()"
   ]
  },
  {
   "cell_type": "code",
   "execution_count": 23,
   "id": "35537057",
   "metadata": {},
   "outputs": [
    {
     "data": {
      "text/html": [
       "<div>\n",
       "<style scoped>\n",
       "    .dataframe tbody tr th:only-of-type {\n",
       "        vertical-align: middle;\n",
       "    }\n",
       "\n",
       "    .dataframe tbody tr th {\n",
       "        vertical-align: top;\n",
       "    }\n",
       "\n",
       "    .dataframe thead th {\n",
       "        text-align: right;\n",
       "    }\n",
       "</style>\n",
       "<table border=\"1\" class=\"dataframe\">\n",
       "  <thead>\n",
       "    <tr style=\"text-align: right;\">\n",
       "      <th></th>\n",
       "      <th>Survived</th>\n",
       "      <th>Pclass</th>\n",
       "      <th>Sex</th>\n",
       "      <th>Age</th>\n",
       "      <th>SibSp</th>\n",
       "      <th>Parch</th>\n",
       "      <th>Ticket</th>\n",
       "      <th>Fare</th>\n",
       "      <th>Embarked</th>\n",
       "      <th>Desig</th>\n",
       "    </tr>\n",
       "  </thead>\n",
       "  <tbody>\n",
       "    <tr>\n",
       "      <th>5</th>\n",
       "      <td>0</td>\n",
       "      <td>1</td>\n",
       "      <td>male</td>\n",
       "      <td>NaN</td>\n",
       "      <td>0</td>\n",
       "      <td>0</td>\n",
       "      <td>112052</td>\n",
       "      <td>0.0</td>\n",
       "      <td>S</td>\n",
       "      <td>Mr</td>\n",
       "    </tr>\n",
       "    <tr>\n",
       "      <th>111</th>\n",
       "      <td>0</td>\n",
       "      <td>2</td>\n",
       "      <td>male</td>\n",
       "      <td>NaN</td>\n",
       "      <td>0</td>\n",
       "      <td>0</td>\n",
       "      <td>239853</td>\n",
       "      <td>0.0</td>\n",
       "      <td>S</td>\n",
       "      <td>Mr</td>\n",
       "    </tr>\n",
       "    <tr>\n",
       "      <th>172</th>\n",
       "      <td>0</td>\n",
       "      <td>3</td>\n",
       "      <td>male</td>\n",
       "      <td>19.0</td>\n",
       "      <td>0</td>\n",
       "      <td>0</td>\n",
       "      <td>LINE</td>\n",
       "      <td>0.0</td>\n",
       "      <td>S</td>\n",
       "      <td>Mr</td>\n",
       "    </tr>\n",
       "  </tbody>\n",
       "</table>\n",
       "</div>"
      ],
      "text/plain": [
       "     Survived  Pclass   Sex   Age  SibSp  Parch  Ticket  Fare Embarked Desig\n",
       "5           0       1  male   NaN      0      0  112052   0.0        S    Mr\n",
       "111         0       2  male   NaN      0      0  239853   0.0        S    Mr\n",
       "172         0       3  male  19.0      0      0    LINE   0.0        S    Mr"
      ]
     },
     "execution_count": 23,
     "metadata": {},
     "output_type": "execute_result"
    }
   ],
   "source": [
    "valid_data[valid_data['Fare'] == 0]"
   ]
  },
  {
   "cell_type": "code",
   "execution_count": 24,
   "id": "a19da8c9",
   "metadata": {},
   "outputs": [
    {
     "data": {
      "text/plain": [
       "19.0"
      ]
     },
     "execution_count": 24,
     "metadata": {},
     "output_type": "execute_result"
    }
   ],
   "source": [
    "# Checking for minimum age.\n",
    "\n",
    "valid_data[valid_data['Fare'] == 0]['Age'].min()"
   ]
  },
  {
   "cell_type": "code",
   "execution_count": 25,
   "id": "f5d30eb8",
   "metadata": {},
   "outputs": [
    {
     "data": {
      "text/html": [
       "<div>\n",
       "<style scoped>\n",
       "    .dataframe tbody tr th:only-of-type {\n",
       "        vertical-align: middle;\n",
       "    }\n",
       "\n",
       "    .dataframe tbody tr th {\n",
       "        vertical-align: top;\n",
       "    }\n",
       "\n",
       "    .dataframe thead th {\n",
       "        text-align: right;\n",
       "    }\n",
       "</style>\n",
       "<table border=\"1\" class=\"dataframe\">\n",
       "  <thead>\n",
       "    <tr style=\"text-align: right;\">\n",
       "      <th></th>\n",
       "      <th>Pclass</th>\n",
       "      <th>Sex</th>\n",
       "      <th>Age</th>\n",
       "      <th>SibSp</th>\n",
       "      <th>Parch</th>\n",
       "      <th>Ticket</th>\n",
       "      <th>Fare</th>\n",
       "      <th>Embarked</th>\n",
       "      <th>Desig</th>\n",
       "    </tr>\n",
       "  </thead>\n",
       "  <tbody>\n",
       "    <tr>\n",
       "      <th>266</th>\n",
       "      <td>1</td>\n",
       "      <td>male</td>\n",
       "      <td>NaN</td>\n",
       "      <td>0</td>\n",
       "      <td>0</td>\n",
       "      <td>112051</td>\n",
       "      <td>0.0</td>\n",
       "      <td>S</td>\n",
       "      <td>Mr</td>\n",
       "    </tr>\n",
       "    <tr>\n",
       "      <th>372</th>\n",
       "      <td>1</td>\n",
       "      <td>male</td>\n",
       "      <td>49.0</td>\n",
       "      <td>0</td>\n",
       "      <td>0</td>\n",
       "      <td>112058</td>\n",
       "      <td>0.0</td>\n",
       "      <td>S</td>\n",
       "      <td>Mr</td>\n",
       "    </tr>\n",
       "  </tbody>\n",
       "</table>\n",
       "</div>"
      ],
      "text/plain": [
       "     Pclass   Sex   Age  SibSp  Parch  Ticket  Fare Embarked Desig\n",
       "266       1  male   NaN      0      0  112051   0.0        S    Mr\n",
       "372       1  male  49.0      0      0  112058   0.0        S    Mr"
      ]
     },
     "execution_count": 25,
     "metadata": {},
     "output_type": "execute_result"
    }
   ],
   "source": [
    "raw_test[raw_test['Fare'] == 0]"
   ]
  },
  {
   "cell_type": "code",
   "execution_count": 26,
   "id": "7a729bc2",
   "metadata": {},
   "outputs": [
    {
     "data": {
      "text/plain": [
       "49.0"
      ]
     },
     "execution_count": 26,
     "metadata": {},
     "output_type": "execute_result"
    }
   ],
   "source": [
    "# Checking for minimum age.\n",
    "\n",
    "raw_test[raw_test['Fare'] == 0]['Age'].min()"
   ]
  },
  {
   "cell_type": "code",
   "execution_count": 27,
   "id": "4855fd31",
   "metadata": {},
   "outputs": [],
   "source": [
    "# As we all know people with Age above 25 should pay for their ticket.\n",
    "# So, we need to replace those zeros."
   ]
  },
  {
   "cell_type": "markdown",
   "id": "266aaf8c",
   "metadata": {},
   "source": [
    "#### 3.5. Checking for null columns."
   ]
  },
  {
   "cell_type": "code",
   "execution_count": 28,
   "id": "8192fb22",
   "metadata": {},
   "outputs": [
    {
     "name": "stdout",
     "output_type": "stream",
     "text": [
      "Null columns in Training data are: ['Age', 'Embarked']\n",
      "Null columns in Validation data are: ['Age']\n",
      "Null columns in Test data are: ['Age', 'Fare']\n"
     ]
    }
   ],
   "source": [
    "# Finding null columns.\n",
    "\n",
    "train_null_data = train_data.isnull().sum()\n",
    "train_null_cols = train_null_data[train_null_data > 0].keys().to_list()\n",
    "\n",
    "valid_null_data = valid_data.isnull().sum()\n",
    "valid_null_cols = valid_null_data[valid_null_data > 0].keys().to_list()\n",
    "\n",
    "test_null_data = raw_test.isnull().sum()\n",
    "test_null_cols = test_null_data[test_null_data > 0].keys().to_list()\n",
    "\n",
    "print('Null columns in Training data are:', train_null_cols)\n",
    "print('Null columns in Validation data are:', valid_null_cols)\n",
    "print('Null columns in Test data are:', test_null_cols)"
   ]
  },
  {
   "cell_type": "markdown",
   "id": "d1e94476",
   "metadata": {},
   "source": [
    "#### 3.6. Imputing the data."
   ]
  },
  {
   "cell_type": "code",
   "execution_count": 29,
   "id": "9545ee8e",
   "metadata": {},
   "outputs": [],
   "source": [
    "from sklearn.impute import SimpleImputer"
   ]
  },
  {
   "cell_type": "code",
   "execution_count": 30,
   "id": "8f64586e",
   "metadata": {},
   "outputs": [
    {
     "name": "stdout",
     "output_type": "stream",
     "text": [
      "Shape of trainig data: (712, 10)\n",
      "Shape of valid data: (179, 10)\n",
      "Shape of testing data: (418, 9)\n"
     ]
    }
   ],
   "source": [
    "imp = SimpleImputer(strategy = 'most_frequent')\n",
    "\n",
    "train_data_ = train_data.drop(columns = 'Survived')\n",
    "valid_data_ = valid_data.drop(columns = 'Survived')\n",
    "\n",
    "temp_train_data = imp.fit_transform(train_data_)\n",
    "temp_valid_data = imp.transform(valid_data_)\n",
    "temp_test_data = imp.transform(raw_test)\n",
    "\n",
    "imp_train_data = pd.DataFrame(temp_train_data, \n",
    "                              columns = train_data_.columns.to_list())\n",
    "imp_valid_data = pd.DataFrame(temp_valid_data, \n",
    "                              columns = valid_data_.columns.to_list())\n",
    "imp_test_data = pd.DataFrame(temp_test_data, \n",
    "                             columns = raw_test.columns.to_list())\n",
    "\n",
    "imp_train_data = pd.concat([imp_train_data, train_data['Survived']], \n",
    "                           axis = 1)\n",
    "imp_valid_data = pd.concat([imp_valid_data, valid_data['Survived']], \n",
    "                           axis = 1)\n",
    "\n",
    "print('Shape of trainig data:', imp_train_data.shape)\n",
    "print('Shape of valid data:',imp_valid_data.shape)\n",
    "print('Shape of testing data:',imp_test_data.shape)"
   ]
  },
  {
   "cell_type": "code",
   "execution_count": 31,
   "id": "ad7a6e91",
   "metadata": {},
   "outputs": [
    {
     "name": "stdout",
     "output_type": "stream",
     "text": [
      "Null values in trainig data: 0\n",
      "Null values in valid data: 0\n",
      "Null values in testing data: 0\n"
     ]
    }
   ],
   "source": [
    "# Cross checking for null values.\n",
    "\n",
    "print('Null values in trainig data:',imp_train_data.isnull().sum().sum())\n",
    "print('Null values in valid data:',imp_valid_data.isnull().sum().sum())\n",
    "print('Null values in testing data:',imp_test_data.isnull().sum().sum())"
   ]
  },
  {
   "cell_type": "markdown",
   "id": "48fb4042",
   "metadata": {},
   "source": [
    "#### 3.7. Correcting the data type."
   ]
  },
  {
   "cell_type": "code",
   "execution_count": 32,
   "id": "015d095f",
   "metadata": {},
   "outputs": [],
   "source": [
    "cols = imp_train_data.columns.to_list()\n",
    "cols.remove('Survived')\n",
    "\n",
    "for col in cols:\n",
    "    imp_train_data[col] = imp_train_data[col].astype(type(imp_train_data[col][0]))\n",
    "    imp_valid_data[col] = imp_valid_data[col].astype(type(imp_valid_data[col][0]))\n",
    "    imp_test_data[col] = imp_test_data[col].astype(type(imp_test_data[col][0]))"
   ]
  },
  {
   "cell_type": "code",
   "execution_count": 33,
   "id": "3547f5da",
   "metadata": {},
   "outputs": [
    {
     "data": {
      "text/plain": [
       "Pclass        int32\n",
       "Sex          object\n",
       "Age         float64\n",
       "SibSp         int32\n",
       "Parch         int32\n",
       "Ticket       object\n",
       "Fare        float64\n",
       "Embarked     object\n",
       "Desig        object\n",
       "Survived      int64\n",
       "dtype: object"
      ]
     },
     "execution_count": 33,
     "metadata": {},
     "output_type": "execute_result"
    }
   ],
   "source": [
    "# Cross checking\n",
    "\n",
    "imp_train_data.dtypes"
   ]
  },
  {
   "cell_type": "markdown",
   "id": "a50fef25",
   "metadata": {},
   "source": [
    "#### 3.8. Filling the zero values."
   ]
  },
  {
   "cell_type": "code",
   "execution_count": 34,
   "id": "0b2998d7",
   "metadata": {},
   "outputs": [],
   "source": [
    "zero_fare = imp_train_data[['Fare', 'Age']].groupby('Age').mean().to_dict()['Fare']\n",
    "fare_index = imp_train_data.columns.get_indexer(['Fare'])\n",
    "\n",
    "for index in imp_train_data[imp_train_data['Fare'] == 0].index:\n",
    "    val = zero_fare[imp_train_data.iloc[index, :]['Age']]\n",
    "    imp_train_data.iloc[index, fare_index] = val"
   ]
  },
  {
   "cell_type": "code",
   "execution_count": 35,
   "id": "04967f1f",
   "metadata": {},
   "outputs": [
    {
     "data": {
      "text/plain": [
       "False"
      ]
     },
     "execution_count": 35,
     "metadata": {},
     "output_type": "execute_result"
    }
   ],
   "source": [
    "# Cross checking\n",
    "\n",
    "any(imp_train_data['Fare'] == 0)"
   ]
  },
  {
   "cell_type": "code",
   "execution_count": 36,
   "id": "5aa5f2a5",
   "metadata": {},
   "outputs": [
    {
     "data": {
      "text/plain": [
       "False"
      ]
     },
     "execution_count": 36,
     "metadata": {},
     "output_type": "execute_result"
    }
   ],
   "source": [
    "zero_fare = imp_valid_data[['Fare', 'Age']].groupby('Age').mean().to_dict()['Fare']\n",
    "fare_index = imp_valid_data.columns.get_indexer(['Fare'])\n",
    "\n",
    "for index in imp_valid_data[imp_valid_data['Fare'] == 0].index:\n",
    "    val = zero_fare[imp_valid_data.iloc[index, :]['Age']]\n",
    "    imp_valid_data.iloc[index, fare_index] = val\n",
    "    \n",
    "# Cross checking\n",
    "any(imp_valid_data['Fare'] == 0)"
   ]
  },
  {
   "cell_type": "code",
   "execution_count": 37,
   "id": "0952f02d",
   "metadata": {},
   "outputs": [
    {
     "data": {
      "text/plain": [
       "False"
      ]
     },
     "execution_count": 37,
     "metadata": {},
     "output_type": "execute_result"
    }
   ],
   "source": [
    "zero_fare = imp_test_data[['Fare', 'Age']].groupby('Age').mean().to_dict()['Fare']\n",
    "fare_index = imp_test_data.columns.get_indexer(['Fare'])\n",
    "\n",
    "for index in imp_test_data[imp_test_data['Fare'] == 0].index:\n",
    "    val = zero_fare[imp_test_data.iloc[index, :]['Age']]\n",
    "    imp_test_data.iloc[index, fare_index] = val\n",
    "    \n",
    "# Cross checking\n",
    "any(imp_test_data['Fare'] == 0)"
   ]
  },
  {
   "cell_type": "markdown",
   "id": "bed070fe",
   "metadata": {},
   "source": [
    "### 4. Exploring data."
   ]
  },
  {
   "cell_type": "code",
   "execution_count": 47,
   "id": "567888b3",
   "metadata": {},
   "outputs": [],
   "source": [
    "# Using tableau to visualize data.\n",
    "\n",
    "imp_train_data.to_csv('imp_train_data.csv')"
   ]
  },
  {
   "cell_type": "code",
   "execution_count": 66,
   "id": "20beab0d",
   "metadata": {},
   "outputs": [
    {
     "data": {
      "image/png": "[encoded data removed]",
      "text/plain": [
       "<Figure size 432x288 with 1 Axes>"
      ]
     },
     "metadata": {
      "needs_background": "light"
     },
     "output_type": "display_data"
    }
   ],
   "source": [
    "sb.countplot(x = imp_train_data['Pclass'], hue = imp_train_data['Survived'])\n",
    "plt.show()"
   ]
  },
  {
   "cell_type": "markdown",
   "id": "d9046861",
   "metadata": {},
   "source": [
    "Individuals belonging to Pclass 3 have less chance of surviving."
   ]
  },
  {
   "cell_type": "code",
   "execution_count": 67,
   "id": "aaa164be",
   "metadata": {},
   "outputs": [
    {
     "data": {
      "image/png": "[encoded data removed]",
      "text/plain": [
       "<Figure size 432x288 with 1 Axes>"
      ]
     },
     "metadata": {
      "needs_background": "light"
     },
     "output_type": "display_data"
    }
   ],
   "source": [
    "sb.countplot(x = imp_train_data['Sex'], hue = imp_train_data['Survived'])\n",
    "plt.show()"
   ]
  },
  {
   "cell_type": "markdown",
   "id": "b813f43c",
   "metadata": {},
   "source": [
    "Males have less chance of surviving."
   ]
  },
  {
   "cell_type": "code",
   "execution_count": 68,
   "id": "9023cf52",
   "metadata": {},
   "outputs": [
    {
     "data": {
      "image/png": "[encoded data removed]",
      "text/plain": [
       "<Figure size 432x288 with 1 Axes>"
      ]
     },
     "metadata": {
      "needs_background": "light"
     },
     "output_type": "display_data"
    }
   ],
   "source": [
    "imp_train_data.pivot_table('Survived', index = 'Sex', columns = 'Pclass').plot(kind = 'bar')\n",
    "plt.show()"
   ]
  },
  {
   "cell_type": "markdown",
   "id": "eefccbc8",
   "metadata": {},
   "source": [
    "Females of all the class have higher chance of survival than males."
   ]
  },
  {
   "cell_type": "code",
   "execution_count": 69,
   "id": "f817f33a",
   "metadata": {},
   "outputs": [
    {
     "data": {
      "image/png": "[encoded data removed]",
      "text/plain": [
       "<Figure size 432x288 with 1 Axes>"
      ]
     },
     "metadata": {
      "needs_background": "light"
     },
     "output_type": "display_data"
    }
   ],
   "source": [
    "imp_train_data.groupby('Age')['Survived'].mean().plot(kind = 'bar')\n",
    "plt.show()"
   ]
  },
  {
   "cell_type": "code",
   "execution_count": 70,
   "id": "895b3a4a",
   "metadata": {},
   "outputs": [
    {
     "data": {
      "image/png": "[encoded data removed]",
      "text/plain": [
       "<Figure size 432x288 with 1 Axes>"
      ]
     },
     "metadata": {
      "needs_background": "light"
     },
     "output_type": "display_data"
    }
   ],
   "source": [
    "# For visualization.\n",
    "\n",
    "imp_train_data['dumAge'] = pd.cut(imp_train_data['Age'], \n",
    "                                   bins = np.linspace(imp_train_data['Age'].min(),\n",
    "                                                      imp_train_data['Age'].max(), 10))\n",
    "\n",
    "imp_train_data.groupby('dumAge')['Survived'].mean().plot(kind = 'bar')\n",
    "plt.show()"
   ]
  },
  {
   "cell_type": "code",
   "execution_count": 71,
   "id": "7bca162d",
   "metadata": {},
   "outputs": [
    {
     "data": {
      "image/png": "[encoded data removed]",
      "text/plain": [
       "<Figure size 432x288 with 1 Axes>"
      ]
     },
     "metadata": {
      "needs_background": "light"
     },
     "output_type": "display_data"
    }
   ],
   "source": [
    "imp_train_data.groupby('SibSp')['Survived'].mean().plot(kind = 'bar')\n",
    "plt.show()"
   ]
  },
  {
   "cell_type": "markdown",
   "id": "63ee88ed",
   "metadata": {},
   "source": [
    "Chance of survival is highest if number of SibSp is 1."
   ]
  },
  {
   "cell_type": "code",
   "execution_count": 72,
   "id": "dd7433dd",
   "metadata": {},
   "outputs": [
    {
     "data": {
      "image/png": "[encoded data removed]",
      "text/plain": [
       "<Figure size 432x288 with 1 Axes>"
      ]
     },
     "metadata": {
      "needs_background": "light"
     },
     "output_type": "display_data"
    }
   ],
   "source": [
    "imp_train_data.groupby('Parch')['Survived'].mean().plot(kind = 'bar')\n",
    "plt.show()"
   ]
  },
  {
   "cell_type": "markdown",
   "id": "8dfc5bb6",
   "metadata": {},
   "source": [
    "Chance of survival is highest if number of Parch is 3."
   ]
  },
  {
   "cell_type": "code",
   "execution_count": 73,
   "id": "c6c88b93",
   "metadata": {},
   "outputs": [
    {
     "data": {
      "image/png": "[encoded data removed]",
      "text/plain": [
       "<Figure size 432x288 with 1 Axes>"
      ]
     },
     "metadata": {
      "needs_background": "light"
     },
     "output_type": "display_data"
    }
   ],
   "source": [
    "imp_train_data.groupby('Embarked')['Survived'].mean().plot(kind = 'bar')\n",
    "plt.show()"
   ]
  },
  {
   "cell_type": "markdown",
   "id": "40bb19dd",
   "metadata": {},
   "source": [
    "Chance of survival is highest if Embarked from port 'C'."
   ]
  },
  {
   "cell_type": "code",
   "execution_count": 74,
   "id": "427140ca",
   "metadata": {},
   "outputs": [
    {
     "data": {
      "image/png": "[encoded data removed]",
      "text/plain": [
       "<Figure size 432x288 with 1 Axes>"
      ]
     },
     "metadata": {
      "needs_background": "light"
     },
     "output_type": "display_data"
    }
   ],
   "source": [
    "imp_train_data['dumFare'] = pd.cut(imp_train_data['Fare'], \n",
    "                                   bins = np.linspace(imp_train_data['Fare'].min(),\n",
    "                                                      imp_train_data['Fare'].max(), 10))\n",
    "\n",
    "imp_train_data.groupby('dumFare')['Survived'].mean().plot(kind = 'bar')\n",
    "plt.show()"
   ]
  },
  {
   "cell_type": "code",
   "execution_count": 75,
   "id": "e5b81c99",
   "metadata": {},
   "outputs": [],
   "source": [
    "# Dropping unnecessary columns.\n",
    "\n",
    "imp_train_data = imp_train_data.drop(columns = ['dumFare', 'dumAge'])"
   ]
  },
  {
   "cell_type": "markdown",
   "id": "be821b24",
   "metadata": {},
   "source": [
    "### 5. Assumptions for Logistic Regression."
   ]
  },
  {
   "cell_type": "code",
   "execution_count": 76,
   "id": "ed1ec997",
   "metadata": {},
   "outputs": [],
   "source": [
    "# Assumptions: -\n",
    "# 1) Independent features.\n",
    "# 2) Normally distributed.\n",
    "# 3) No outliers."
   ]
  },
  {
   "cell_type": "code",
   "execution_count": 195,
   "id": "629fdc92",
   "metadata": {},
   "outputs": [
    {
     "data": {
      "image/png": "[encoded data removed]",
      "text/plain": [
       "<Figure size 432x288 with 2 Axes>"
      ]
     },
     "metadata": {
      "needs_background": "light"
     },
     "output_type": "display_data"
    }
   ],
   "source": [
    "# 1) Independent features.\n",
    "\n",
    "corr_matrix = imp_train_data.corr()\n",
    "sb.heatmap(corr_matrix, annot = True, vmin = -1, vmax = 1)\n",
    "plt.show()"
   ]
  },
  {
   "cell_type": "code",
   "execution_count": 78,
   "id": "61d2c2b2",
   "metadata": {},
   "outputs": [
    {
     "data": {
      "image/png": "[encoded data removed]",
      "text/plain": [
       "<Figure size 432x288 with 6 Axes>"
      ]
     },
     "metadata": {
      "needs_background": "light"
     },
     "output_type": "display_data"
    }
   ],
   "source": [
    "# 2) Normally distributed.\n",
    "\n",
    "imp_train_data.hist()\n",
    "plt.tight_layout()\n",
    "plt.show()"
   ]
  },
  {
   "cell_type": "code",
   "execution_count": 79,
   "id": "868e6f56",
   "metadata": {},
   "outputs": [],
   "source": [
    "# Data is not normally distributed."
   ]
  },
  {
   "cell_type": "code",
   "execution_count": 183,
   "id": "4e2176ad",
   "metadata": {
    "scrolled": false
   },
   "outputs": [
    {
     "data": {
      "image/png": "[encoded data removed]",
      "text/plain": [
       "<Figure size 432x288 with 1 Axes>"
      ]
     },
     "metadata": {
      "needs_background": "light"
     },
     "output_type": "display_data"
    },
    {
     "data": {
      "image/png": "[encoded data removed]",
      "text/plain": [
       "<Figure size 432x288 with 1 Axes>"
      ]
     },
     "metadata": {
      "needs_background": "light"
     },
     "output_type": "display_data"
    },
    {
     "data": {
      "image/png": "[encoded data removed]",
      "text/plain": [
       "<Figure size 432x288 with 1 Axes>"
      ]
     },
     "metadata": {
      "needs_background": "light"
     },
     "output_type": "display_data"
    },
    {
     "data": {
      "image/png": "[encoded data removed]",
      "text/plain": [
       "<Figure size 432x288 with 1 Axes>"
      ]
     },
     "metadata": {
      "needs_background": "light"
     },
     "output_type": "display_data"
    },
    {
     "data": {
      "image/png": "[encoded data removed]",
      "text/plain": [
       "<Figure size 432x288 with 1 Axes>"
      ]
     },
     "metadata": {
      "needs_background": "light"
     },
     "output_type": "display_data"
    },
    {
     "data": {
      "image/png": "[encoded data removed]",
      "text/plain": [
       "<Figure size 432x288 with 1 Axes>"
      ]
     },
     "metadata": {
      "needs_background": "light"
     },
     "output_type": "display_data"
    }
   ],
   "source": [
    "# 3) No outliers.\n",
    "\n",
    "for col in imp_train_data.select_dtypes(exclude = 'object').columns:\n",
    "    sb.boxplot(x = imp_train_data[col])\n",
    "    plt.show()"
   ]
  },
  {
   "cell_type": "code",
   "execution_count": 38,
   "id": "2a6a89db",
   "metadata": {},
   "outputs": [],
   "source": [
    "# Removing outliers.\n",
    "\n",
    "imp_train_data = imp_train_data[imp_train_data['Fare'] < 400]"
   ]
  },
  {
   "cell_type": "code",
   "execution_count": 185,
   "id": "6718f735",
   "metadata": {},
   "outputs": [
    {
     "data": {
      "image/png": "[encoded data removed]",
      "text/plain": [
       "<Figure size 432x288 with 1 Axes>"
      ]
     },
     "metadata": {
      "needs_background": "light"
     },
     "output_type": "display_data"
    },
    {
     "data": {
      "image/png": "[encoded data removed]",
      "text/plain": [
       "<Figure size 432x288 with 1 Axes>"
      ]
     },
     "metadata": {
      "needs_background": "light"
     },
     "output_type": "display_data"
    },
    {
     "data": {
      "image/png": "[encoded data removed]",
      "text/plain": [
       "<Figure size 432x288 with 1 Axes>"
      ]
     },
     "metadata": {
      "needs_background": "light"
     },
     "output_type": "display_data"
    },
    {
     "data": {
      "image/png": "[encoded data removed]",
      "text/plain": [
       "<Figure size 432x288 with 1 Axes>"
      ]
     },
     "metadata": {
      "needs_background": "light"
     },
     "output_type": "display_data"
    },
    {
     "data": {
      "image/png": "[encoded data removed]",
      "text/plain": [
       "<Figure size 432x288 with 1 Axes>"
      ]
     },
     "metadata": {
      "needs_background": "light"
     },
     "output_type": "display_data"
    },
    {
     "data": {
      "image/png": "[encoded data removed]",
      "text/plain": [
       "<Figure size 432x288 with 1 Axes>"
      ]
     },
     "metadata": {
      "needs_background": "light"
     },
     "output_type": "display_data"
    }
   ],
   "source": [
    "for col in imp_valid_data.select_dtypes(exclude = 'object').columns:\n",
    "    sb.boxplot(x = imp_valid_data[col])\n",
    "    plt.show()"
   ]
  },
  {
   "cell_type": "code",
   "execution_count": 186,
   "id": "44c6964e",
   "metadata": {},
   "outputs": [
    {
     "data": {
      "image/png": "[encoded data removed]",
      "text/plain": [
       "<Figure size 432x288 with 1 Axes>"
      ]
     },
     "metadata": {
      "needs_background": "light"
     },
     "output_type": "display_data"
    },
    {
     "data": {
      "image/png": "[encoded data removed]",
      "text/plain": [
       "<Figure size 432x288 with 1 Axes>"
      ]
     },
     "metadata": {
      "needs_background": "light"
     },
     "output_type": "display_data"
    },
    {
     "data": {
      "image/png": "[encoded data removed]",
      "text/plain": [
       "<Figure size 432x288 with 1 Axes>"
      ]
     },
     "metadata": {
      "needs_background": "light"
     },
     "output_type": "display_data"
    },
    {
     "data": {
      "image/png": "[encoded data removed]",
      "text/plain": [
       "<Figure size 432x288 with 1 Axes>"
      ]
     },
     "metadata": {
      "needs_background": "light"
     },
     "output_type": "display_data"
    },
    {
     "data": {
      "image/png": "[encoded data removed]",
      "text/plain": [
       "<Figure size 432x288 with 1 Axes>"
      ]
     },
     "metadata": {
      "needs_background": "light"
     },
     "output_type": "display_data"
    }
   ],
   "source": [
    "for col in imp_test_data.select_dtypes(exclude = 'object').columns:\n",
    "    sb.boxplot(x = imp_test_data[col])\n",
    "    plt.show()"
   ]
  },
  {
   "cell_type": "code",
   "execution_count": 39,
   "id": "512a9e7a",
   "metadata": {},
   "outputs": [],
   "source": [
    "# Splitting the features and target variables.\n",
    "\n",
    "y_train = imp_train_data['Survived']\n",
    "imp_train_data = imp_train_data.drop(columns = ['Survived'])\n",
    "\n",
    "y_valid = imp_valid_data['Survived']\n",
    "imp_valid_data = imp_valid_data.drop(columns = 'Survived')"
   ]
  },
  {
   "cell_type": "markdown",
   "id": "2670e5a1",
   "metadata": {},
   "source": [
    "### 6. Feature Engineering."
   ]
  },
  {
   "cell_type": "code",
   "execution_count": 40,
   "id": "b9e4c96b",
   "metadata": {},
   "outputs": [],
   "source": [
    "imp_train_data_ = imp_train_data.copy()\n",
    "imp_valid_data_ = imp_valid_data.copy()\n",
    "imp_test_data_ = imp_test_data.copy()"
   ]
  },
  {
   "cell_type": "markdown",
   "id": "5076bc67",
   "metadata": {},
   "source": [
    "#### 6.1. Ordinal Encoding."
   ]
  },
  {
   "cell_type": "code",
   "execution_count": 41,
   "id": "cb01b806",
   "metadata": {},
   "outputs": [],
   "source": [
    "# Converting 'Pclass' to str\n",
    "\n",
    "imp_train_data_.loc[:, 'Pclass'] = imp_train_data_.loc[:, 'Pclass'].astype(str)\n",
    "imp_valid_data_.loc[:, 'Pclass'] = imp_valid_data_.loc[:, 'Pclass'].astype(str)\n",
    "imp_test_data_.loc[:, 'Pclass'] = imp_test_data_.loc[:, 'Pclass'].astype(str)"
   ]
  },
  {
   "cell_type": "code",
   "execution_count": 42,
   "id": "d306726f",
   "metadata": {},
   "outputs": [],
   "source": [
    "# Mapping the values.\n",
    "\n",
    "imp_train_data_['Pclass'] = imp_train_data_['Pclass'].map({'3': 1, '2': 2, '1': 3})\n",
    "imp_valid_data_['Pclass'] = imp_valid_data_['Pclass'].map({'3': 1, '2': 2, '1': 3})\n",
    "imp_test_data_['Pclass'] = imp_test_data_['Pclass'].map({'3': 1, '2': 2, '1': 3})"
   ]
  },
  {
   "cell_type": "markdown",
   "id": "07fb7792",
   "metadata": {},
   "source": [
    "#### 6.2. Log transformation on skewed data."
   ]
  },
  {
   "cell_type": "code",
   "execution_count": 43,
   "id": "b190ed9f",
   "metadata": {},
   "outputs": [
    {
     "name": "stdout",
     "output_type": "stream",
     "text": [
      "Skewed columns are: ['SibSp', 'Parch', 'Fare']\n",
      "Skewed columns are: ['SibSp', 'Parch', 'Fare']\n",
      "Skewed columns are: ['Age', 'SibSp', 'Parch', 'Fare']\n"
     ]
    }
   ],
   "source": [
    "# Checking for skewed data.\n",
    "\n",
    "num_train_data = imp_train_data_.select_dtypes(exclude = 'object')\n",
    "skewness = num_train_data.apply(lambda x: scistats.skew(x))\n",
    "train_skewed_cols = skewness[abs(skewness) > 0.75].keys().to_list()\n",
    "print('Skewed columns are:', train_skewed_cols)\n",
    "\n",
    "num_valid_data = imp_valid_data_.select_dtypes(exclude = 'object')\n",
    "skewness = num_valid_data.apply(lambda x: scistats.skew(x))\n",
    "valid_skewed_cols = skewness[abs(skewness) > 0.75].keys().to_list()\n",
    "print('Skewed columns are:', valid_skewed_cols)\n",
    "\n",
    "num_test_data = imp_test_data_.select_dtypes(exclude = 'object')\n",
    "skewness = num_test_data.apply(lambda x: scistats.skew(x))\n",
    "test_skewed_cols = skewness[abs(skewness) > 0.75].keys().to_list()\n",
    "print('Skewed columns are:', test_skewed_cols)"
   ]
  },
  {
   "cell_type": "code",
   "execution_count": 44,
   "id": "7167b9d0",
   "metadata": {},
   "outputs": [],
   "source": [
    "# Applying log transformation.\n",
    "\n",
    "log_train_data = np.log1p(imp_train_data_.loc[:, test_skewed_cols])\n",
    "imp_train_data_.drop(columns = test_skewed_cols, inplace = True)\n",
    "log_train_data.reset_index(drop = True, inplace = True)\n",
    "\n",
    "log_valid_data = np.log1p(imp_valid_data_.loc[:, test_skewed_cols])\n",
    "imp_valid_data_.drop(columns = test_skewed_cols, inplace = True)\n",
    "log_valid_data.reset_index(drop = True, inplace = True)\n",
    "\n",
    "log_test_data = np.log1p(imp_test_data_.loc[:, test_skewed_cols])\n",
    "imp_test_data_.drop(columns = test_skewed_cols, inplace = True)\n",
    "log_test_data.reset_index(drop = True, inplace = True)"
   ]
  },
  {
   "cell_type": "code",
   "execution_count": 45,
   "id": "d5db7732",
   "metadata": {},
   "outputs": [
    {
     "name": "stdout",
     "output_type": "stream",
     "text": [
      "Null values in log_train_data: 0\n",
      "Null values in log_valid_data: 0\n",
      "Null values in log_test_data: 0\n"
     ]
    }
   ],
   "source": [
    "# Cross checking for null values.\n",
    "\n",
    "print('Null values in log_train_data:', log_train_data.isnull().sum().sum())\n",
    "print('Null values in log_valid_data:', log_valid_data.isnull().sum().sum())\n",
    "print('Null values in log_test_data:', log_test_data.isnull().sum().sum())"
   ]
  },
  {
   "cell_type": "code",
   "execution_count": 46,
   "id": "8c50e474",
   "metadata": {},
   "outputs": [
    {
     "name": "stdout",
     "output_type": "stream",
     "text": [
      "Shape of log_train_data: (709, 4)\n",
      "Shape of log_valid_data: (179, 4)\n",
      "Shape of log_test_data: (418, 4)\n"
     ]
    }
   ],
   "source": [
    "# Checking for shape.\n",
    "\n",
    "print('Shape of log_train_data:', log_train_data.shape)\n",
    "print('Shape of log_valid_data:', log_valid_data.shape)\n",
    "print('Shape of log_test_data:', log_test_data.shape)"
   ]
  },
  {
   "cell_type": "code",
   "execution_count": 47,
   "id": "2df6b33f",
   "metadata": {},
   "outputs": [],
   "source": [
    "# Splitting numerical and categorical data.\n",
    "\n",
    "num_train_data = imp_train_data_.select_dtypes(exclude = 'object')\n",
    "obj_train_data = imp_train_data_.select_dtypes(include = 'object')\n",
    "\n",
    "num_valid_data = imp_valid_data_.select_dtypes(exclude = 'object')\n",
    "obj_valid_data = imp_valid_data_.select_dtypes(include = 'object')\n",
    "\n",
    "num_test_data = imp_test_data_.select_dtypes(exclude = 'object')\n",
    "obj_test_data = imp_test_data_.select_dtypes(include = 'object')"
   ]
  },
  {
   "cell_type": "markdown",
   "id": "8a4364d7",
   "metadata": {},
   "source": [
    "#### 6.3. Scaling and One hot encoding."
   ]
  },
  {
   "cell_type": "code",
   "execution_count": 48,
   "id": "9deef723",
   "metadata": {},
   "outputs": [],
   "source": [
    "from sklearn.preprocessing import StandardScaler, OneHotEncoder"
   ]
  },
  {
   "cell_type": "code",
   "execution_count": 49,
   "id": "91cca037",
   "metadata": {},
   "outputs": [],
   "source": [
    "std = StandardScaler()\n",
    "ohe = OneHotEncoder()\n",
    "\n",
    "# One hot encoding.\n",
    "\n",
    "train_split = num_train_data.shape[0]\n",
    "valid_split = train_split + num_valid_data.shape[0]\n",
    "\n",
    "temp_data = pd.concat([obj_train_data, \n",
    "                       obj_valid_data,\n",
    "                       obj_test_data], axis = 0)\n",
    "\n",
    "temp_data.reset_index(drop = True, inplace = True)\n",
    "\n",
    "temp_data_arr = ohe.fit_transform(temp_data).toarray()\n",
    "col_names = ohe.get_feature_names(temp_data.columns.to_list())"
   ]
  },
  {
   "cell_type": "code",
   "execution_count": 50,
   "id": "96b70aec",
   "metadata": {},
   "outputs": [],
   "source": [
    "ohe_train_data = pd.DataFrame(temp_data_arr[0: train_split, :], \n",
    "                              columns = col_names)\n",
    "ohe_train_data.reset_index(drop = True, inplace = True)\n",
    "\n",
    "ohe_valid_data = pd.DataFrame(temp_data_arr[train_split: valid_split, :], \n",
    "                              columns = col_names)\n",
    "ohe_valid_data.reset_index(drop = True, inplace = True)\n",
    "\n",
    "ohe_test_data = pd.DataFrame(temp_data_arr[valid_split: , :], \n",
    "                              columns = col_names)\n",
    "ohe_test_data.reset_index(drop = True, inplace = True)"
   ]
  },
  {
   "cell_type": "code",
   "execution_count": 51,
   "id": "345596f5",
   "metadata": {},
   "outputs": [
    {
     "name": "stdout",
     "output_type": "stream",
     "text": [
      "Null values in ohe_train_data: 0\n",
      "Null values in ohe_valid_data: 0\n",
      "Null values in ohe_test_data: 0\n"
     ]
    }
   ],
   "source": [
    "# Checking for null values.\n",
    "\n",
    "print('Null values in ohe_train_data:', ohe_train_data.isnull().sum().sum())\n",
    "print('Null values in ohe_valid_data:', ohe_valid_data.isnull().sum().sum())\n",
    "print('Null values in ohe_test_data:', ohe_test_data.isnull().sum().sum())"
   ]
  },
  {
   "cell_type": "code",
   "execution_count": 52,
   "id": "c7232d95",
   "metadata": {},
   "outputs": [
    {
     "name": "stdout",
     "output_type": "stream",
     "text": [
      "Shape of ohe_train_data: (709, 951)\n",
      "Shape of ohe_valid_data: (179, 951)\n",
      "Shape of ohe_test_data: (418, 951)\n"
     ]
    }
   ],
   "source": [
    "# Checking shapes.\n",
    "\n",
    "print('Shape of ohe_train_data:', ohe_train_data.shape)\n",
    "print('Shape of ohe_valid_data:', ohe_valid_data.shape)\n",
    "print('Shape of ohe_test_data:', ohe_test_data.shape)"
   ]
  },
  {
   "cell_type": "code",
   "execution_count": 53,
   "id": "9c490cc6",
   "metadata": {},
   "outputs": [],
   "source": [
    "# Standard scaling.\n",
    "\n",
    "num_train_data_arr = std.fit_transform(num_train_data)\n",
    "num_valid_data_arr = std.transform(num_valid_data)\n",
    "num_test_data_arr = std.transform(num_test_data)\n",
    "\n",
    "std_train_data = pd.DataFrame(num_train_data_arr, \n",
    "                              columns = num_train_data.columns.to_list())\n",
    "std_valid_data = pd.DataFrame(num_valid_data_arr, \n",
    "                              columns = num_valid_data.columns.to_list())\n",
    "std_test_data = pd.DataFrame(num_test_data_arr, \n",
    "                              columns = num_test_data.columns.to_list())\n",
    "\n",
    "std_train_data.reset_index(drop = True, inplace = True)\n",
    "std_valid_data.reset_index(drop = True, inplace = True)\n",
    "std_test_data.reset_index(drop = True, inplace = True)"
   ]
  },
  {
   "cell_type": "markdown",
   "id": "322bb77f",
   "metadata": {},
   "source": [
    "#### 6.4. Final data."
   ]
  },
  {
   "cell_type": "code",
   "execution_count": 54,
   "id": "8f77aeee",
   "metadata": {},
   "outputs": [],
   "source": [
    "mod_train_data = pd.concat([std_train_data, log_train_data, ohe_train_data], \n",
    "                           axis = 1)\n",
    "mod_valid_data = pd.concat([std_valid_data, log_valid_data, ohe_valid_data], \n",
    "                           axis = 1)\n",
    "mod_test_data = pd.concat([std_test_data, log_test_data, ohe_test_data], \n",
    "                           axis = 1)"
   ]
  },
  {
   "cell_type": "code",
   "execution_count": 55,
   "id": "c768f224",
   "metadata": {},
   "outputs": [
    {
     "name": "stdout",
     "output_type": "stream",
     "text": [
      "Null values in mod_train_data: 0\n",
      "Null values in mod_valid_data: 0\n",
      "Null values in mod_test_data: 0\n"
     ]
    }
   ],
   "source": [
    "# Checking for null values.\n",
    "\n",
    "print('Null values in mod_train_data:', mod_train_data.isnull().sum().sum())\n",
    "print('Null values in mod_valid_data:', mod_valid_data.isnull().sum().sum())\n",
    "print('Null values in mod_test_data:', mod_test_data.isnull().sum().sum())"
   ]
  },
  {
   "cell_type": "code",
   "execution_count": 59,
   "id": "b70f57c3",
   "metadata": {},
   "outputs": [
    {
     "name": "stdout",
     "output_type": "stream",
     "text": [
      "Shape of mod_train_data (709, 956)\n",
      "Shape of mod_valid_data (179, 956)\n",
      "Shape of mod_test_data (418, 956)\n",
      "(709,)\n",
      "(179,)\n"
     ]
    }
   ],
   "source": [
    "# Checking for shape.\n",
    "\n",
    "print('Shape of mod_train_data', mod_train_data.shape)\n",
    "print('Shape of mod_valid_data', mod_valid_data.shape)\n",
    "print('Shape of mod_test_data', mod_test_data.shape)\n",
    "\n",
    "print(y_train.shape)\n",
    "print(y_valid.shape)"
   ]
  },
  {
   "cell_type": "code",
   "execution_count": 60,
   "id": "5b8e7d33",
   "metadata": {},
   "outputs": [],
   "source": [
    "mod_train_data.to_csv('mod_train_data.csv', index = None)\n",
    "mod_valid_data.to_csv('mod_valid_data.csv', index = None)\n",
    "mod_test_data.to_csv('mod_test_data.csv', index = None)"
   ]
  },
  {
   "cell_type": "code",
   "execution_count": 61,
   "id": "6be175bc",
   "metadata": {},
   "outputs": [],
   "source": [
    "y_train.to_csv('y_train.csv', index = None)\n",
    "y_valid.to_csv('y_valid.csv', index = None)"
   ]
  },
  {
   "cell_type": "markdown",
   "id": "a1944485",
   "metadata": {},
   "source": [
    "### 7. Developing Models."
   ]
  },
  {
   "cell_type": "code",
   "execution_count": 67,
   "id": "32c1609f",
   "metadata": {},
   "outputs": [],
   "source": [
    "from sklearn.linear_model import LogisticRegression, SGDClassifier\n",
    "from sklearn.tree import DecisionTreeClassifier\n",
    "from sklearn.ensemble import RandomForestClassifier, GradientBoostingClassifier\n",
    "from sklearn.svm import SVC\n",
    "from sklearn.neighbors import KNeighborsClassifier\n",
    "from sklearn.model_selection import cross_val_score, cross_val_predict\n",
    "from sklearn.metrics import confusion_matrix, precision_score, recall_score"
   ]
  },
  {
   "cell_type": "code",
   "execution_count": 68,
   "id": "bbdc16b0",
   "metadata": {},
   "outputs": [],
   "source": [
    "seed = 0\n",
    "\n",
    "lrclf = LogisticRegression()\n",
    "sgdclf = SGDClassifier()\n",
    "dtclf = DecisionTreeClassifier(random_state = seed)\n",
    "rfclf = RandomForestClassifier(random_state = seed)\n",
    "gbclf = GradientBoostingClassifier(random_state = seed)\n",
    "svclf = SVC()\n",
    "knnclf = KNeighborsClassifier()"
   ]
  },
  {
   "cell_type": "code",
   "execution_count": 72,
   "id": "b587c825",
   "metadata": {},
   "outputs": [
    {
     "name": "stdout",
     "output_type": "stream",
     "text": [
      "Score of LogisticRegression() model: 0.8351\n",
      "Score of SGDClassifier() model: 0.8364\n",
      "Score of DecisionTreeClassifier(random_state=0) model: 0.8124\n",
      "Score of RandomForestClassifier(random_state=0) model: 0.8364\n",
      "Score of GradientBoostingClassifier(random_state=0) model: 0.8392\n",
      "Score of SVC() model: 0.8308\n",
      "Score of KNeighborsClassifier() model: 0.8252\n"
     ]
    }
   ],
   "source": [
    "classifiers = [lrclf, sgdclf, dtclf, rfclf, gbclf, svclf, knnclf]\n",
    "\n",
    "model_df = pd.DataFrame()\n",
    "\n",
    "for classifier in classifiers:\n",
    "    clf_scores = cross_val_score(classifier, X = mod_train_data, y = y_train, \n",
    "                                 cv = 10)\n",
    "    print(f'Score of {classifier} model:', np.round(clf_scores.mean(), 4))"
   ]
  },
  {
   "cell_type": "markdown",
   "id": "acd00d8c",
   "metadata": {},
   "source": [
    "#### 7.1. Decision tree."
   ]
  },
  {
   "cell_type": "code",
   "execution_count": 73,
   "id": "7a16ab6c",
   "metadata": {},
   "outputs": [],
   "source": [
    "dtres = dtclf.fit(mod_train_data, y_train)\n",
    "\n",
    "feature_names = mod_train_data.columns.to_list()\n",
    "len_features = len(feature_names)\n",
    "\n",
    "dt_imp_features = pd.DataFrame(data = dtres.feature_importances_, \n",
    "                               index = feature_names,\n",
    "                               columns = ['Importance'])\n",
    "\n",
    "top = 10\n",
    "top_dt_features = dt_imp_features.sort_values('Importance', \n",
    "                                              ascending = False)[0: top]"
   ]
  },
  {
   "cell_type": "markdown",
   "id": "2791816c",
   "metadata": {},
   "source": [
    "#### 7.2. Random forest."
   ]
  },
  {
   "cell_type": "code",
   "execution_count": 74,
   "id": "65e3fa21",
   "metadata": {},
   "outputs": [],
   "source": [
    "rfres = rfclf.fit(mod_train_data, y_train)\n",
    "\n",
    "rf_imp_features = pd.DataFrame(data = rfres.feature_importances_, \n",
    "                               index = feature_names,\n",
    "                               columns = ['Importance'])\n",
    "\n",
    "top_rf_features = rf_imp_features.sort_values('Importance', \n",
    "                                              ascending = False)[0: top]"
   ]
  },
  {
   "cell_type": "markdown",
   "id": "c1b1ceaa",
   "metadata": {},
   "source": [
    "#### 7.3. Important features."
   ]
  },
  {
   "cell_type": "code",
   "execution_count": 75,
   "id": "a9b956d5",
   "metadata": {},
   "outputs": [
    {
     "data": {
      "image/png": "[encoded data removed]",
      "text/plain": [
       "<Figure size 720x360 with 2 Axes>"
      ]
     },
     "metadata": {
      "needs_background": "light"
     },
     "output_type": "display_data"
    }
   ],
   "source": [
    "plt.figure(figsize = (10, 5))\n",
    "plt.subplot(121)\n",
    "sb.barplot(x = 'Importance', y = top_dt_features.index,\n",
    "           data = top_dt_features)\n",
    "plt.title('Decision Tree Important Features')\n",
    "\n",
    "plt.subplot(122)\n",
    "sb.barplot(x = 'Importance', y = top_rf_features.index,\n",
    "           data = top_rf_features)\n",
    "plt.title('Random Forest Important Features')\n",
    "plt.tight_layout()\n",
    "plt.show()"
   ]
  },
  {
   "cell_type": "markdown",
   "id": "1fb1c90b",
   "metadata": {},
   "source": [
    "#### 7.4. Model with Ticket feature removed."
   ]
  },
  {
   "cell_type": "code",
   "execution_count": 76,
   "id": "32263844",
   "metadata": {},
   "outputs": [],
   "source": [
    "wo_ticket_cols = [mod_train_data.columns.to_list()[i] for i, j in enumerate(mod_train_data.columns.str.startswith('Ticket')) if j == 0]\n",
    "wo_ticket_train_data =  mod_train_data[wo_ticket_cols]\n",
    "\n",
    "wo_ticket_cols = [mod_valid_data.columns.to_list()[i] for i, j in enumerate(mod_valid_data.columns.str.startswith('Ticket')) if j == 0]\n",
    "wo_ticket_valid_data =  mod_valid_data[wo_ticket_cols]\n",
    "\n",
    "wo_ticket_cols = [mod_test_data.columns.to_list()[i] for i, j in enumerate(mod_test_data.columns.str.startswith('Ticket')) if j == 0]\n",
    "wo_ticket_test_data =  mod_test_data[wo_ticket_cols]"
   ]
  },
  {
   "cell_type": "code",
   "execution_count": 77,
   "id": "57ec3f0d",
   "metadata": {},
   "outputs": [
    {
     "name": "stdout",
     "output_type": "stream",
     "text": [
      "Score of LogisticRegression() model: 0.8224\n",
      "Score of SGDClassifier() model: 0.8139\n",
      "Score of DecisionTreeClassifier(random_state=0) model: 0.7615\n",
      "Score of RandomForestClassifier(random_state=0) model: 0.8138\n",
      "Score of GradientBoostingClassifier(random_state=0) model: 0.818\n",
      "Score of SVC() model: 0.8294\n",
      "Score of KNeighborsClassifier() model: 0.8223\n"
     ]
    }
   ],
   "source": [
    "# Without ticket data.\n",
    "\n",
    "classifiers = [lrclf, sgdclf, dtclf, rfclf, gbclf, svclf, knnclf]\n",
    "\n",
    "for classifier in classifiers:\n",
    "    clf_scores = cross_val_score(classifier, X = wo_ticket_train_data, \n",
    "                                 y = y_train, cv = 10)\n",
    "    print(f'Score of {classifier} model:', np.round(clf_scores.mean(), 4))"
   ]
  },
  {
   "cell_type": "markdown",
   "id": "8ca46ab6",
   "metadata": {},
   "source": [
    "#### 7.5. Hyperparameter Tuning."
   ]
  },
  {
   "cell_type": "code",
   "execution_count": 83,
   "id": "ad05fe42",
   "metadata": {},
   "outputs": [],
   "source": [
    "from sklearn.model_selection import GridSearchCV, cross_val_predict\n",
    "from sklearn.metrics import accuracy_score, confusion_matrix, precision_recall_curve, precision_score, recall_score"
   ]
  },
  {
   "cell_type": "markdown",
   "id": "fabe7e07",
   "metadata": {},
   "source": [
    "##### 7.6. Gradient Boosting Tuning."
   ]
  },
  {
   "cell_type": "code",
   "execution_count": 82,
   "id": "df3d6013",
   "metadata": {},
   "outputs": [],
   "source": [
    "# Thersholds\n",
    "\n",
    "bgclf = GradientBoostingClassifier(random_state = 0)\n",
    "\n",
    "cvp_res = cross_val_predict(bgclf, mod_train_data, y_train, cv = 10,\n",
    "                            method = 'predict_proba')"
   ]
  },
  {
   "cell_type": "code",
   "execution_count": 93,
   "id": "dbfe1622",
   "metadata": {},
   "outputs": [],
   "source": [
    "precisions, recalls, thresholds = precision_recall_curve(y_train, cvp_res[:, 0])"
   ]
  },
  {
   "cell_type": "code",
   "execution_count": 97,
   "id": "7c8d6f73",
   "metadata": {},
   "outputs": [
    {
     "data": {
      "image/png": "[encoded data removed]",
      "text/plain": [
       "<Figure size 432x288 with 1 Axes>"
      ]
     },
     "metadata": {
      "needs_background": "light"
     },
     "output_type": "display_data"
    }
   ],
   "source": [
    "plt.plot(thresholds, precisions[: -1], label = 'Precision')\n",
    "plt.plot(thresholds, recalls[: -1], label = 'Recall')\n",
    "plt.xlabel('Thresholds')\n",
    "plt.legend()\n",
    "plt.show()"
   ]
  },
  {
   "cell_type": "code",
   "execution_count": 99,
   "id": "ef013e4f",
   "metadata": {},
   "outputs": [
    {
     "data": {
      "image/png": "[encoded data removed]",
      "text/plain": [
       "<Figure size 432x288 with 1 Axes>"
      ]
     },
     "metadata": {
      "needs_background": "light"
     },
     "output_type": "display_data"
    }
   ],
   "source": [
    "plt.plot(recalls[: -1], precisions[: -1])\n",
    "plt.title('Precision Recall Curve')\n",
    "plt.xlabel('Recall')\n",
    "plt.ylabel('Precision')\n",
    "plt.show()"
   ]
  },
  {
   "cell_type": "markdown",
   "id": "47e9080d",
   "metadata": {},
   "source": [
    "##### 7.6.1 learning_rate and n_estimators."
   ]
  },
  {
   "cell_type": "code",
   "execution_count": null,
   "id": "9a05e291",
   "metadata": {},
   "outputs": [],
   "source": [
    "# Aim for High precision."
   ]
  },
  {
   "cell_type": "code",
   "execution_count": 117,
   "id": "54fea1b6",
   "metadata": {},
   "outputs": [],
   "source": [
    "def hyper_tuning(classifier, params, cv):\n",
    "    \n",
    "    gbclf_gscv = GridSearchCV(classifier, param_grid = params, \n",
    "                              cv = cv, scoring = 'accuracy')\n",
    "    gb_res = gbclf_gscv.fit(X = mod_train_data, y = y_train)\n",
    "    \n",
    "    pred_train = gbclf_gscv.predict(mod_train_data)\n",
    "    pred_valid = gbclf_gscv.predict(mod_valid_data)\n",
    "\n",
    "    print('Best Score of the model:', np.round(gb_res.best_score_.mean(), 4))\n",
    "    print('Best parameter of the model:', gb_res.best_params_)\n",
    "    \n",
    "    print('Training data')\n",
    "    print('Accuracy:', np.round(accuracy_score(y_true = y_train, \n",
    "                                               y_pred = pred_train), 4))\n",
    "    print('Precision:', np.round(precision_score(y_true = y_train, \n",
    "                                                 y_pred = pred_train, \n",
    "                                                 average = 'macro'), 4))\n",
    "    print('Recall:', np.round(recall_score(y_true = y_train, \n",
    "                                           y_pred = pred_train,\n",
    "                                           average = 'macro'), 4))\n",
    "    \n",
    "    \n",
    "    print('\\nValidation data')\n",
    "    print('Accuracy:', np.round(accuracy_score(y_true = y_valid, \n",
    "                                               y_pred = pred_valid), 4))\n",
    "    print('Precision:', np.round(precision_score(y_true = y_valid, \n",
    "                                                 y_pred = pred_valid,\n",
    "                                                 average = 'macro'), 4))\n",
    "    print('Recall:', np.round(recall_score(y_true = y_valid, \n",
    "                                           y_pred = pred_valid,\n",
    "                                           average = 'macro'), 4))"
   ]
  },
  {
   "cell_type": "code",
   "execution_count": 101,
   "id": "b9271f64",
   "metadata": {},
   "outputs": [
    {
     "name": "stdout",
     "output_type": "stream",
     "text": [
      "Best Score of the model: 0.8534\n",
      "Best parameter of the model: {'learning_rate': 0.5, 'n_estimators': 300}\n",
      "Accuracy on Training data: 1.0\n",
      "Accuracy on Validation data: 0.8101\n"
     ]
    }
   ],
   "source": [
    "params = {'learning_rate': [0.1, 0.2, 0.5, 0.8, 1],\n",
    "          'n_estimators': [200, 300, 400, 500]}\n",
    "\n",
    "gbclf = GradientBoostingClassifier(random_state = 0)\n",
    "\n",
    "hyper_tuning(gbclf, params, cv = 10)"
   ]
  },
  {
   "cell_type": "markdown",
   "id": "4be712ec",
   "metadata": {},
   "source": [
    "##### 7.6.2 max_depth and max_features."
   ]
  },
  {
   "cell_type": "code",
   "execution_count": 118,
   "id": "f2f8ee06",
   "metadata": {},
   "outputs": [
    {
     "name": "stdout",
     "output_type": "stream",
     "text": [
      "Best Score of the model: 0.8548\n",
      "Best parameter of the model: {'max_depth': 15, 'max_features': 60}\n",
      "Training data\n",
      "Accuracy: 1.0\n",
      "Precision: 1.0\n",
      "Recall: 1.0\n",
      "\n",
      "Validation data\n",
      "Accuracy: 0.8101\n",
      "Precision: 0.8045\n",
      "Recall: 0.7887\n"
     ]
    }
   ],
   "source": [
    "params = {'max_depth': [5, 10, 15, 20],\n",
    "          'max_features': [20, 40, 60, 80]}\n",
    "\n",
    "gbclf = GradientBoostingClassifier(learning_rate = 0.5, n_estimators = 300,\n",
    "                                   random_state = 0)\n",
    "\n",
    "hyper_tuning(gbclf, params, cv = 10)"
   ]
  },
  {
   "cell_type": "markdown",
   "id": "13615381",
   "metadata": {},
   "source": [
    "##### 7.6.3 Tuning to lower overfitting."
   ]
  },
  {
   "cell_type": "code",
   "execution_count": 121,
   "id": "76438b71",
   "metadata": {},
   "outputs": [],
   "source": [
    "def overfit_tuning(classifier):\n",
    "    \n",
    "    classifier.fit(X = mod_train_data, y = y_train)\n",
    "    \n",
    "    pred_train = classifier.predict(mod_train_data)\n",
    "    pred_valid = classifier.predict(mod_valid_data)\n",
    "    \n",
    "    print('Training data')\n",
    "    print('Accuracy:', np.round(accuracy_score(y_true = y_train, \n",
    "                                               y_pred = pred_train), 4))\n",
    "    print('Precision:', np.round(precision_score(y_true = y_train, \n",
    "                                                 y_pred = pred_train, \n",
    "                                                 average = 'macro'), 4))\n",
    "    print('Recall:', np.round(recall_score(y_true = y_train, \n",
    "                                           y_pred = pred_train,\n",
    "                                           average = 'macro'), 4))\n",
    "    \n",
    "    \n",
    "    print('\\nValidation data')\n",
    "    print('Accuracy:', np.round(accuracy_score(y_true = y_valid, \n",
    "                                               y_pred = pred_valid), 4))\n",
    "    print('Precision:', np.round(precision_score(y_true = y_valid, \n",
    "                                                 y_pred = pred_valid,\n",
    "                                                 average = 'macro'), 4))\n",
    "    print('Recall:', np.round(recall_score(y_true = y_valid, \n",
    "                                           y_pred = pred_valid,\n",
    "                                           average = 'macro'), 4))"
   ]
  },
  {
   "cell_type": "code",
   "execution_count": null,
   "id": "6c431711",
   "metadata": {},
   "outputs": [],
   "source": [
    "# gbclf = GradientBoostingClassifier(learning_rate = 0.5, n_estimators = 300,\n",
    "#                                    max_depth = 10, random_state = 0)\n",
    "# Training data\n",
    "# Accuracy: 1.0\n",
    "# Precision: 1.0\n",
    "# Recall: 1.0\n",
    "\n",
    "# Validation data\n",
    "# Accuracy: 0.8156\n",
    "# Precision: 0.8097\n",
    "# Recall: 0.796\n",
    "\n",
    "# Changing max_depth to 5"
   ]
  },
  {
   "cell_type": "code",
   "execution_count": 184,
   "id": "d94869e2",
   "metadata": {},
   "outputs": [
    {
     "name": "stdout",
     "output_type": "stream",
     "text": [
      "Training data\n",
      "Accuracy: 0.9323\n",
      "Precision: 0.9507\n",
      "Recall: 0.9111\n",
      "\n",
      "Validation data\n",
      "Accuracy: 0.838\n",
      "Precision: 0.857\n",
      "Recall: 0.8034\n"
     ]
    }
   ],
   "source": [
    "gbclf = GradientBoostingClassifier(learning_rate = 0.1, n_estimators = 5,\n",
    "                                   max_depth = 10, random_state = 0)\n",
    "\n",
    "overfit_tuning(gbclf)"
   ]
  },
  {
   "cell_type": "markdown",
   "id": "88e626bb",
   "metadata": {},
   "source": [
    "##### 7.6.4 Tuning learning rate and estimators."
   ]
  },
  {
   "cell_type": "code",
   "execution_count": 159,
   "id": "6aaaa6f9",
   "metadata": {},
   "outputs": [
    {
     "name": "stdout",
     "output_type": "stream",
     "text": [
      "Training data\n",
      "Accuracy: 0.9986\n",
      "Precision: 0.9989\n",
      "Recall: 0.9981\n",
      "\n",
      "Validation data\n",
      "Accuracy: 0.8436\n",
      "Precision: 0.8479\n",
      "Recall: 0.8187\n"
     ]
    }
   ],
   "source": [
    "fraction = 20\n",
    "gbclf = GradientBoostingClassifier(learning_rate = 0.5*(1/fraction), \n",
    "                                   n_estimators = 5*(fraction),\n",
    "                                   max_depth = 10, random_state = 0)\n",
    "\n",
    "overfit_tuning(gbclf)"
   ]
  },
  {
   "cell_type": "code",
   "execution_count": 160,
   "id": "3f5c0c59",
   "metadata": {},
   "outputs": [
    {
     "name": "stdout",
     "output_type": "stream",
     "text": [
      "Accuracy on Training data: 0.998589562764457\n",
      "Accuracy on Validation data: 0.8379888268156425\n"
     ]
    }
   ],
   "source": [
    "fraction = 50\n",
    "gbclf = GradientBoostingClassifier(learning_rate = 0.5*(1/fraction), \n",
    "                                   n_estimators = 5*(fraction),\n",
    "                                   max_depth = 10, random_state = 0)\n",
    "\n",
    "gbclf.fit(X = mod_train_data, y = y_train)\n",
    "\n",
    "pred_train = gbclf.predict(X = mod_train_data)\n",
    "print('Accuracy on Training data:', accuracy_score(y_true = y_train, \n",
    "                                                   y_pred = pred_train))\n",
    "\n",
    "pred_valid = gbclf.predict(X = mod_valid_data)\n",
    "print('Accuracy on Validation data:', accuracy_score(y_true = y_valid, \n",
    "                                                   y_pred = pred_valid))"
   ]
  },
  {
   "cell_type": "markdown",
   "id": "dba5d876",
   "metadata": {},
   "source": [
    "##### 7.6.6 Final model."
   ]
  },
  {
   "cell_type": "code",
   "execution_count": 174,
   "id": "ccccbbf1",
   "metadata": {},
   "outputs": [
    {
     "name": "stdout",
     "output_type": "stream",
     "text": [
      "Training data\n",
      "Accuracy: 0.9901\n",
      "Precision: 0.9922\n",
      "Recall: 0.987\n",
      "\n",
      "Validation data\n",
      "Accuracy: 0.8492\n",
      "Precision: 0.8653\n",
      "Recall: 0.8179\n"
     ]
    }
   ],
   "source": [
    "gbclf = GradientBoostingClassifier(learning_rate = 0.5, n_estimators = 5,\n",
    "                                   max_depth = 10, random_state = 0)\n",
    "\n",
    "overfit_tuning(gbclf)"
   ]
  },
  {
   "cell_type": "markdown",
   "id": "490b0931",
   "metadata": {},
   "source": [
    "### 8. Predictions."
   ]
  },
  {
   "cell_type": "code",
   "execution_count": 179,
   "id": "8f913f25",
   "metadata": {},
   "outputs": [],
   "source": [
    "# Test data predictions.\n",
    "\n",
    "id_test = pd.read_csv('test.csv')\n",
    "\n",
    "pred_test = gbclf.predict(X = mod_test_data)\n",
    "\n",
    "test_df = pd.DataFrame({'PassengerId': id_test['PassengerId'],\n",
    "                        'Survived': pred_test})\n",
    "test_df.to_csv('3rdattempt.csv', index = False)"
   ]
  },
  {
   "cell_type": "markdown",
   "id": "2eaac615",
   "metadata": {},
   "source": [
    "### 9. Kaggle Submissions."
   ]
  },
  {
   "cell_type": "code",
   "execution_count": 174,
   "id": "b4fa7134",
   "metadata": {},
   "outputs": [
    {
     "data": {
      "text/html": [
       "<div>\n",
       "<style scoped>\n",
       "    .dataframe tbody tr th:only-of-type {\n",
       "        vertical-align: middle;\n",
       "    }\n",
       "\n",
       "    .dataframe tbody tr th {\n",
       "        vertical-align: top;\n",
       "    }\n",
       "\n",
       "    .dataframe thead th {\n",
       "        text-align: right;\n",
       "    }\n",
       "</style>\n",
       "<table border=\"1\" class=\"dataframe\">\n",
       "  <thead>\n",
       "    <tr style=\"text-align: right;\">\n",
       "      <th></th>\n",
       "      <th>Score</th>\n",
       "      <th>Rank</th>\n",
       "    </tr>\n",
       "  </thead>\n",
       "  <tbody>\n",
       "    <tr>\n",
       "      <th>First_attempt</th>\n",
       "      <td>0.78220</td>\n",
       "      <td>8741</td>\n",
       "    </tr>\n",
       "    <tr>\n",
       "      <th>Second_attempt</th>\n",
       "      <td>0.78947</td>\n",
       "      <td>4248</td>\n",
       "    </tr>\n",
       "  </tbody>\n",
       "</table>\n",
       "</div>"
      ],
      "text/plain": [
       "                  Score  Rank\n",
       "First_attempt   0.78220  8741\n",
       "Second_attempt  0.78947  4248"
      ]
     },
     "execution_count": 174,
     "metadata": {},
     "output_type": "execute_result"
    }
   ],
   "source": [
    "pd.DataFrame(data = [[0.7822, 8741], \n",
    "                     [0.78947, 4248]], \n",
    "             index = ['First_attempt', 'Second_attempt'], \n",
    "             columns = ['Score', 'Rank'])"
   ]
  }
 ],
 "metadata": {
  "kernelspec": {
   "display_name": "Python 3",
   "language": "python",
   "name": "python3"
  },
  "language_info": {
   "codemirror_mode": {
    "name": "ipython",
    "version": 3
   },
   "file_extension": ".py",
   "mimetype": "text/x-python",
   "name": "python",
   "nbconvert_exporter": "python",
   "pygments_lexer": "ipython3",
   "version": "3.8.10"
  }
 },
 "nbformat": 4,
 "nbformat_minor": 5
}
