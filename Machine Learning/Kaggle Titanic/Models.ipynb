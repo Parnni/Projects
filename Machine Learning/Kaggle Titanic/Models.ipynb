{
 "cells": [
  {
   "cell_type": "markdown",
   "id": "b02b6279",
   "metadata": {},
   "source": [
    "---\n",
    "### 1. Importing modules."
   ]
  },
  {
   "cell_type": "code",
   "execution_count": 1,
   "id": "3fde2734",
   "metadata": {},
   "outputs": [],
   "source": [
    "import numpy as np\n",
    "import pandas as pd\n",
    "\n",
    "import matplotlib.pyplot as plt\n",
    "import seaborn as sb\n",
    "\n",
    "import scipy.stats as scistats"
   ]
  },
  {
   "cell_type": "markdown",
   "id": "e5fa02a5",
   "metadata": {},
   "source": [
    "---\n",
    "### 2. Importing preprocessed data."
   ]
  },
  {
   "cell_type": "code",
   "execution_count": 2,
   "id": "4c3d2e32",
   "metadata": {},
   "outputs": [
    {
     "name": "stdout",
     "output_type": "stream",
     "text": [
      "Training data: (709, 956)\n",
      "Training target: (709,)\n",
      "Valid data: (179, 956)\n",
      "Valid target: (179,)\n",
      "Test data: (418, 956)\n"
     ]
    }
   ],
   "source": [
    "mod_train_data = pd.read_csv('mod_train_data.csv')\n",
    "mod_valid_data = pd.read_csv('mod_valid_data.csv')\n",
    "mod_test_data = pd.read_csv('mod_test_data.csv')\n",
    "\n",
    "y_train = pd.read_csv('y_train.csv').values.ravel()\n",
    "y_valid = pd.read_csv('y_valid.csv').values.ravel()\n",
    "\n",
    "print('Training data:', mod_train_data.shape)\n",
    "print('Training target:', y_train.shape)\n",
    "print('Valid data:', mod_valid_data.shape)\n",
    "print('Valid target:', y_valid.shape)\n",
    "print('Test data:', mod_test_data.shape)"
   ]
  },
  {
   "cell_type": "markdown",
   "id": "a4845e49",
   "metadata": {},
   "source": [
    "---\n",
    "### 3. Developing models."
   ]
  },
  {
   "cell_type": "code",
   "execution_count": 26,
   "id": "51467658",
   "metadata": {},
   "outputs": [],
   "source": [
    "from sklearn.linear_model import LogisticRegression, SGDClassifier\n",
    "from sklearn.naive_bayes import GaussianNB\n",
    "from sklearn.tree import DecisionTreeClassifier\n",
    "from sklearn.ensemble import RandomForestClassifier, GradientBoostingClassifier\n",
    "from sklearn.svm import SVC\n",
    "from sklearn.neighbors import KNeighborsClassifier\n",
    "\n",
    "from sklearn.model_selection import cross_val_score, cross_val_predict\n",
    "\n",
    "from sklearn.metrics import confusion_matrix, precision_score, recall_score\n",
    "from sklearn.metrics import accuracy_score"
   ]
  },
  {
   "cell_type": "markdown",
   "id": "5ceee959",
   "metadata": {},
   "source": [
    "---\n",
    "#### 3.1. Selecting best model."
   ]
  },
  {
   "cell_type": "code",
   "execution_count": 16,
   "id": "984b9e29",
   "metadata": {},
   "outputs": [],
   "source": [
    "seed = 0\n",
    "\n",
    "lrclf = LogisticRegression()\n",
    "sgdclf = SGDClassifier()\n",
    "nbclf = GaussianNB()\n",
    "dtclf = DecisionTreeClassifier(random_state = seed)\n",
    "rfclf = RandomForestClassifier(random_state = seed)\n",
    "gbclf = GradientBoostingClassifier(random_state = seed)\n",
    "svclf = SVC()\n",
    "knnclf = KNeighborsClassifier()"
   ]
  },
  {
   "cell_type": "code",
   "execution_count": 17,
   "id": "dfdf87db",
   "metadata": {},
   "outputs": [],
   "source": [
    "classifiers = [lrclf, sgdclf, nbclf, dtclf, rfclf, gbclf, svclf, knnclf]\n",
    "\n",
    "model_df = {}\n",
    "\n",
    "for classifier in classifiers:\n",
    "    clf_scores = cross_val_score(classifier, X = mod_train_data, y = y_train, \n",
    "                                 cv = 10)\n",
    "    model_df[classifier] = np.round(clf_scores.mean(), 4)"
   ]
  },
  {
   "cell_type": "code",
   "execution_count": 66,
   "id": "da227875",
   "metadata": {},
   "outputs": [
    {
     "data": {
      "text/html": [
       "<div>\n",
       "<style scoped>\n",
       "    .dataframe tbody tr th:only-of-type {\n",
       "        vertical-align: middle;\n",
       "    }\n",
       "\n",
       "    .dataframe tbody tr th {\n",
       "        vertical-align: top;\n",
       "    }\n",
       "\n",
       "    .dataframe thead th {\n",
       "        text-align: right;\n",
       "    }\n",
       "</style>\n",
       "<table border=\"1\" class=\"dataframe\">\n",
       "  <thead>\n",
       "    <tr style=\"text-align: right;\">\n",
       "      <th></th>\n",
       "      <th>Score</th>\n",
       "    </tr>\n",
       "  </thead>\n",
       "  <tbody>\n",
       "    <tr>\n",
       "      <th>GradientBoostingClassifier(random_state=0)</th>\n",
       "      <td>0.8392</td>\n",
       "    </tr>\n",
       "    <tr>\n",
       "      <th>RandomForestClassifier(random_state=0)</th>\n",
       "      <td>0.8364</td>\n",
       "    </tr>\n",
       "    <tr>\n",
       "      <th>LogisticRegression()</th>\n",
       "      <td>0.8351</td>\n",
       "    </tr>\n",
       "    <tr>\n",
       "      <th>SVC()</th>\n",
       "      <td>0.8308</td>\n",
       "    </tr>\n",
       "    <tr>\n",
       "      <th>KNeighborsClassifier()</th>\n",
       "      <td>0.8252</td>\n",
       "    </tr>\n",
       "    <tr>\n",
       "      <th>DecisionTreeClassifier(random_state=0)</th>\n",
       "      <td>0.8124</td>\n",
       "    </tr>\n",
       "    <tr>\n",
       "      <th>SGDClassifier()</th>\n",
       "      <td>0.8011</td>\n",
       "    </tr>\n",
       "    <tr>\n",
       "      <th>GaussianNB()</th>\n",
       "      <td>0.4668</td>\n",
       "    </tr>\n",
       "  </tbody>\n",
       "</table>\n",
       "</div>"
      ],
      "text/plain": [
       "                                             Score\n",
       "GradientBoostingClassifier(random_state=0)  0.8392\n",
       "RandomForestClassifier(random_state=0)      0.8364\n",
       "LogisticRegression()                        0.8351\n",
       "SVC()                                       0.8308\n",
       "KNeighborsClassifier()                      0.8252\n",
       "DecisionTreeClassifier(random_state=0)      0.8124\n",
       "SGDClassifier()                             0.8011\n",
       "GaussianNB()                                0.4668"
      ]
     },
     "execution_count": 66,
     "metadata": {},
     "output_type": "execute_result"
    }
   ],
   "source": [
    "df = pd.DataFrame(data = list(model_df.values()), index = model_df.keys(), \n",
    "                  columns = ['Score']).sort_values('Score', ascending = False)\n",
    "df"
   ]
  },
  {
   "cell_type": "markdown",
   "id": "232094b7",
   "metadata": {},
   "source": [
    "Choosing the top 3 Machine Learning algotithm for developing the model."
   ]
  },
  {
   "cell_type": "markdown",
   "id": "fabe7e07",
   "metadata": {},
   "source": [
    "##### 3.1.1 Logistic Regression."
   ]
  },
  {
   "cell_type": "code",
   "execution_count": 68,
   "id": "df3d6013",
   "metadata": {},
   "outputs": [],
   "source": [
    "# Checking whether changing the threshold can improve the model's accuracy.\n",
    "\n",
    "lrclf = LogisticRegression(random_state = 0)\n",
    "\n",
    "cvp_res = cross_val_predict(lrclf, mod_train_data, y_train, cv = 10,\n",
    "                            method = 'predict_proba')"
   ]
  },
  {
   "cell_type": "code",
   "execution_count": 70,
   "id": "dace83a3",
   "metadata": {},
   "outputs": [],
   "source": [
    "from sklearn.metrics import precision_recall_curve"
   ]
  },
  {
   "cell_type": "code",
   "execution_count": 71,
   "id": "dbfe1622",
   "metadata": {},
   "outputs": [],
   "source": [
    "precisions, recalls, thresholds = precision_recall_curve(y_train, cvp_res[:, 0])"
   ]
  },
  {
   "cell_type": "code",
   "execution_count": 78,
   "id": "7c8d6f73",
   "metadata": {},
   "outputs": [
    {
     "data": {
      "image/png": "[encoded data removed]",
      "text/plain": [
       "<Figure size 576x360 with 2 Axes>"
      ]
     },
     "metadata": {
      "needs_background": "light"
     },
     "output_type": "display_data"
    }
   ],
   "source": [
    "plt.figure(figsize = (8, 5))\n",
    "plt.subplot(121)\n",
    "plt.plot(thresholds, precisions[: -1], label = 'Precision')\n",
    "plt.plot(thresholds, recalls[: -1], label = 'Recall')\n",
    "plt.xlabel('Thresholds')\n",
    "plt.legend()\n",
    "\n",
    "plt.subplot(122)\n",
    "plt.plot(recalls[: -1], precisions[: -1])\n",
    "plt.title('Precision Recall Curve')\n",
    "plt.xlabel('Recall')\n",
    "plt.ylabel('Precision')\n",
    "plt.tight_layout()\n",
    "plt.show()"
   ]
  },
  {
   "cell_type": "markdown",
   "id": "18e7a90e",
   "metadata": {},
   "source": [
    "Threshold cannot be used for improvement."
   ]
  },
  {
   "cell_type": "code",
   "execution_count": 94,
   "id": "76438b71",
   "metadata": {},
   "outputs": [],
   "source": [
    "def overfit_tuning(classifier):\n",
    "    '''This function takes classifier as the input and prints \n",
    "       the scores for training and validation data.\n",
    "       \n",
    "       Input: Classifier\n",
    "       Output: prints the scores\n",
    "    '''\n",
    "    \n",
    "    classifier.fit(X = mod_train_data, y = y_train)\n",
    "    \n",
    "    pred_train = classifier.predict(mod_train_data)\n",
    "    pred_valid = classifier.predict(mod_valid_data)\n",
    "    \n",
    "    print('Training data')\n",
    "    print('-------------')\n",
    "    print('Accuracy:', np.round(accuracy_score(y_true = y_train, \n",
    "                                               y_pred = pred_train), 4))\n",
    "    print('Precision:', np.round(precision_score(y_true = y_train, \n",
    "                                                 y_pred = pred_train, \n",
    "                                                 average = 'macro'), 4))\n",
    "    print('Recall:', np.round(recall_score(y_true = y_train, \n",
    "                                           y_pred = pred_train,\n",
    "                                           average = 'macro'), 4))\n",
    "    \n",
    "    \n",
    "    print('\\nValidation data')\n",
    "    print('-----------------')\n",
    "    print('Accuracy:', np.round(accuracy_score(y_true = y_valid, \n",
    "                                               y_pred = pred_valid), 4))\n",
    "    print('Precision:', np.round(precision_score(y_true = y_valid, \n",
    "                                                 y_pred = pred_valid,\n",
    "                                                 average = 'macro'), 4))\n",
    "    print('Recall:', np.round(recall_score(y_true = y_valid, \n",
    "                                           y_pred = pred_valid,\n",
    "                                           average = 'macro'), 4))"
   ]
  },
  {
   "cell_type": "code",
   "execution_count": 95,
   "id": "0c5e7998",
   "metadata": {},
   "outputs": [],
   "source": [
    "# Seed value.\n",
    "\n",
    "seed = 0"
   ]
  },
  {
   "cell_type": "code",
   "execution_count": 96,
   "id": "133c44d6",
   "metadata": {},
   "outputs": [
    {
     "name": "stdout",
     "output_type": "stream",
     "text": [
      "Training data\n",
      "-------------\n",
      "Accuracy: 0.8928\n",
      "Precision: 0.8932\n",
      "Recall: 0.8778\n",
      "\n",
      "Validation data\n",
      "-----------------\n",
      "Accuracy: 0.8212\n",
      "Precision: 0.8169\n",
      "Recall: 0.8005\n"
     ]
    }
   ],
   "source": [
    "# Checking the model's scores on validation data.\n",
    "\n",
    "# 1) Logistic model\n",
    "\n",
    "lrclf = LogisticRegression(random_state = seed)\n",
    "overfit_tuning(lrclf)"
   ]
  },
  {
   "cell_type": "code",
   "execution_count": 97,
   "id": "c743276f",
   "metadata": {},
   "outputs": [
    {
     "name": "stdout",
     "output_type": "stream",
     "text": [
      "Training data\n",
      "-------------\n",
      "Accuracy: 1.0\n",
      "Precision: 1.0\n",
      "Recall: 1.0\n",
      "\n",
      "Validation data\n",
      "-----------------\n",
      "Accuracy: 0.8212\n",
      "Precision: 0.8337\n",
      "Recall: 0.787\n"
     ]
    }
   ],
   "source": [
    "# 2) Random Forest model\n",
    "\n",
    "rfclf = RandomForestClassifier(random_state = seed)\n",
    "overfit_tuning(rfclf)"
   ]
  },
  {
   "cell_type": "code",
   "execution_count": 98,
   "id": "3839ffcd",
   "metadata": {},
   "outputs": [
    {
     "name": "stdout",
     "output_type": "stream",
     "text": [
      "Training data\n",
      "-------------\n",
      "Accuracy: 0.8646\n",
      "Precision: 0.8634\n",
      "Recall: 0.8465\n",
      "\n",
      "Validation data\n",
      "-----------------\n",
      "Accuracy: 0.8156\n",
      "Precision: 0.8172\n",
      "Recall: 0.7879\n"
     ]
    }
   ],
   "source": [
    "# 3) GradientBoost model\n",
    "\n",
    "gbclf = GradientBoostingClassifier(random_state = seed)\n",
    "overfit_tuning(gbclf)"
   ]
  },
  {
   "cell_type": "markdown",
   "id": "e47aaffc",
   "metadata": {},
   "source": [
    "Choosing Random Forest model as it has better values on the validation data."
   ]
  },
  {
   "cell_type": "markdown",
   "id": "6d3ba5be",
   "metadata": {},
   "source": [
    "---\n",
    "#### 3.2. Tuning the Random Forest Model."
   ]
  },
  {
   "cell_type": "code",
   "execution_count": 102,
   "id": "9faef49d",
   "metadata": {},
   "outputs": [],
   "source": [
    "from sklearn.model_selection import GridSearchCV"
   ]
  },
  {
   "cell_type": "code",
   "execution_count": 112,
   "id": "3a84fb8e",
   "metadata": {},
   "outputs": [],
   "source": [
    "def manual_tuning(classifier, verbose = 0):\n",
    "    '''This function is used in conjunction with for loop for finding\n",
    "       the optimal parameters.\n",
    "       \n",
    "       Input: Classifier\n",
    "       Output: Tuples of scores'''\n",
    "    \n",
    "    gb_res = classifier.fit(X = mod_train_data, y = y_train)\n",
    "    \n",
    "    pred_train = classifier.predict(mod_train_data)\n",
    "    pred_valid = classifier.predict(mod_valid_data)\n",
    "\n",
    "    train_acc = np.round(accuracy_score(y_true = y_train, \n",
    "                                        y_pred = pred_train), 4)\n",
    "    train_pre = np.round(precision_score(y_true = y_train, \n",
    "                                         y_pred = pred_train, \n",
    "                                         average = 'macro'), 4)\n",
    "    train_rec = np.round(recall_score(y_true = y_train, \n",
    "                                      y_pred = pred_train,\n",
    "                                      average = 'macro'), 4)\n",
    "    \n",
    "    valid_acc = np.round(accuracy_score(y_true = y_valid, \n",
    "                                        y_pred = pred_valid), 4)\n",
    "    valid_pre = np.round(precision_score(y_true = y_valid, \n",
    "                                         y_pred = pred_valid,\n",
    "                                         average = 'macro'), 4)\n",
    "    valid_rec = np.round(recall_score(y_true = y_valid, \n",
    "                                      y_pred = pred_valid,\n",
    "                                      average = 'macro'), 4)\n",
    "    \n",
    "    if verbose:\n",
    "        print('Training data')\n",
    "        print('Accuracy:', train_acc)\n",
    "        print('Precision:', train_pre)\n",
    "        print('Recall:', train_rec)\n",
    "\n",
    "\n",
    "        print('\\nValidation data')\n",
    "        print('Accuracy:', valid_acc)\n",
    "        print('Precision:', valid_pre)\n",
    "        print('Recall:', valid_rec)\n",
    "    \n",
    "    return (train_acc, valid_acc), (train_pre, valid_pre), (train_rec, valid_rec)"
   ]
  },
  {
   "cell_type": "code",
   "execution_count": 113,
   "id": "848b5f87",
   "metadata": {},
   "outputs": [],
   "source": [
    "n_estimators_ = [30, 50, 60]\n",
    "max_depth_ = [15, 20, 30]\n",
    "min_samples_split_ = [5, 7, 9]\n",
    "\n",
    "esti_used = []\n",
    "accuracies_data = []\n",
    "precisions_data = []\n",
    "recalls_data = []\n",
    "\n",
    "for estimator in n_estimators_:\n",
    "    for depth in max_depth_:\n",
    "        for min_split in min_samples_split_:\n",
    "            esti_used.append((estimator, depth, min_split))\n",
    "            \n",
    "            rfclf = RandomForestClassifier(n_estimators = estimator, \n",
    "                                           max_depth = depth,\n",
    "                                           min_samples_split = min_split,\n",
    "                                           random_state = seed)\n",
    "            accuracies, precisions, recalls = manual_tuning(rfclf, verbose = 0)\n",
    "            accuracies_data.append(accuracies)\n",
    "            precisions_data.append(precisions)\n",
    "            recalls_data.append(recalls)"
   ]
  },
  {
   "cell_type": "code",
   "execution_count": 159,
   "id": "20c16fa5",
   "metadata": {},
   "outputs": [],
   "source": [
    "def all_plots():\n",
    "    '''This function plots the Accuracy, Precision and Recall'''\n",
    "    plt.figure(figsize = (8, 8))\n",
    "    plt.subplot(311)\n",
    "    plt.title('Accuracies')\n",
    "    plt.plot(list(zip(*accuracies_data))[0], label = 'Training accuracy')\n",
    "    plt.plot(list(zip(*accuracies_data))[1], label = 'Validation accuracy')\n",
    "    plt.xlabel('Iterations')\n",
    "    plt.ylabel('Accuracy')\n",
    "    plt.legend()\n",
    "\n",
    "    plt.subplot(312)\n",
    "    plt.title('Precisions')\n",
    "    plt.plot(list(zip(*precisions_data))[0], label = 'Training precision')\n",
    "    plt.plot(list(zip(*precisions_data))[1], label = 'Validation precision')\n",
    "    plt.xlabel('Iterations')\n",
    "    plt.ylabel('Precisions')\n",
    "    plt.legend()\n",
    "\n",
    "    plt.subplot(313)\n",
    "    plt.title('Recalls')\n",
    "    plt.plot(list(zip(*recalls_data))[0], label = 'Training recall')\n",
    "    plt.plot(list(zip(*recalls_data))[1], label = 'Validation recall')\n",
    "    plt.xlabel('Iterations')\n",
    "    plt.ylabel('Recalls')\n",
    "    plt.legend()\n",
    "    plt.tight_layout()\n",
    "    plt.show()\n",
    "    "
   ]
  },
  {
   "cell_type": "code",
   "execution_count": 160,
   "id": "34eac5b4",
   "metadata": {
    "collapsed": true
   },
   "outputs": [
    {
     "data": {
      "image/png": "[encoded data removed]",
      "text/plain": [
       "<Figure size 576x576 with 3 Axes>"
      ]
     },
     "metadata": {
      "needs_background": "light"
     },
     "output_type": "display_data"
    }
   ],
   "source": [
    "all_plots()"
   ]
  },
  {
   "cell_type": "code",
   "execution_count": 136,
   "id": "f2f65276",
   "metadata": {},
   "outputs": [],
   "source": [
    "def all_scatter():\n",
    "    '''This function plots the Accuracy, Precision and Recall'''\n",
    "    plt.scatter(list(zip(*accuracies_data))[0],\n",
    "                list(zip(*accuracies_data))[1], label = 'Accuracy')\n",
    "    plt.scatter(list(zip(*precisions_data))[0],\n",
    "                list(zip(*precisions_data))[1], label = 'Precision')\n",
    "    plt.scatter(list(zip(*recalls_data))[0],\n",
    "                list(zip(*recalls_data))[1], label = 'Recall')\n",
    "    plt.xlabel('Training values')\n",
    "    plt.ylabel('Valid values')\n",
    "    plt.legend()\n",
    "    plt.tight_layout()\n",
    "    plt.show()"
   ]
  },
  {
   "cell_type": "code",
   "execution_count": 137,
   "id": "823d6665",
   "metadata": {},
   "outputs": [
    {
     "data": {
      "image/png": "[encoded data removed]",
      "text/plain": [
       "<Figure size 432x288 with 1 Axes>"
      ]
     },
     "metadata": {
      "needs_background": "light"
     },
     "output_type": "display_data"
    }
   ],
   "source": [
    "all_scatter()"
   ]
  },
  {
   "cell_type": "code",
   "execution_count": 170,
   "id": "79de2b48",
   "metadata": {},
   "outputs": [],
   "source": [
    "def max_values_(accuracies_data, precisions_data, recalls_data):\n",
    "    '''This function finds the max scores from the validation values.'''\n",
    "    print('Max values')\n",
    "    print('Acc:', max(list(zip(*accuracies_data))[1]), \n",
    "          '\\nPre:', max(list(zip(*precisions_data))[1]),\n",
    "          '\\nRec:', max(list(zip(*recalls_data))[1]))"
   ]
  },
  {
   "cell_type": "code",
   "execution_count": 171,
   "id": "b141df9f",
   "metadata": {},
   "outputs": [
    {
     "name": "stdout",
     "output_type": "stream",
     "text": [
      "Max values\n",
      "Acc: 0.8324 \n",
      "Pre: 0.8386 \n",
      "Rec: 0.8042\n"
     ]
    }
   ],
   "source": [
    "max_values_(accuracies_data, precisions_data, recalls_data)"
   ]
  },
  {
   "cell_type": "code",
   "execution_count": null,
   "id": "6f691093",
   "metadata": {},
   "outputs": [],
   "source": [
    "# Validation data Previous values\n",
    "# -------------------------------\n",
    "# Accuracy: 0.8212\n",
    "# Precision: 0.8337\n",
    "# Recall: 0.787"
   ]
  },
  {
   "cell_type": "code",
   "execution_count": 175,
   "id": "0ee798be",
   "metadata": {},
   "outputs": [],
   "source": [
    "def max_params_(accuracies_data, precisions_data, recalls_data):\n",
    "    '''This function finds the parameters corresponding to max scores from the \n",
    "       validation values.'''\n",
    "    max_index_acc = list(zip(*accuracies_data))[1].index(max(list(zip(*accuracies_data))[1]))\n",
    "    print('Estimator based on max val accuracy:', esti_used[max_index_acc])\n",
    "\n",
    "    max_index_prec = list(zip(*precisions_data))[1].index(max(list(zip(*precisions_data))[1]))\n",
    "    print('Estimator based on max val precision:', esti_used[max_index_prec])\n",
    "\n",
    "    max_index_rec = list(zip(*recalls_data))[1].index(max(list(zip(*recalls_data))[1]))\n",
    "    print('Estimator based on max val recall:', esti_used[max_index_rec])"
   ]
  },
  {
   "cell_type": "code",
   "execution_count": 176,
   "id": "f827114b",
   "metadata": {},
   "outputs": [
    {
     "name": "stdout",
     "output_type": "stream",
     "text": [
      "Estimator based on max val accuracy: (60, 30, 9)\n",
      "Estimator based on max val precision: (60, 30, 9)\n",
      "Estimator based on max val recall: (60, 30, 9)\n"
     ]
    }
   ],
   "source": [
    "max_params_(accuracies_data, precisions_data, recalls_data)"
   ]
  },
  {
   "cell_type": "code",
   "execution_count": 177,
   "id": "8cfd86cb",
   "metadata": {},
   "outputs": [],
   "source": [
    "# Improvement observed."
   ]
  },
  {
   "cell_type": "code",
   "execution_count": 178,
   "id": "83dfe543",
   "metadata": {},
   "outputs": [],
   "source": [
    "# Further tuning\n",
    "\n",
    "n_estimators_ = [60, 70, 80]\n",
    "max_depth_ = [30, 40, 50]\n",
    "min_samples_split_ = [9, 11, 13]\n",
    "\n",
    "esti_used = []\n",
    "accuracies_data = []\n",
    "precisions_data = []\n",
    "recalls_data = []\n",
    "\n",
    "for estimator in n_estimators_:\n",
    "    for depth in max_depth_:\n",
    "        for min_split in min_samples_split_:\n",
    "            esti_used.append((estimator, depth, min_split))\n",
    "            \n",
    "            rfclf = RandomForestClassifier(n_estimators = estimator, \n",
    "                                           max_depth = depth,\n",
    "                                           min_samples_split = min_split,\n",
    "                                           random_state = seed)\n",
    "            accuracies, precisions, recalls = manual_tuning(rfclf, verbose = 0)\n",
    "            accuracies_data.append(accuracies)\n",
    "            precisions_data.append(precisions)\n",
    "            recalls_data.append(recalls)"
   ]
  },
  {
   "cell_type": "code",
   "execution_count": 182,
   "id": "ca670177",
   "metadata": {},
   "outputs": [
    {
     "name": "stdout",
     "output_type": "stream",
     "text": [
      "Estimator based on max val accuracy: (60, 30, 13)\n",
      "Estimator based on max val precision: (60, 30, 13)\n",
      "Estimator based on max val recall: (60, 30, 13)\n"
     ]
    }
   ],
   "source": [
    "max_params_(accuracies_data, precisions_data, recalls_data)"
   ]
  },
  {
   "cell_type": "code",
   "execution_count": 181,
   "id": "bf875591",
   "metadata": {},
   "outputs": [
    {
     "name": "stdout",
     "output_type": "stream",
     "text": [
      "Max values\n",
      "Acc: 0.838 \n",
      "Pre: 0.8432 \n",
      "Rec: 0.8115\n"
     ]
    }
   ],
   "source": [
    "max_values_(accuracies_data, precisions_data, recalls_data)"
   ]
  },
  {
   "cell_type": "code",
   "execution_count": null,
   "id": "34d48ffe",
   "metadata": {},
   "outputs": [],
   "source": [
    "# Validation data Previous values\n",
    "# -------------------------------\n",
    "# Max values\n",
    "# Acc: 0.8324 \n",
    "# Pre: 0.8386 \n",
    "# Rec: 0.8042"
   ]
  },
  {
   "cell_type": "code",
   "execution_count": null,
   "id": "5236c701",
   "metadata": {},
   "outputs": [],
   "source": [
    "# Improvement observed."
   ]
  },
  {
   "cell_type": "code",
   "execution_count": 191,
   "id": "c067cd12",
   "metadata": {
    "collapsed": true
   },
   "outputs": [
    {
     "name": "stderr",
     "output_type": "stream",
     "text": [
      "C:\\Users\\praja\\anaconda3\\lib\\site-packages\\sklearn\\metrics\\_classification.py:1248: UndefinedMetricWarning: Precision is ill-defined and being set to 0.0 in labels with no predicted samples. Use `zero_division` parameter to control this behavior.\n",
      "  _warn_prf(average, modifier, msg_start, len(result))\n",
      "C:\\Users\\praja\\anaconda3\\lib\\site-packages\\sklearn\\metrics\\_classification.py:1248: UndefinedMetricWarning: Precision is ill-defined and being set to 0.0 in labels with no predicted samples. Use `zero_division` parameter to control this behavior.\n",
      "  _warn_prf(average, modifier, msg_start, len(result))\n",
      "C:\\Users\\praja\\anaconda3\\lib\\site-packages\\sklearn\\metrics\\_classification.py:1248: UndefinedMetricWarning: Precision is ill-defined and being set to 0.0 in labels with no predicted samples. Use `zero_division` parameter to control this behavior.\n",
      "  _warn_prf(average, modifier, msg_start, len(result))\n",
      "C:\\Users\\praja\\anaconda3\\lib\\site-packages\\sklearn\\metrics\\_classification.py:1248: UndefinedMetricWarning: Precision is ill-defined and being set to 0.0 in labels with no predicted samples. Use `zero_division` parameter to control this behavior.\n",
      "  _warn_prf(average, modifier, msg_start, len(result))\n",
      "C:\\Users\\praja\\anaconda3\\lib\\site-packages\\sklearn\\metrics\\_classification.py:1248: UndefinedMetricWarning: Precision is ill-defined and being set to 0.0 in labels with no predicted samples. Use `zero_division` parameter to control this behavior.\n",
      "  _warn_prf(average, modifier, msg_start, len(result))\n",
      "C:\\Users\\praja\\anaconda3\\lib\\site-packages\\sklearn\\metrics\\_classification.py:1248: UndefinedMetricWarning: Precision is ill-defined and being set to 0.0 in labels with no predicted samples. Use `zero_division` parameter to control this behavior.\n",
      "  _warn_prf(average, modifier, msg_start, len(result))\n",
      "C:\\Users\\praja\\anaconda3\\lib\\site-packages\\sklearn\\metrics\\_classification.py:1248: UndefinedMetricWarning: Precision is ill-defined and being set to 0.0 in labels with no predicted samples. Use `zero_division` parameter to control this behavior.\n",
      "  _warn_prf(average, modifier, msg_start, len(result))\n",
      "C:\\Users\\praja\\anaconda3\\lib\\site-packages\\sklearn\\metrics\\_classification.py:1248: UndefinedMetricWarning: Precision is ill-defined and being set to 0.0 in labels with no predicted samples. Use `zero_division` parameter to control this behavior.\n",
      "  _warn_prf(average, modifier, msg_start, len(result))\n",
      "C:\\Users\\praja\\anaconda3\\lib\\site-packages\\sklearn\\metrics\\_classification.py:1248: UndefinedMetricWarning: Precision is ill-defined and being set to 0.0 in labels with no predicted samples. Use `zero_division` parameter to control this behavior.\n",
      "  _warn_prf(average, modifier, msg_start, len(result))\n",
      "C:\\Users\\praja\\anaconda3\\lib\\site-packages\\sklearn\\metrics\\_classification.py:1248: UndefinedMetricWarning: Precision is ill-defined and being set to 0.0 in labels with no predicted samples. Use `zero_division` parameter to control this behavior.\n",
      "  _warn_prf(average, modifier, msg_start, len(result))\n",
      "C:\\Users\\praja\\anaconda3\\lib\\site-packages\\sklearn\\metrics\\_classification.py:1248: UndefinedMetricWarning: Precision is ill-defined and being set to 0.0 in labels with no predicted samples. Use `zero_division` parameter to control this behavior.\n",
      "  _warn_prf(average, modifier, msg_start, len(result))\n",
      "C:\\Users\\praja\\anaconda3\\lib\\site-packages\\sklearn\\metrics\\_classification.py:1248: UndefinedMetricWarning: Precision is ill-defined and being set to 0.0 in labels with no predicted samples. Use `zero_division` parameter to control this behavior.\n",
      "  _warn_prf(average, modifier, msg_start, len(result))\n"
     ]
    }
   ],
   "source": [
    "# Further tuning\n",
    "\n",
    "min_samples_leaf = [1, 3, 10]\n",
    "max_features = ['sqrt', 'auto', 'log2']\n",
    "\n",
    "esti_used = []\n",
    "accuracies_data = []\n",
    "precisions_data = []\n",
    "recalls_data = []\n",
    "\n",
    "for min_sample in min_samples_leaf:\n",
    "    for max_feat in max_features:\n",
    "        esti_used.append((min_sample, max_feat))\n",
    "\n",
    "        rfclf = RandomForestClassifier(n_estimators = 60, \n",
    "                                       max_depth = 30,\n",
    "                                       min_samples_split = 13,\n",
    "                                       min_samples_leaf = min_sample,\n",
    "                                       max_features = max_feat,\n",
    "                                       random_state = seed)\n",
    "        accuracies, precisions, recalls = manual_tuning(rfclf, verbose = 0)\n",
    "        accuracies_data.append(accuracies)\n",
    "        precisions_data.append(precisions)\n",
    "        recalls_data.append(recalls)"
   ]
  },
  {
   "cell_type": "code",
   "execution_count": 192,
   "id": "02a819ad",
   "metadata": {},
   "outputs": [
    {
     "name": "stdout",
     "output_type": "stream",
     "text": [
      "Estimator based on max val accuracy: (1, 'log2')\n",
      "Estimator based on max val precision: (1, 'log2')\n",
      "Estimator based on max val recall: (1, 'log2')\n"
     ]
    }
   ],
   "source": [
    "max_params_(accuracies_data, precisions_data, recalls_data)"
   ]
  },
  {
   "cell_type": "code",
   "execution_count": 193,
   "id": "19c490a2",
   "metadata": {},
   "outputs": [
    {
     "name": "stdout",
     "output_type": "stream",
     "text": [
      "Max values\n",
      "Acc: 0.8436 \n",
      "Pre: 0.8561 \n",
      "Rec: 0.8133\n"
     ]
    }
   ],
   "source": [
    "max_values_(accuracies_data, precisions_data, recalls_data)"
   ]
  },
  {
   "cell_type": "code",
   "execution_count": null,
   "id": "ddcbbc67",
   "metadata": {},
   "outputs": [],
   "source": [
    "# Validation data Previous values\n",
    "# -------------------------------\n",
    "# Max values\n",
    "# Acc: 0.838 \n",
    "# Pre: 0.8432 \n",
    "# Rec: 0.8115"
   ]
  },
  {
   "cell_type": "code",
   "execution_count": null,
   "id": "82035593",
   "metadata": {},
   "outputs": [],
   "source": [
    "# Improvement observed"
   ]
  },
  {
   "cell_type": "code",
   "execution_count": 194,
   "id": "757cc1d8",
   "metadata": {
    "collapsed": true
   },
   "outputs": [
    {
     "data": {
      "image/png": "[encoded data removed]",
      "text/plain": [
       "<Figure size 432x288 with 1 Axes>"
      ]
     },
     "metadata": {
      "needs_background": "light"
     },
     "output_type": "display_data"
    }
   ],
   "source": [
    "all_scatter()"
   ]
  },
  {
   "cell_type": "code",
   "execution_count": 195,
   "id": "eb99c09d",
   "metadata": {
    "collapsed": true
   },
   "outputs": [
    {
     "name": "stderr",
     "output_type": "stream",
     "text": [
      "C:\\Users\\praja\\anaconda3\\lib\\site-packages\\sklearn\\metrics\\_classification.py:1248: UndefinedMetricWarning: Precision is ill-defined and being set to 0.0 in labels with no predicted samples. Use `zero_division` parameter to control this behavior.\n",
      "  _warn_prf(average, modifier, msg_start, len(result))\n",
      "C:\\Users\\praja\\anaconda3\\lib\\site-packages\\sklearn\\metrics\\_classification.py:1248: UndefinedMetricWarning: Precision is ill-defined and being set to 0.0 in labels with no predicted samples. Use `zero_division` parameter to control this behavior.\n",
      "  _warn_prf(average, modifier, msg_start, len(result))\n",
      "C:\\Users\\praja\\anaconda3\\lib\\site-packages\\sklearn\\metrics\\_classification.py:1248: UndefinedMetricWarning: Precision is ill-defined and being set to 0.0 in labels with no predicted samples. Use `zero_division` parameter to control this behavior.\n",
      "  _warn_prf(average, modifier, msg_start, len(result))\n",
      "C:\\Users\\praja\\anaconda3\\lib\\site-packages\\sklearn\\metrics\\_classification.py:1248: UndefinedMetricWarning: Precision is ill-defined and being set to 0.0 in labels with no predicted samples. Use `zero_division` parameter to control this behavior.\n",
      "  _warn_prf(average, modifier, msg_start, len(result))\n",
      "C:\\Users\\praja\\anaconda3\\lib\\site-packages\\sklearn\\metrics\\_classification.py:1248: UndefinedMetricWarning: Precision is ill-defined and being set to 0.0 in labels with no predicted samples. Use `zero_division` parameter to control this behavior.\n",
      "  _warn_prf(average, modifier, msg_start, len(result))\n",
      "C:\\Users\\praja\\anaconda3\\lib\\site-packages\\sklearn\\metrics\\_classification.py:1248: UndefinedMetricWarning: Precision is ill-defined and being set to 0.0 in labels with no predicted samples. Use `zero_division` parameter to control this behavior.\n",
      "  _warn_prf(average, modifier, msg_start, len(result))\n",
      "C:\\Users\\praja\\anaconda3\\lib\\site-packages\\sklearn\\metrics\\_classification.py:1248: UndefinedMetricWarning: Precision is ill-defined and being set to 0.0 in labels with no predicted samples. Use `zero_division` parameter to control this behavior.\n",
      "  _warn_prf(average, modifier, msg_start, len(result))\n",
      "C:\\Users\\praja\\anaconda3\\lib\\site-packages\\sklearn\\metrics\\_classification.py:1248: UndefinedMetricWarning: Precision is ill-defined and being set to 0.0 in labels with no predicted samples. Use `zero_division` parameter to control this behavior.\n",
      "  _warn_prf(average, modifier, msg_start, len(result))\n",
      "C:\\Users\\praja\\anaconda3\\lib\\site-packages\\sklearn\\metrics\\_classification.py:1248: UndefinedMetricWarning: Precision is ill-defined and being set to 0.0 in labels with no predicted samples. Use `zero_division` parameter to control this behavior.\n",
      "  _warn_prf(average, modifier, msg_start, len(result))\n",
      "C:\\Users\\praja\\anaconda3\\lib\\site-packages\\sklearn\\metrics\\_classification.py:1248: UndefinedMetricWarning: Precision is ill-defined and being set to 0.0 in labels with no predicted samples. Use `zero_division` parameter to control this behavior.\n",
      "  _warn_prf(average, modifier, msg_start, len(result))\n",
      "C:\\Users\\praja\\anaconda3\\lib\\site-packages\\sklearn\\metrics\\_classification.py:1248: UndefinedMetricWarning: Precision is ill-defined and being set to 0.0 in labels with no predicted samples. Use `zero_division` parameter to control this behavior.\n",
      "  _warn_prf(average, modifier, msg_start, len(result))\n",
      "C:\\Users\\praja\\anaconda3\\lib\\site-packages\\sklearn\\metrics\\_classification.py:1248: UndefinedMetricWarning: Precision is ill-defined and being set to 0.0 in labels with no predicted samples. Use `zero_division` parameter to control this behavior.\n",
      "  _warn_prf(average, modifier, msg_start, len(result))\n",
      "C:\\Users\\praja\\anaconda3\\lib\\site-packages\\sklearn\\metrics\\_classification.py:1248: UndefinedMetricWarning: Precision is ill-defined and being set to 0.0 in labels with no predicted samples. Use `zero_division` parameter to control this behavior.\n",
      "  _warn_prf(average, modifier, msg_start, len(result))\n",
      "C:\\Users\\praja\\anaconda3\\lib\\site-packages\\sklearn\\metrics\\_classification.py:1248: UndefinedMetricWarning: Precision is ill-defined and being set to 0.0 in labels with no predicted samples. Use `zero_division` parameter to control this behavior.\n",
      "  _warn_prf(average, modifier, msg_start, len(result))\n",
      "C:\\Users\\praja\\anaconda3\\lib\\site-packages\\sklearn\\metrics\\_classification.py:1248: UndefinedMetricWarning: Precision is ill-defined and being set to 0.0 in labels with no predicted samples. Use `zero_division` parameter to control this behavior.\n",
      "  _warn_prf(average, modifier, msg_start, len(result))\n",
      "C:\\Users\\praja\\anaconda3\\lib\\site-packages\\sklearn\\metrics\\_classification.py:1248: UndefinedMetricWarning: Precision is ill-defined and being set to 0.0 in labels with no predicted samples. Use `zero_division` parameter to control this behavior.\n",
      "  _warn_prf(average, modifier, msg_start, len(result))\n",
      "C:\\Users\\praja\\anaconda3\\lib\\site-packages\\sklearn\\metrics\\_classification.py:1248: UndefinedMetricWarning: Precision is ill-defined and being set to 0.0 in labels with no predicted samples. Use `zero_division` parameter to control this behavior.\n",
      "  _warn_prf(average, modifier, msg_start, len(result))\n",
      "C:\\Users\\praja\\anaconda3\\lib\\site-packages\\sklearn\\metrics\\_classification.py:1248: UndefinedMetricWarning: Precision is ill-defined and being set to 0.0 in labels with no predicted samples. Use `zero_division` parameter to control this behavior.\n",
      "  _warn_prf(average, modifier, msg_start, len(result))\n",
      "C:\\Users\\praja\\anaconda3\\lib\\site-packages\\sklearn\\metrics\\_classification.py:1248: UndefinedMetricWarning: Precision is ill-defined and being set to 0.0 in labels with no predicted samples. Use `zero_division` parameter to control this behavior.\n",
      "  _warn_prf(average, modifier, msg_start, len(result))\n",
      "C:\\Users\\praja\\anaconda3\\lib\\site-packages\\sklearn\\metrics\\_classification.py:1248: UndefinedMetricWarning: Precision is ill-defined and being set to 0.0 in labels with no predicted samples. Use `zero_division` parameter to control this behavior.\n",
      "  _warn_prf(average, modifier, msg_start, len(result))\n"
     ]
    }
   ],
   "source": [
    "# Further tuning\n",
    "\n",
    "bootstrap_ = [True, False]\n",
    "warm_start_ = [True, False]\n",
    "ccp_alpha_ = [0.010, 0.015, 0.020, 0.025]\n",
    "\n",
    "esti_used = []\n",
    "accuracies_data = []\n",
    "precisions_data = []\n",
    "recalls_data = []\n",
    "\n",
    "for strap in bootstrap_:\n",
    "    for start in warm_start_:\n",
    "        for ccp_ in ccp_alpha_:\n",
    "            esti_used.append((strap, start, ccp_))\n",
    "\n",
    "            rfclf = RandomForestClassifier(n_estimators = 60, \n",
    "                                           max_depth = 30,\n",
    "                                           min_samples_split = 13,\n",
    "                                           min_samples_leaf = 1,\n",
    "                                           max_features = 'log2',\n",
    "                                           bootstrap = strap,\n",
    "                                           warm_start = start,\n",
    "                                           ccp_alpha = ccp_,\n",
    "                                           random_state = seed)\n",
    "            accuracies, precisions, recalls = manual_tuning(rfclf, verbose = 0)\n",
    "            accuracies_data.append(accuracies)\n",
    "            precisions_data.append(precisions)\n",
    "            recalls_data.append(recalls)"
   ]
  },
  {
   "cell_type": "code",
   "execution_count": 196,
   "id": "e6a9e863",
   "metadata": {},
   "outputs": [
    {
     "name": "stdout",
     "output_type": "stream",
     "text": [
      "Estimator based on max val accuracy: (True, True, 0.01)\n",
      "Estimator based on max val precision: (True, True, 0.01)\n",
      "Estimator based on max val recall: (True, True, 0.01)\n"
     ]
    }
   ],
   "source": [
    "max_params_(accuracies_data, precisions_data, recalls_data)"
   ]
  },
  {
   "cell_type": "code",
   "execution_count": 197,
   "id": "e93012ba",
   "metadata": {},
   "outputs": [
    {
     "name": "stdout",
     "output_type": "stream",
     "text": [
      "Max values\n",
      "Acc: 0.7486 \n",
      "Pre: 0.8219 \n",
      "Rec: 0.6793\n"
     ]
    }
   ],
   "source": [
    "max_values_(accuracies_data, precisions_data, recalls_data)"
   ]
  },
  {
   "cell_type": "code",
   "execution_count": 198,
   "id": "c6d25a19",
   "metadata": {},
   "outputs": [],
   "source": [
    "# No improvements"
   ]
  },
  {
   "cell_type": "markdown",
   "id": "4137374f",
   "metadata": {},
   "source": [
    "---\n",
    "### 4. Final model."
   ]
  },
  {
   "cell_type": "code",
   "execution_count": 203,
   "id": "64c72cf6",
   "metadata": {},
   "outputs": [],
   "source": [
    "rfclf = RandomForestClassifier(n_estimators = 60, \n",
    "                               max_depth = 30,\n",
    "                               min_samples_split = 13,\n",
    "                               min_samples_leaf = 1,\n",
    "                               max_features = 'log2',\n",
    "                               bootstrap = True,\n",
    "                               warm_start = True,\n",
    "                               ccp_alpha = 0.0,\n",
    "                               random_state = seed)\n",
    "\n",
    "accuracies, precisions, recalls = manual_tuning(rfclf, verbose = False)\n",
    "accuracies_data.append(accuracies)\n",
    "precisions_data.append(precisions)\n",
    "recalls_data.append(recalls)"
   ]
  },
  {
   "cell_type": "code",
   "execution_count": 204,
   "id": "9c18ec27",
   "metadata": {},
   "outputs": [
    {
     "name": "stdout",
     "output_type": "stream",
     "text": [
      "Max values\n",
      "Acc: 0.8436 \n",
      "Pre: 0.8561 \n",
      "Rec: 0.8133\n"
     ]
    }
   ],
   "source": [
    "max_values_(accuracies_data, precisions_data, recalls_data)"
   ]
  },
  {
   "cell_type": "markdown",
   "id": "490b0931",
   "metadata": {},
   "source": [
    "---\n",
    "### 5. Predictions."
   ]
  },
  {
   "cell_type": "code",
   "execution_count": 205,
   "id": "8f913f25",
   "metadata": {},
   "outputs": [],
   "source": [
    "# Test data predictions.\n",
    "\n",
    "id_test = pd.read_csv('test.csv')\n",
    "\n",
    "pred_test = rfclf.predict(X = mod_test_data)\n",
    "\n",
    "test_df = pd.DataFrame({'PassengerId': id_test['PassengerId'],\n",
    "                        'Survived': pred_test})\n",
    "test_df.to_csv('3rdattempt.csv', index = False)"
   ]
  },
  {
   "cell_type": "markdown",
   "id": "2eaac615",
   "metadata": {},
   "source": [
    "---\n",
    "### 6. Kaggle Submissions."
   ]
  },
  {
   "cell_type": "code",
   "execution_count": 208,
   "id": "b4fa7134",
   "metadata": {},
   "outputs": [
    {
     "data": {
      "text/html": [
       "<div>\n",
       "<style scoped>\n",
       "    .dataframe tbody tr th:only-of-type {\n",
       "        vertical-align: middle;\n",
       "    }\n",
       "\n",
       "    .dataframe tbody tr th {\n",
       "        vertical-align: top;\n",
       "    }\n",
       "\n",
       "    .dataframe thead th {\n",
       "        text-align: right;\n",
       "    }\n",
       "</style>\n",
       "<table border=\"1\" class=\"dataframe\">\n",
       "  <thead>\n",
       "    <tr style=\"text-align: right;\">\n",
       "      <th></th>\n",
       "      <th>Score</th>\n",
       "      <th>Rank</th>\n",
       "    </tr>\n",
       "  </thead>\n",
       "  <tbody>\n",
       "    <tr>\n",
       "      <th>First_attempt</th>\n",
       "      <td>0.78220</td>\n",
       "      <td>8741</td>\n",
       "    </tr>\n",
       "    <tr>\n",
       "      <th>Second_attempt</th>\n",
       "      <td>0.78947</td>\n",
       "      <td>4248</td>\n",
       "    </tr>\n",
       "    <tr>\n",
       "      <th>Third_attempt</th>\n",
       "      <td>0.79904</td>\n",
       "      <td>2495</td>\n",
       "    </tr>\n",
       "  </tbody>\n",
       "</table>\n",
       "</div>"
      ],
      "text/plain": [
       "                  Score  Rank\n",
       "First_attempt   0.78220  8741\n",
       "Second_attempt  0.78947  4248\n",
       "Third_attempt   0.79904  2495"
      ]
     },
     "execution_count": 208,
     "metadata": {},
     "output_type": "execute_result"
    }
   ],
   "source": [
    "pd.DataFrame(data = [[0.7822, 8741], \n",
    "                     [0.78947, 4248],\n",
    "                     [0.79904, 2495]], \n",
    "             index = ['First_attempt', 'Second_attempt', 'Third_attempt'], \n",
    "             columns = ['Score', 'Rank'])"
   ]
  }
 ],
 "metadata": {
  "kernelspec": {
   "display_name": "Python 3",
   "language": "python",
   "name": "python3"
  },
  "language_info": {
   "codemirror_mode": {
    "name": "ipython",
    "version": 3
   },
   "file_extension": ".py",
   "mimetype": "text/x-python",
   "name": "python",
   "nbconvert_exporter": "python",
   "pygments_lexer": "ipython3",
   "version": "3.8.10"
  }
 },
 "nbformat": 4,
 "nbformat_minor": 5
}
