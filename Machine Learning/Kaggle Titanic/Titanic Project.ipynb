{
 "cells": [
  {
   "cell_type": "code",
   "execution_count": 2,
   "id": "4ebadbb4",
   "metadata": {},
   "outputs": [],
   "source": [
    "# Date: 28/05/2021\n",
    "# Title: Titanic Project.\n",
    "# Author: Parmeshwar Prajapati."
   ]
  },
  {
   "cell_type": "markdown",
   "id": "b02b6279",
   "metadata": {},
   "source": [
    "---\n",
    "### 1. Importing modules."
   ]
  },
  {
   "cell_type": "code",
   "execution_count": 32,
   "id": "3fde2734",
   "metadata": {},
   "outputs": [],
   "source": [
    "import numpy as np\n",
    "import pandas as pd\n",
    "\n",
    "import matplotlib.pyplot as plt\n",
    "import seaborn as sb\n",
    "\n",
    "import scipy.stats as scistats"
   ]
  },
  {
   "cell_type": "markdown",
   "id": "e5fa02a5",
   "metadata": {},
   "source": [
    "---\n",
    "### 2. Importing data."
   ]
  },
  {
   "cell_type": "code",
   "execution_count": 33,
   "id": "4c3d2e32",
   "metadata": {},
   "outputs": [
    {
     "name": "stdout",
     "output_type": "stream",
     "text": [
      "(891, 12)\n",
      "(418, 11)\n"
     ]
    }
   ],
   "source": [
    "raw_train = pd.read_csv('train.csv')\n",
    "raw_test = pd.read_csv('test.csv')\n",
    "\n",
    "print(raw_train.shape)\n",
    "print(raw_test.shape)"
   ]
  },
  {
   "cell_type": "markdown",
   "id": "9a1aa733",
   "metadata": {},
   "source": [
    "#### 2.1. Quick glance at the data."
   ]
  },
  {
   "cell_type": "code",
   "execution_count": 34,
   "id": "ba1ddd4d",
   "metadata": {},
   "outputs": [
    {
     "data": {
      "text/html": [
       "<div>\n",
       "<style scoped>\n",
       "    .dataframe tbody tr th:only-of-type {\n",
       "        vertical-align: middle;\n",
       "    }\n",
       "\n",
       "    .dataframe tbody tr th {\n",
       "        vertical-align: top;\n",
       "    }\n",
       "\n",
       "    .dataframe thead th {\n",
       "        text-align: right;\n",
       "    }\n",
       "</style>\n",
       "<table border=\"1\" class=\"dataframe\">\n",
       "  <thead>\n",
       "    <tr style=\"text-align: right;\">\n",
       "      <th></th>\n",
       "      <th>PassengerId</th>\n",
       "      <th>Survived</th>\n",
       "      <th>Pclass</th>\n",
       "      <th>Name</th>\n",
       "      <th>Sex</th>\n",
       "      <th>Age</th>\n",
       "      <th>SibSp</th>\n",
       "      <th>Parch</th>\n",
       "      <th>Ticket</th>\n",
       "      <th>Fare</th>\n",
       "      <th>Cabin</th>\n",
       "      <th>Embarked</th>\n",
       "    </tr>\n",
       "  </thead>\n",
       "  <tbody>\n",
       "    <tr>\n",
       "      <th>0</th>\n",
       "      <td>1</td>\n",
       "      <td>0</td>\n",
       "      <td>3</td>\n",
       "      <td>Braund, Mr. Owen Harris</td>\n",
       "      <td>male</td>\n",
       "      <td>22.0</td>\n",
       "      <td>1</td>\n",
       "      <td>0</td>\n",
       "      <td>A/5 21171</td>\n",
       "      <td>7.2500</td>\n",
       "      <td>NaN</td>\n",
       "      <td>S</td>\n",
       "    </tr>\n",
       "    <tr>\n",
       "      <th>1</th>\n",
       "      <td>2</td>\n",
       "      <td>1</td>\n",
       "      <td>1</td>\n",
       "      <td>Cumings, Mrs. John Bradley (Florence Briggs Th...</td>\n",
       "      <td>female</td>\n",
       "      <td>38.0</td>\n",
       "      <td>1</td>\n",
       "      <td>0</td>\n",
       "      <td>PC 17599</td>\n",
       "      <td>71.2833</td>\n",
       "      <td>C85</td>\n",
       "      <td>C</td>\n",
       "    </tr>\n",
       "  </tbody>\n",
       "</table>\n",
       "</div>"
      ],
      "text/plain": [
       "   PassengerId  Survived  Pclass  \\\n",
       "0            1         0       3   \n",
       "1            2         1       1   \n",
       "\n",
       "                                                Name     Sex   Age  SibSp  \\\n",
       "0                            Braund, Mr. Owen Harris    male  22.0      1   \n",
       "1  Cumings, Mrs. John Bradley (Florence Briggs Th...  female  38.0      1   \n",
       "\n",
       "   Parch     Ticket     Fare Cabin Embarked  \n",
       "0      0  A/5 21171   7.2500   NaN        S  \n",
       "1      0   PC 17599  71.2833   C85        C  "
      ]
     },
     "execution_count": 34,
     "metadata": {},
     "output_type": "execute_result"
    }
   ],
   "source": [
    "raw_train.head(2)"
   ]
  },
  {
   "cell_type": "code",
   "execution_count": 35,
   "id": "acdc0fdb",
   "metadata": {},
   "outputs": [
    {
     "name": "stdout",
     "output_type": "stream",
     "text": [
      "Raw train data shape: (891, 10)\n",
      "Raw test data shape: (418, 9)\n"
     ]
    }
   ],
   "source": [
    "# Dropping 'PassengerId' and 'Name'.\n",
    "\n",
    "raw_train.drop(columns = ['PassengerId', 'Name'], inplace = True)\n",
    "raw_test.drop(columns = ['PassengerId', 'Name'], inplace = True)\n",
    "\n",
    "print('Raw train data shape:', raw_train.shape)\n",
    "print('Raw test data shape:', raw_test.shape)"
   ]
  },
  {
   "cell_type": "code",
   "execution_count": 36,
   "id": "df689052",
   "metadata": {},
   "outputs": [
    {
     "name": "stdout",
     "output_type": "stream",
     "text": [
      "Null values in target feature: 0\n"
     ]
    }
   ],
   "source": [
    "# Checking for null values in target data.\n",
    "\n",
    "print('Null values in target feature:', \n",
    "      raw_train['Survived'].isnull().sum().sum())"
   ]
  },
  {
   "cell_type": "markdown",
   "id": "abad8455",
   "metadata": {},
   "source": [
    "#### 2.2. Describing the data."
   ]
  },
  {
   "cell_type": "code",
   "execution_count": 37,
   "id": "64954c1e",
   "metadata": {},
   "outputs": [
    {
     "data": {
      "text/html": [
       "<div>\n",
       "<style scoped>\n",
       "    .dataframe tbody tr th:only-of-type {\n",
       "        vertical-align: middle;\n",
       "    }\n",
       "\n",
       "    .dataframe tbody tr th {\n",
       "        vertical-align: top;\n",
       "    }\n",
       "\n",
       "    .dataframe thead th {\n",
       "        text-align: right;\n",
       "    }\n",
       "</style>\n",
       "<table border=\"1\" class=\"dataframe\">\n",
       "  <thead>\n",
       "    <tr style=\"text-align: right;\">\n",
       "      <th></th>\n",
       "      <th>Survived</th>\n",
       "      <th>Pclass</th>\n",
       "      <th>Age</th>\n",
       "      <th>SibSp</th>\n",
       "      <th>Parch</th>\n",
       "      <th>Fare</th>\n",
       "    </tr>\n",
       "  </thead>\n",
       "  <tbody>\n",
       "    <tr>\n",
       "      <th>count</th>\n",
       "      <td>891.000000</td>\n",
       "      <td>891.000000</td>\n",
       "      <td>714.000000</td>\n",
       "      <td>891.000000</td>\n",
       "      <td>891.000000</td>\n",
       "      <td>891.000000</td>\n",
       "    </tr>\n",
       "    <tr>\n",
       "      <th>mean</th>\n",
       "      <td>0.383838</td>\n",
       "      <td>2.308642</td>\n",
       "      <td>29.699118</td>\n",
       "      <td>0.523008</td>\n",
       "      <td>0.381594</td>\n",
       "      <td>32.204208</td>\n",
       "    </tr>\n",
       "    <tr>\n",
       "      <th>std</th>\n",
       "      <td>0.486592</td>\n",
       "      <td>0.836071</td>\n",
       "      <td>14.526497</td>\n",
       "      <td>1.102743</td>\n",
       "      <td>0.806057</td>\n",
       "      <td>49.693429</td>\n",
       "    </tr>\n",
       "    <tr>\n",
       "      <th>min</th>\n",
       "      <td>0.000000</td>\n",
       "      <td>1.000000</td>\n",
       "      <td>0.420000</td>\n",
       "      <td>0.000000</td>\n",
       "      <td>0.000000</td>\n",
       "      <td>0.000000</td>\n",
       "    </tr>\n",
       "    <tr>\n",
       "      <th>25%</th>\n",
       "      <td>0.000000</td>\n",
       "      <td>2.000000</td>\n",
       "      <td>20.125000</td>\n",
       "      <td>0.000000</td>\n",
       "      <td>0.000000</td>\n",
       "      <td>7.910400</td>\n",
       "    </tr>\n",
       "    <tr>\n",
       "      <th>50%</th>\n",
       "      <td>0.000000</td>\n",
       "      <td>3.000000</td>\n",
       "      <td>28.000000</td>\n",
       "      <td>0.000000</td>\n",
       "      <td>0.000000</td>\n",
       "      <td>14.454200</td>\n",
       "    </tr>\n",
       "    <tr>\n",
       "      <th>75%</th>\n",
       "      <td>1.000000</td>\n",
       "      <td>3.000000</td>\n",
       "      <td>38.000000</td>\n",
       "      <td>1.000000</td>\n",
       "      <td>0.000000</td>\n",
       "      <td>31.000000</td>\n",
       "    </tr>\n",
       "    <tr>\n",
       "      <th>max</th>\n",
       "      <td>1.000000</td>\n",
       "      <td>3.000000</td>\n",
       "      <td>80.000000</td>\n",
       "      <td>8.000000</td>\n",
       "      <td>6.000000</td>\n",
       "      <td>512.329200</td>\n",
       "    </tr>\n",
       "  </tbody>\n",
       "</table>\n",
       "</div>"
      ],
      "text/plain": [
       "         Survived      Pclass         Age       SibSp       Parch        Fare\n",
       "count  891.000000  891.000000  714.000000  891.000000  891.000000  891.000000\n",
       "mean     0.383838    2.308642   29.699118    0.523008    0.381594   32.204208\n",
       "std      0.486592    0.836071   14.526497    1.102743    0.806057   49.693429\n",
       "min      0.000000    1.000000    0.420000    0.000000    0.000000    0.000000\n",
       "25%      0.000000    2.000000   20.125000    0.000000    0.000000    7.910400\n",
       "50%      0.000000    3.000000   28.000000    0.000000    0.000000   14.454200\n",
       "75%      1.000000    3.000000   38.000000    1.000000    0.000000   31.000000\n",
       "max      1.000000    3.000000   80.000000    8.000000    6.000000  512.329200"
      ]
     },
     "execution_count": 37,
     "metadata": {},
     "output_type": "execute_result"
    }
   ],
   "source": [
    "raw_train.describe()"
   ]
  },
  {
   "cell_type": "code",
   "execution_count": 38,
   "id": "79b2bf72",
   "metadata": {},
   "outputs": [
    {
     "data": {
      "text/html": [
       "<div>\n",
       "<style scoped>\n",
       "    .dataframe tbody tr th:only-of-type {\n",
       "        vertical-align: middle;\n",
       "    }\n",
       "\n",
       "    .dataframe tbody tr th {\n",
       "        vertical-align: top;\n",
       "    }\n",
       "\n",
       "    .dataframe thead th {\n",
       "        text-align: right;\n",
       "    }\n",
       "</style>\n",
       "<table border=\"1\" class=\"dataframe\">\n",
       "  <thead>\n",
       "    <tr style=\"text-align: right;\">\n",
       "      <th></th>\n",
       "      <th>Sex</th>\n",
       "      <th>Ticket</th>\n",
       "      <th>Cabin</th>\n",
       "      <th>Embarked</th>\n",
       "    </tr>\n",
       "  </thead>\n",
       "  <tbody>\n",
       "    <tr>\n",
       "      <th>count</th>\n",
       "      <td>891</td>\n",
       "      <td>891</td>\n",
       "      <td>204</td>\n",
       "      <td>889</td>\n",
       "    </tr>\n",
       "    <tr>\n",
       "      <th>unique</th>\n",
       "      <td>2</td>\n",
       "      <td>681</td>\n",
       "      <td>147</td>\n",
       "      <td>3</td>\n",
       "    </tr>\n",
       "    <tr>\n",
       "      <th>top</th>\n",
       "      <td>male</td>\n",
       "      <td>1601</td>\n",
       "      <td>B96 B98</td>\n",
       "      <td>S</td>\n",
       "    </tr>\n",
       "    <tr>\n",
       "      <th>freq</th>\n",
       "      <td>577</td>\n",
       "      <td>7</td>\n",
       "      <td>4</td>\n",
       "      <td>644</td>\n",
       "    </tr>\n",
       "  </tbody>\n",
       "</table>\n",
       "</div>"
      ],
      "text/plain": [
       "         Sex Ticket    Cabin Embarked\n",
       "count    891    891      204      889\n",
       "unique     2    681      147        3\n",
       "top     male   1601  B96 B98        S\n",
       "freq     577      7        4      644"
      ]
     },
     "execution_count": 38,
     "metadata": {},
     "output_type": "execute_result"
    }
   ],
   "source": [
    "raw_train.describe(include = 'object')"
   ]
  },
  {
   "cell_type": "markdown",
   "id": "57e04955",
   "metadata": {},
   "source": [
    "#### 2.3. Checking the data types."
   ]
  },
  {
   "cell_type": "code",
   "execution_count": 39,
   "id": "df1d7648",
   "metadata": {},
   "outputs": [
    {
     "data": {
      "text/plain": [
       "Survived      int64\n",
       "Pclass        int64\n",
       "Sex          object\n",
       "Age         float64\n",
       "SibSp         int64\n",
       "Parch         int64\n",
       "Ticket       object\n",
       "Fare        float64\n",
       "Cabin        object\n",
       "Embarked     object\n",
       "dtype: object"
      ]
     },
     "execution_count": 39,
     "metadata": {},
     "output_type": "execute_result"
    }
   ],
   "source": [
    "raw_train.dtypes"
   ]
  },
  {
   "cell_type": "code",
   "execution_count": 40,
   "id": "e635524e",
   "metadata": {},
   "outputs": [
    {
     "name": "stdout",
     "output_type": "stream",
     "text": [
      "Data types are same in training and testing dataset: True\n"
     ]
    }
   ],
   "source": [
    "# Comparing the dtypes.\n",
    "\n",
    "print('Data types are same in training and testing dataset:', \n",
    "      all((raw_train.dtypes[1:] == raw_test.dtypes).values))\n"
   ]
  },
  {
   "cell_type": "markdown",
   "id": "09ffb70c",
   "metadata": {},
   "source": [
    "---\n",
    "### 3. EDA"
   ]
  },
  {
   "cell_type": "markdown",
   "id": "753ba70a",
   "metadata": {},
   "source": [
    "#### 3.1. Checking for null values."
   ]
  },
  {
   "cell_type": "code",
   "execution_count": 41,
   "id": "380f420a",
   "metadata": {},
   "outputs": [
    {
     "name": "stdout",
     "output_type": "stream",
     "text": [
      "Null columns in train data with more than 25% null values are: ['Cabin']\n",
      "Null columns in test data with more than 25% null values are: ['Cabin']\n"
     ]
    }
   ],
   "source": [
    "train_null_data = (raw_train.isnull().sum()/raw_train.shape[0])*100\n",
    "train_null_col25 = train_null_data[train_null_data > 25].keys().to_list()\n",
    "\n",
    "test_null_data = (raw_test.isnull().sum()/raw_test.shape[0])*100\n",
    "test_null_col25 = test_null_data[test_null_data > 25].keys().to_list()\n",
    "\n",
    "print('Null columns in train data with more than 25% null values are:', \n",
    "      train_null_col25)\n",
    "print('Null columns in test data with more than 25% null values are:', \n",
    "      test_null_col25)"
   ]
  },
  {
   "cell_type": "code",
   "execution_count": 42,
   "id": "5c0997a0",
   "metadata": {},
   "outputs": [],
   "source": [
    "# Checking whether the above column can be dropped or not.\n",
    "\n",
    "# 1) 891 tickets are present so everyone should have a Cabin.\n",
    "# 2) If the null values are filled with 'mode' or 'median' values then more \n",
    "# people will have same Cabin which cannot be True.\n",
    "\n",
    "# Dropping 'Cabin' column from both the dataset.\n",
    "raw_train.drop(columns = 'Cabin', inplace = True)\n",
    "raw_test.drop(columns = 'Cabin', inplace = True)"
   ]
  },
  {
   "cell_type": "markdown",
   "id": "2f9731d8",
   "metadata": {},
   "source": [
    "#### 3.2. Checking columns with low variance."
   ]
  },
  {
   "cell_type": "code",
   "execution_count": 43,
   "id": "1072fec4",
   "metadata": {},
   "outputs": [
    {
     "data": {
      "text/plain": [
       "Survived       0.236772\n",
       "Pclass         0.699015\n",
       "Age          211.019125\n",
       "SibSp          1.216043\n",
       "Parch          0.649728\n",
       "Fare        2469.436846\n",
       "dtype: float64"
      ]
     },
     "execution_count": 43,
     "metadata": {},
     "output_type": "execute_result"
    }
   ],
   "source": [
    "# Columns with low variance.\n",
    "\n",
    "raw_train.var()"
   ]
  },
  {
   "cell_type": "code",
   "execution_count": 44,
   "id": "75dc9aef",
   "metadata": {},
   "outputs": [],
   "source": [
    "# The above columns have low variance due to low value range."
   ]
  },
  {
   "cell_type": "markdown",
   "id": "12d5bfe5",
   "metadata": {},
   "source": [
    "#### 3.3. Splitting the data."
   ]
  },
  {
   "cell_type": "code",
   "execution_count": 45,
   "id": "f39a4b47",
   "metadata": {},
   "outputs": [],
   "source": [
    "# Splitting data.\n",
    "# Data is too small using stratified shuffle split\n",
    "\n",
    "from sklearn.model_selection import StratifiedShuffleSplit\n",
    "\n",
    "splitter = StratifiedShuffleSplit(n_splits = 1, test_size = 0.2, \n",
    "                                  random_state = 0)\n",
    "\n",
    "for train_index, valid_index in splitter.split(raw_train, raw_train['Survived']):\n",
    "    train_data = raw_train.iloc[train_index]\n",
    "    valid_data = raw_train.iloc[valid_index]\n",
    "    \n",
    "train_data.reset_index(drop = True, inplace = True)\n",
    "valid_data.reset_index(drop = True, inplace = True)"
   ]
  },
  {
   "cell_type": "code",
   "execution_count": 46,
   "id": "4550600c",
   "metadata": {},
   "outputs": [
    {
     "name": "stdout",
     "output_type": "stream",
     "text": [
      "Shape of training data: (712, 9)\n",
      "Shape of testing data: (179, 9)\n"
     ]
    }
   ],
   "source": [
    "# Checking the shapes.\n",
    "\n",
    "print('Shape of training data:', train_data.shape)\n",
    "print('Shape of testing data:', valid_data.shape)"
   ]
  },
  {
   "cell_type": "code",
   "execution_count": 47,
   "id": "eb9da7b2",
   "metadata": {},
   "outputs": [
    {
     "data": {
      "image/png": "[encoded data removed]",
      "text/plain": [
       "<Figure size 432x288 with 2 Axes>"
      ]
     },
     "metadata": {},
     "output_type": "display_data"
    }
   ],
   "source": [
    "# Checking the proportions.\n",
    "\n",
    "pie_train = train_data['Survived'].value_counts()/train_data.shape[0]*100\n",
    "pie_valid = valid_data['Survived'].value_counts()/valid_data.shape[0]*100\n",
    "\n",
    "plt.Figure(figsize = (8, 8))\n",
    "plt.subplot(121)\n",
    "plt.title('Train data')\n",
    "plt.pie(x = pie_train.to_list(), labels = pie_train.index.to_list(), \n",
    "        autopct = '%1.2f%%')\n",
    "\n",
    "plt.subplot(122)\n",
    "plt.title('Valid data')\n",
    "plt.pie(x = pie_valid.to_list(), labels = pie_valid.index.to_list(), \n",
    "        autopct = '%1.2f%%')\n",
    "plt.show()"
   ]
  },
  {
   "cell_type": "markdown",
   "id": "ef41a1a3",
   "metadata": {},
   "source": [
    "#### 3.4. Checking for valid zeros."
   ]
  },
  {
   "cell_type": "code",
   "execution_count": 48,
   "id": "7d6840f6",
   "metadata": {},
   "outputs": [
    {
     "data": {
      "text/plain": [
       "Survived    439\n",
       "Pclass        0\n",
       "Sex           0\n",
       "Age           0\n",
       "SibSp       486\n",
       "Parch       546\n",
       "Ticket        0\n",
       "Fare         12\n",
       "Embarked      0\n",
       "dtype: int64"
      ]
     },
     "execution_count": 48,
     "metadata": {},
     "output_type": "execute_result"
    }
   ],
   "source": [
    "(train_data == 0).sum()"
   ]
  },
  {
   "cell_type": "code",
   "execution_count": 49,
   "id": "20bcc0af",
   "metadata": {},
   "outputs": [
    {
     "data": {
      "text/html": [
       "<div>\n",
       "<style scoped>\n",
       "    .dataframe tbody tr th:only-of-type {\n",
       "        vertical-align: middle;\n",
       "    }\n",
       "\n",
       "    .dataframe tbody tr th {\n",
       "        vertical-align: top;\n",
       "    }\n",
       "\n",
       "    .dataframe thead th {\n",
       "        text-align: right;\n",
       "    }\n",
       "</style>\n",
       "<table border=\"1\" class=\"dataframe\">\n",
       "  <thead>\n",
       "    <tr style=\"text-align: right;\">\n",
       "      <th></th>\n",
       "      <th>Survived</th>\n",
       "      <th>Pclass</th>\n",
       "      <th>Sex</th>\n",
       "      <th>Age</th>\n",
       "      <th>SibSp</th>\n",
       "      <th>Parch</th>\n",
       "      <th>Ticket</th>\n",
       "      <th>Fare</th>\n",
       "      <th>Embarked</th>\n",
       "    </tr>\n",
       "  </thead>\n",
       "  <tbody>\n",
       "    <tr>\n",
       "      <th>28</th>\n",
       "      <td>0</td>\n",
       "      <td>3</td>\n",
       "      <td>male</td>\n",
       "      <td>49.0</td>\n",
       "      <td>0</td>\n",
       "      <td>0</td>\n",
       "      <td>LINE</td>\n",
       "      <td>0.0</td>\n",
       "      <td>S</td>\n",
       "    </tr>\n",
       "    <tr>\n",
       "      <th>45</th>\n",
       "      <td>0</td>\n",
       "      <td>2</td>\n",
       "      <td>male</td>\n",
       "      <td>NaN</td>\n",
       "      <td>0</td>\n",
       "      <td>0</td>\n",
       "      <td>239856</td>\n",
       "      <td>0.0</td>\n",
       "      <td>S</td>\n",
       "    </tr>\n",
       "    <tr>\n",
       "      <th>62</th>\n",
       "      <td>0</td>\n",
       "      <td>1</td>\n",
       "      <td>male</td>\n",
       "      <td>NaN</td>\n",
       "      <td>0</td>\n",
       "      <td>0</td>\n",
       "      <td>112058</td>\n",
       "      <td>0.0</td>\n",
       "      <td>S</td>\n",
       "    </tr>\n",
       "    <tr>\n",
       "      <th>208</th>\n",
       "      <td>0</td>\n",
       "      <td>1</td>\n",
       "      <td>male</td>\n",
       "      <td>40.0</td>\n",
       "      <td>0</td>\n",
       "      <td>0</td>\n",
       "      <td>112059</td>\n",
       "      <td>0.0</td>\n",
       "      <td>S</td>\n",
       "    </tr>\n",
       "    <tr>\n",
       "      <th>218</th>\n",
       "      <td>0</td>\n",
       "      <td>1</td>\n",
       "      <td>male</td>\n",
       "      <td>38.0</td>\n",
       "      <td>0</td>\n",
       "      <td>0</td>\n",
       "      <td>19972</td>\n",
       "      <td>0.0</td>\n",
       "      <td>S</td>\n",
       "    </tr>\n",
       "    <tr>\n",
       "      <th>258</th>\n",
       "      <td>0</td>\n",
       "      <td>3</td>\n",
       "      <td>male</td>\n",
       "      <td>36.0</td>\n",
       "      <td>0</td>\n",
       "      <td>0</td>\n",
       "      <td>LINE</td>\n",
       "      <td>0.0</td>\n",
       "      <td>S</td>\n",
       "    </tr>\n",
       "    <tr>\n",
       "      <th>314</th>\n",
       "      <td>0</td>\n",
       "      <td>2</td>\n",
       "      <td>male</td>\n",
       "      <td>NaN</td>\n",
       "      <td>0</td>\n",
       "      <td>0</td>\n",
       "      <td>239855</td>\n",
       "      <td>0.0</td>\n",
       "      <td>S</td>\n",
       "    </tr>\n",
       "    <tr>\n",
       "      <th>349</th>\n",
       "      <td>0</td>\n",
       "      <td>1</td>\n",
       "      <td>male</td>\n",
       "      <td>39.0</td>\n",
       "      <td>0</td>\n",
       "      <td>0</td>\n",
       "      <td>112050</td>\n",
       "      <td>0.0</td>\n",
       "      <td>S</td>\n",
       "    </tr>\n",
       "    <tr>\n",
       "      <th>386</th>\n",
       "      <td>0</td>\n",
       "      <td>2</td>\n",
       "      <td>male</td>\n",
       "      <td>NaN</td>\n",
       "      <td>0</td>\n",
       "      <td>0</td>\n",
       "      <td>239853</td>\n",
       "      <td>0.0</td>\n",
       "      <td>S</td>\n",
       "    </tr>\n",
       "    <tr>\n",
       "      <th>420</th>\n",
       "      <td>0</td>\n",
       "      <td>2</td>\n",
       "      <td>male</td>\n",
       "      <td>NaN</td>\n",
       "      <td>0</td>\n",
       "      <td>0</td>\n",
       "      <td>239853</td>\n",
       "      <td>0.0</td>\n",
       "      <td>S</td>\n",
       "    </tr>\n",
       "    <tr>\n",
       "      <th>450</th>\n",
       "      <td>1</td>\n",
       "      <td>3</td>\n",
       "      <td>male</td>\n",
       "      <td>25.0</td>\n",
       "      <td>0</td>\n",
       "      <td>0</td>\n",
       "      <td>LINE</td>\n",
       "      <td>0.0</td>\n",
       "      <td>S</td>\n",
       "    </tr>\n",
       "    <tr>\n",
       "      <th>533</th>\n",
       "      <td>0</td>\n",
       "      <td>2</td>\n",
       "      <td>male</td>\n",
       "      <td>NaN</td>\n",
       "      <td>0</td>\n",
       "      <td>0</td>\n",
       "      <td>239854</td>\n",
       "      <td>0.0</td>\n",
       "      <td>S</td>\n",
       "    </tr>\n",
       "  </tbody>\n",
       "</table>\n",
       "</div>"
      ],
      "text/plain": [
       "     Survived  Pclass   Sex   Age  SibSp  Parch  Ticket  Fare Embarked\n",
       "28          0       3  male  49.0      0      0    LINE   0.0        S\n",
       "45          0       2  male   NaN      0      0  239856   0.0        S\n",
       "62          0       1  male   NaN      0      0  112058   0.0        S\n",
       "208         0       1  male  40.0      0      0  112059   0.0        S\n",
       "218         0       1  male  38.0      0      0   19972   0.0        S\n",
       "258         0       3  male  36.0      0      0    LINE   0.0        S\n",
       "314         0       2  male   NaN      0      0  239855   0.0        S\n",
       "349         0       1  male  39.0      0      0  112050   0.0        S\n",
       "386         0       2  male   NaN      0      0  239853   0.0        S\n",
       "420         0       2  male   NaN      0      0  239853   0.0        S\n",
       "450         1       3  male  25.0      0      0    LINE   0.0        S\n",
       "533         0       2  male   NaN      0      0  239854   0.0        S"
      ]
     },
     "execution_count": 49,
     "metadata": {},
     "output_type": "execute_result"
    }
   ],
   "source": [
    "# Survived, SibSp and Parch columns can have zero values.\n",
    "# Checking for Fare.\n",
    "\n",
    "train_data[train_data['Fare'] == 0]"
   ]
  },
  {
   "cell_type": "code",
   "execution_count": 50,
   "id": "2c12d11e",
   "metadata": {},
   "outputs": [
    {
     "data": {
      "text/plain": [
       "25.0"
      ]
     },
     "execution_count": 50,
     "metadata": {},
     "output_type": "execute_result"
    }
   ],
   "source": [
    "# Checking for minimum age.\n",
    "\n",
    "train_data[train_data['Fare'] == 0]['Age'].min()"
   ]
  },
  {
   "cell_type": "code",
   "execution_count": 51,
   "id": "35537057",
   "metadata": {},
   "outputs": [
    {
     "data": {
      "text/html": [
       "<div>\n",
       "<style scoped>\n",
       "    .dataframe tbody tr th:only-of-type {\n",
       "        vertical-align: middle;\n",
       "    }\n",
       "\n",
       "    .dataframe tbody tr th {\n",
       "        vertical-align: top;\n",
       "    }\n",
       "\n",
       "    .dataframe thead th {\n",
       "        text-align: right;\n",
       "    }\n",
       "</style>\n",
       "<table border=\"1\" class=\"dataframe\">\n",
       "  <thead>\n",
       "    <tr style=\"text-align: right;\">\n",
       "      <th></th>\n",
       "      <th>Survived</th>\n",
       "      <th>Pclass</th>\n",
       "      <th>Sex</th>\n",
       "      <th>Age</th>\n",
       "      <th>SibSp</th>\n",
       "      <th>Parch</th>\n",
       "      <th>Ticket</th>\n",
       "      <th>Fare</th>\n",
       "      <th>Embarked</th>\n",
       "    </tr>\n",
       "  </thead>\n",
       "  <tbody>\n",
       "    <tr>\n",
       "      <th>5</th>\n",
       "      <td>0</td>\n",
       "      <td>1</td>\n",
       "      <td>male</td>\n",
       "      <td>NaN</td>\n",
       "      <td>0</td>\n",
       "      <td>0</td>\n",
       "      <td>112052</td>\n",
       "      <td>0.0</td>\n",
       "      <td>S</td>\n",
       "    </tr>\n",
       "    <tr>\n",
       "      <th>111</th>\n",
       "      <td>0</td>\n",
       "      <td>2</td>\n",
       "      <td>male</td>\n",
       "      <td>NaN</td>\n",
       "      <td>0</td>\n",
       "      <td>0</td>\n",
       "      <td>239853</td>\n",
       "      <td>0.0</td>\n",
       "      <td>S</td>\n",
       "    </tr>\n",
       "    <tr>\n",
       "      <th>172</th>\n",
       "      <td>0</td>\n",
       "      <td>3</td>\n",
       "      <td>male</td>\n",
       "      <td>19.0</td>\n",
       "      <td>0</td>\n",
       "      <td>0</td>\n",
       "      <td>LINE</td>\n",
       "      <td>0.0</td>\n",
       "      <td>S</td>\n",
       "    </tr>\n",
       "  </tbody>\n",
       "</table>\n",
       "</div>"
      ],
      "text/plain": [
       "     Survived  Pclass   Sex   Age  SibSp  Parch  Ticket  Fare Embarked\n",
       "5           0       1  male   NaN      0      0  112052   0.0        S\n",
       "111         0       2  male   NaN      0      0  239853   0.0        S\n",
       "172         0       3  male  19.0      0      0    LINE   0.0        S"
      ]
     },
     "execution_count": 51,
     "metadata": {},
     "output_type": "execute_result"
    }
   ],
   "source": [
    "valid_data[valid_data['Fare'] == 0]"
   ]
  },
  {
   "cell_type": "code",
   "execution_count": 52,
   "id": "a19da8c9",
   "metadata": {},
   "outputs": [
    {
     "data": {
      "text/plain": [
       "19.0"
      ]
     },
     "execution_count": 52,
     "metadata": {},
     "output_type": "execute_result"
    }
   ],
   "source": [
    "# Checking for minimum age.\n",
    "\n",
    "valid_data[valid_data['Fare'] == 0]['Age'].min()"
   ]
  },
  {
   "cell_type": "code",
   "execution_count": 53,
   "id": "f5d30eb8",
   "metadata": {},
   "outputs": [
    {
     "data": {
      "text/html": [
       "<div>\n",
       "<style scoped>\n",
       "    .dataframe tbody tr th:only-of-type {\n",
       "        vertical-align: middle;\n",
       "    }\n",
       "\n",
       "    .dataframe tbody tr th {\n",
       "        vertical-align: top;\n",
       "    }\n",
       "\n",
       "    .dataframe thead th {\n",
       "        text-align: right;\n",
       "    }\n",
       "</style>\n",
       "<table border=\"1\" class=\"dataframe\">\n",
       "  <thead>\n",
       "    <tr style=\"text-align: right;\">\n",
       "      <th></th>\n",
       "      <th>Pclass</th>\n",
       "      <th>Sex</th>\n",
       "      <th>Age</th>\n",
       "      <th>SibSp</th>\n",
       "      <th>Parch</th>\n",
       "      <th>Ticket</th>\n",
       "      <th>Fare</th>\n",
       "      <th>Embarked</th>\n",
       "    </tr>\n",
       "  </thead>\n",
       "  <tbody>\n",
       "    <tr>\n",
       "      <th>266</th>\n",
       "      <td>1</td>\n",
       "      <td>male</td>\n",
       "      <td>NaN</td>\n",
       "      <td>0</td>\n",
       "      <td>0</td>\n",
       "      <td>112051</td>\n",
       "      <td>0.0</td>\n",
       "      <td>S</td>\n",
       "    </tr>\n",
       "    <tr>\n",
       "      <th>372</th>\n",
       "      <td>1</td>\n",
       "      <td>male</td>\n",
       "      <td>49.0</td>\n",
       "      <td>0</td>\n",
       "      <td>0</td>\n",
       "      <td>112058</td>\n",
       "      <td>0.0</td>\n",
       "      <td>S</td>\n",
       "    </tr>\n",
       "  </tbody>\n",
       "</table>\n",
       "</div>"
      ],
      "text/plain": [
       "     Pclass   Sex   Age  SibSp  Parch  Ticket  Fare Embarked\n",
       "266       1  male   NaN      0      0  112051   0.0        S\n",
       "372       1  male  49.0      0      0  112058   0.0        S"
      ]
     },
     "execution_count": 53,
     "metadata": {},
     "output_type": "execute_result"
    }
   ],
   "source": [
    "raw_test[raw_test['Fare'] == 0]"
   ]
  },
  {
   "cell_type": "code",
   "execution_count": 54,
   "id": "7a729bc2",
   "metadata": {},
   "outputs": [
    {
     "data": {
      "text/plain": [
       "49.0"
      ]
     },
     "execution_count": 54,
     "metadata": {},
     "output_type": "execute_result"
    }
   ],
   "source": [
    "# Checking for minimum age.\n",
    "\n",
    "raw_test[raw_test['Fare'] == 0]['Age'].min()"
   ]
  },
  {
   "cell_type": "code",
   "execution_count": 55,
   "id": "4855fd31",
   "metadata": {},
   "outputs": [],
   "source": [
    "# As we all know people with Age above 25 should pay for their ticket.\n",
    "# So, we need to replace those zeros."
   ]
  },
  {
   "cell_type": "markdown",
   "id": "266aaf8c",
   "metadata": {},
   "source": [
    "#### 3.5. Checking for null columns."
   ]
  },
  {
   "cell_type": "code",
   "execution_count": 56,
   "id": "8192fb22",
   "metadata": {},
   "outputs": [
    {
     "name": "stdout",
     "output_type": "stream",
     "text": [
      "Null columns in Training data are: ['Age', 'Embarked']\n",
      "Null columns in Validation data are: ['Age']\n",
      "Null columns in Test data are: ['Age', 'Fare']\n"
     ]
    }
   ],
   "source": [
    "# Finding null columns.\n",
    "\n",
    "train_null_data = train_data.isnull().sum()\n",
    "train_null_cols = train_null_data[train_null_data > 0].keys().to_list()\n",
    "\n",
    "valid_null_data = valid_data.isnull().sum()\n",
    "valid_null_cols = valid_null_data[valid_null_data > 0].keys().to_list()\n",
    "\n",
    "test_null_data = raw_test.isnull().sum()\n",
    "test_null_cols = test_null_data[test_null_data > 0].keys().to_list()\n",
    "\n",
    "print('Null columns in Training data are:', train_null_cols)\n",
    "print('Null columns in Validation data are:', valid_null_cols)\n",
    "print('Null columns in Test data are:', test_null_cols)"
   ]
  },
  {
   "cell_type": "markdown",
   "id": "d1e94476",
   "metadata": {},
   "source": [
    "#### 3.6. Imputing the data."
   ]
  },
  {
   "cell_type": "code",
   "execution_count": 57,
   "id": "9545ee8e",
   "metadata": {},
   "outputs": [],
   "source": [
    "from sklearn.impute import SimpleImputer"
   ]
  },
  {
   "cell_type": "code",
   "execution_count": 58,
   "id": "8f64586e",
   "metadata": {},
   "outputs": [
    {
     "name": "stdout",
     "output_type": "stream",
     "text": [
      "Shape of trainig data: (712, 9)\n",
      "Shape of valid data: (179, 9)\n",
      "Shape of testing data: (418, 8)\n"
     ]
    }
   ],
   "source": [
    "imp = SimpleImputer(strategy = 'most_frequent')\n",
    "\n",
    "train_data_ = train_data.drop(columns = 'Survived')\n",
    "valid_data_ = valid_data.drop(columns = 'Survived')\n",
    "\n",
    "temp_train_data = imp.fit_transform(train_data_)\n",
    "temp_valid_data = imp.transform(valid_data_)\n",
    "temp_test_data = imp.transform(raw_test)\n",
    "\n",
    "imp_train_data = pd.DataFrame(temp_train_data, \n",
    "                              columns = train_data_.columns.to_list())\n",
    "imp_valid_data = pd.DataFrame(temp_valid_data, \n",
    "                              columns = valid_data_.columns.to_list())\n",
    "imp_test_data = pd.DataFrame(temp_test_data, \n",
    "                             columns = raw_test.columns.to_list())\n",
    "\n",
    "imp_train_data = pd.concat([imp_train_data, train_data['Survived']], \n",
    "                           axis = 1)\n",
    "imp_valid_data = pd.concat([imp_valid_data, valid_data['Survived']], \n",
    "                           axis = 1)\n",
    "\n",
    "print('Shape of trainig data:', imp_train_data.shape)\n",
    "print('Shape of valid data:',imp_valid_data.shape)\n",
    "print('Shape of testing data:',imp_test_data.shape)"
   ]
  },
  {
   "cell_type": "code",
   "execution_count": 59,
   "id": "ad7a6e91",
   "metadata": {},
   "outputs": [
    {
     "name": "stdout",
     "output_type": "stream",
     "text": [
      "Null values in trainig data: 0\n",
      "Null values in valid data: 0\n",
      "Null values in testing data: 0\n"
     ]
    }
   ],
   "source": [
    "# Cross checking for null values.\n",
    "\n",
    "print('Null values in trainig data:',imp_train_data.isnull().sum().sum())\n",
    "print('Null values in valid data:',imp_valid_data.isnull().sum().sum())\n",
    "print('Null values in testing data:',imp_test_data.isnull().sum().sum())"
   ]
  },
  {
   "cell_type": "markdown",
   "id": "48fb4042",
   "metadata": {},
   "source": [
    "#### 3.7. Correcting the data type."
   ]
  },
  {
   "cell_type": "code",
   "execution_count": 60,
   "id": "015d095f",
   "metadata": {},
   "outputs": [],
   "source": [
    "cols = imp_train_data.columns.to_list()\n",
    "cols.remove('Survived')\n",
    "\n",
    "for col in cols:\n",
    "    imp_train_data[col] = imp_train_data[col].astype(type(imp_train_data[col][0]))\n",
    "    imp_valid_data[col] = imp_valid_data[col].astype(type(imp_valid_data[col][0]))\n",
    "    imp_test_data[col] = imp_test_data[col].astype(type(imp_test_data[col][0]))"
   ]
  },
  {
   "cell_type": "code",
   "execution_count": 61,
   "id": "3547f5da",
   "metadata": {},
   "outputs": [
    {
     "data": {
      "text/plain": [
       "Pclass        int32\n",
       "Sex          object\n",
       "Age         float64\n",
       "SibSp         int32\n",
       "Parch         int32\n",
       "Ticket       object\n",
       "Fare        float64\n",
       "Embarked     object\n",
       "Survived      int64\n",
       "dtype: object"
      ]
     },
     "execution_count": 61,
     "metadata": {},
     "output_type": "execute_result"
    }
   ],
   "source": [
    "# Cross checking\n",
    "\n",
    "imp_train_data.dtypes"
   ]
  },
  {
   "cell_type": "markdown",
   "id": "a50fef25",
   "metadata": {},
   "source": [
    "#### 3.8. Filling the zero values."
   ]
  },
  {
   "cell_type": "code",
   "execution_count": 62,
   "id": "0b2998d7",
   "metadata": {},
   "outputs": [],
   "source": [
    "zero_fare = imp_train_data[['Fare', 'Age']].groupby('Age').mean().to_dict()['Fare']\n",
    "fare_index = imp_train_data.columns.get_indexer(['Fare'])\n",
    "\n",
    "for index in imp_train_data[imp_train_data['Fare'] == 0].index:\n",
    "    val = zero_fare[imp_train_data.iloc[index, :]['Age']]\n",
    "    imp_train_data.iloc[index, fare_index] = val"
   ]
  },
  {
   "cell_type": "code",
   "execution_count": 63,
   "id": "04967f1f",
   "metadata": {},
   "outputs": [
    {
     "data": {
      "text/plain": [
       "False"
      ]
     },
     "execution_count": 63,
     "metadata": {},
     "output_type": "execute_result"
    }
   ],
   "source": [
    "# Cross checking\n",
    "\n",
    "any(imp_train_data['Fare'] == 0)"
   ]
  },
  {
   "cell_type": "code",
   "execution_count": 64,
   "id": "5aa5f2a5",
   "metadata": {},
   "outputs": [
    {
     "data": {
      "text/plain": [
       "False"
      ]
     },
     "execution_count": 64,
     "metadata": {},
     "output_type": "execute_result"
    }
   ],
   "source": [
    "zero_fare = imp_valid_data[['Fare', 'Age']].groupby('Age').mean().to_dict()['Fare']\n",
    "fare_index = imp_valid_data.columns.get_indexer(['Fare'])\n",
    "\n",
    "for index in imp_valid_data[imp_valid_data['Fare'] == 0].index:\n",
    "    val = zero_fare[imp_valid_data.iloc[index, :]['Age']]\n",
    "    imp_valid_data.iloc[index, fare_index] = val\n",
    "    \n",
    "# Cross checking\n",
    "any(imp_valid_data['Fare'] == 0)"
   ]
  },
  {
   "cell_type": "code",
   "execution_count": 65,
   "id": "0952f02d",
   "metadata": {},
   "outputs": [
    {
     "data": {
      "text/plain": [
       "False"
      ]
     },
     "execution_count": 65,
     "metadata": {},
     "output_type": "execute_result"
    }
   ],
   "source": [
    "zero_fare = imp_test_data[['Fare', 'Age']].groupby('Age').mean().to_dict()['Fare']\n",
    "fare_index = imp_test_data.columns.get_indexer(['Fare'])\n",
    "\n",
    "for index in imp_test_data[imp_test_data['Fare'] == 0].index:\n",
    "    val = zero_fare[imp_test_data.iloc[index, :]['Age']]\n",
    "    imp_test_data.iloc[index, fare_index] = val\n",
    "    \n",
    "# Cross checking\n",
    "any(imp_test_data['Fare'] == 0)"
   ]
  },
  {
   "cell_type": "markdown",
   "id": "bed070fe",
   "metadata": {},
   "source": [
    "### 4. Exploring data."
   ]
  },
  {
   "cell_type": "code",
   "execution_count": 66,
   "id": "20beab0d",
   "metadata": {},
   "outputs": [
    {
     "data": {
      "image/png": "[encoded data removed]",
      "text/plain": [
       "<Figure size 432x288 with 1 Axes>"
      ]
     },
     "metadata": {
      "needs_background": "light"
     },
     "output_type": "display_data"
    }
   ],
   "source": [
    "sb.countplot(x = imp_train_data['Pclass'], hue = imp_train_data['Survived'])\n",
    "plt.show()"
   ]
  },
  {
   "cell_type": "markdown",
   "id": "d9046861",
   "metadata": {},
   "source": [
    "Individuals belonging to Pclass 3 have less chance of surviving."
   ]
  },
  {
   "cell_type": "code",
   "execution_count": 67,
   "id": "aaa164be",
   "metadata": {},
   "outputs": [
    {
     "data": {
      "image/png": "[encoded data removed]",
      "text/plain": [
       "<Figure size 432x288 with 1 Axes>"
      ]
     },
     "metadata": {
      "needs_background": "light"
     },
     "output_type": "display_data"
    }
   ],
   "source": [
    "sb.countplot(x = imp_train_data['Sex'], hue = imp_train_data['Survived'])\n",
    "plt.show()"
   ]
  },
  {
   "cell_type": "markdown",
   "id": "b813f43c",
   "metadata": {},
   "source": [
    "Males have less chance of surviving."
   ]
  },
  {
   "cell_type": "code",
   "execution_count": 68,
   "id": "9023cf52",
   "metadata": {},
   "outputs": [
    {
     "data": {
      "image/png": "[encoded data removed]",
      "text/plain": [
       "<Figure size 432x288 with 1 Axes>"
      ]
     },
     "metadata": {
      "needs_background": "light"
     },
     "output_type": "display_data"
    }
   ],
   "source": [
    "imp_train_data.pivot_table('Survived', index = 'Sex', columns = 'Pclass').plot(kind = 'bar')\n",
    "plt.show()"
   ]
  },
  {
   "cell_type": "markdown",
   "id": "eefccbc8",
   "metadata": {},
   "source": [
    "Females of all the class have higher chance of survival than males."
   ]
  },
  {
   "cell_type": "code",
   "execution_count": 69,
   "id": "f817f33a",
   "metadata": {},
   "outputs": [
    {
     "data": {
      "image/png": "[encoded data removed]",
      "text/plain": [
       "<Figure size 432x288 with 1 Axes>"
      ]
     },
     "metadata": {
      "needs_background": "light"
     },
     "output_type": "display_data"
    }
   ],
   "source": [
    "imp_train_data.groupby('Age')['Survived'].mean().plot(kind = 'bar')\n",
    "plt.show()"
   ]
  },
  {
   "cell_type": "code",
   "execution_count": 70,
   "id": "895b3a4a",
   "metadata": {},
   "outputs": [
    {
     "data": {
      "image/png": "[encoded data removed]",
      "text/plain": [
       "<Figure size 432x288 with 1 Axes>"
      ]
     },
     "metadata": {
      "needs_background": "light"
     },
     "output_type": "display_data"
    }
   ],
   "source": [
    "# For visualization.\n",
    "\n",
    "imp_train_data['dumAge'] = pd.cut(imp_train_data['Age'], \n",
    "                                   bins = np.linspace(imp_train_data['Age'].min(),\n",
    "                                                      imp_train_data['Age'].max(), 10))\n",
    "\n",
    "imp_train_data.groupby('dumAge')['Survived'].mean().plot(kind = 'bar')\n",
    "plt.show()"
   ]
  },
  {
   "cell_type": "code",
   "execution_count": 71,
   "id": "7bca162d",
   "metadata": {},
   "outputs": [
    {
     "data": {
      "image/png": "[encoded data removed]",
      "text/plain": [
       "<Figure size 432x288 with 1 Axes>"
      ]
     },
     "metadata": {
      "needs_background": "light"
     },
     "output_type": "display_data"
    }
   ],
   "source": [
    "imp_train_data.groupby('SibSp')['Survived'].mean().plot(kind = 'bar')\n",
    "plt.show()"
   ]
  },
  {
   "cell_type": "markdown",
   "id": "63ee88ed",
   "metadata": {},
   "source": [
    "Chance of survival is highest if number of SibSp is 1."
   ]
  },
  {
   "cell_type": "code",
   "execution_count": 72,
   "id": "dd7433dd",
   "metadata": {},
   "outputs": [
    {
     "data": {
      "image/png": "[encoded data removed]",
      "text/plain": [
       "<Figure size 432x288 with 1 Axes>"
      ]
     },
     "metadata": {
      "needs_background": "light"
     },
     "output_type": "display_data"
    }
   ],
   "source": [
    "imp_train_data.groupby('Parch')['Survived'].mean().plot(kind = 'bar')\n",
    "plt.show()"
   ]
  },
  {
   "cell_type": "markdown",
   "id": "8dfc5bb6",
   "metadata": {},
   "source": [
    "Chance of survival is highest if number of Parch is 3."
   ]
  },
  {
   "cell_type": "code",
   "execution_count": 73,
   "id": "c6c88b93",
   "metadata": {},
   "outputs": [
    {
     "data": {
      "image/png": "[encoded data removed]",
      "text/plain": [
       "<Figure size 432x288 with 1 Axes>"
      ]
     },
     "metadata": {
      "needs_background": "light"
     },
     "output_type": "display_data"
    }
   ],
   "source": [
    "imp_train_data.groupby('Embarked')['Survived'].mean().plot(kind = 'bar')\n",
    "plt.show()"
   ]
  },
  {
   "cell_type": "markdown",
   "id": "40bb19dd",
   "metadata": {},
   "source": [
    "Chance of survival is highest if Embarked from port 'C'."
   ]
  },
  {
   "cell_type": "code",
   "execution_count": 74,
   "id": "427140ca",
   "metadata": {},
   "outputs": [
    {
     "data": {
      "image/png": "[encoded data removed]",
      "text/plain": [
       "<Figure size 432x288 with 1 Axes>"
      ]
     },
     "metadata": {
      "needs_background": "light"
     },
     "output_type": "display_data"
    }
   ],
   "source": [
    "imp_train_data['dumFare'] = pd.cut(imp_train_data['Fare'], \n",
    "                                   bins = np.linspace(imp_train_data['Fare'].min(),\n",
    "                                                      imp_train_data['Fare'].max(), 10))\n",
    "\n",
    "imp_train_data.groupby('dumFare')['Survived'].mean().plot(kind = 'bar')\n",
    "plt.show()"
   ]
  },
  {
   "cell_type": "code",
   "execution_count": 75,
   "id": "e5b81c99",
   "metadata": {},
   "outputs": [],
   "source": [
    "# Dropping unnecessary columns.\n",
    "\n",
    "imp_train_data = imp_train_data.drop(columns = ['dumFare', 'dumAge'])"
   ]
  },
  {
   "cell_type": "markdown",
   "id": "be821b24",
   "metadata": {},
   "source": [
    "### 5. Assumptions for Logistic Regression."
   ]
  },
  {
   "cell_type": "code",
   "execution_count": 76,
   "id": "ed1ec997",
   "metadata": {},
   "outputs": [],
   "source": [
    "# Assumptions: -\n",
    "# 1) Independent features.\n",
    "# 2) Normally distributed.\n",
    "# 3) No outliers."
   ]
  },
  {
   "cell_type": "code",
   "execution_count": 77,
   "id": "629fdc92",
   "metadata": {},
   "outputs": [
    {
     "data": {
      "image/png": "[encoded data removed]",
      "text/plain": [
       "<Figure size 432x288 with 2 Axes>"
      ]
     },
     "metadata": {
      "needs_background": "light"
     },
     "output_type": "display_data"
    }
   ],
   "source": [
    "# 1) Independent features.\n",
    "\n",
    "corr_matrix = imp_train_data.corr()\n",
    "sb.heatmap(corr_matrix, annot = True, vmin = -1, vmax = 1)\n",
    "plt.show()"
   ]
  },
  {
   "cell_type": "code",
   "execution_count": 78,
   "id": "61d2c2b2",
   "metadata": {},
   "outputs": [
    {
     "data": {
      "image/png": "[encoded data removed]",
      "text/plain": [
       "<Figure size 432x288 with 6 Axes>"
      ]
     },
     "metadata": {
      "needs_background": "light"
     },
     "output_type": "display_data"
    }
   ],
   "source": [
    "# 2) Normally distributed.\n",
    "\n",
    "imp_train_data.hist()\n",
    "plt.tight_layout()\n",
    "plt.show()"
   ]
  },
  {
   "cell_type": "code",
   "execution_count": 79,
   "id": "868e6f56",
   "metadata": {},
   "outputs": [],
   "source": [
    "# Data is not normally distributed."
   ]
  },
  {
   "cell_type": "code",
   "execution_count": 183,
   "id": "4e2176ad",
   "metadata": {
    "scrolled": false
   },
   "outputs": [
    {
     "data": {
      "image/png": "[encoded data removed]",
      "text/plain": [
       "<Figure size 432x288 with 1 Axes>"
      ]
     },
     "metadata": {
      "needs_background": "light"
     },
     "output_type": "display_data"
    },
    {
     "data": {
      "image/png": "[encoded data removed]",
      "text/plain": [
       "<Figure size 432x288 with 1 Axes>"
      ]
     },
     "metadata": {
      "needs_background": "light"
     },
     "output_type": "display_data"
    },
    {
     "data": {
      "image/png": "[encoded data removed]",
      "text/plain": [
       "<Figure size 432x288 with 1 Axes>"
      ]
     },
     "metadata": {
      "needs_background": "light"
     },
     "output_type": "display_data"
    },
    {
     "data": {
      "image/png": "[encoded data removed]",
      "text/plain": [
       "<Figure size 432x288 with 1 Axes>"
      ]
     },
     "metadata": {
      "needs_background": "light"
     },
     "output_type": "display_data"
    },
    {
     "data": {
      "image/png": "[encoded data removed]",
      "text/plain": [
       "<Figure size 432x288 with 1 Axes>"
      ]
     },
     "metadata": {
      "needs_background": "light"
     },
     "output_type": "display_data"
    },
    {
     "data": {
      "image/png": "[encoded data removed]",
      "text/plain": [
       "<Figure size 432x288 with 1 Axes>"
      ]
     },
     "metadata": {
      "needs_background": "light"
     },
     "output_type": "display_data"
    }
   ],
   "source": [
    "# 3) No outliers.\n",
    "\n",
    "for col in imp_train_data.select_dtypes(exclude = 'object').columns:\n",
    "    sb.boxplot(x = imp_train_data[col])\n",
    "    plt.show()"
   ]
  },
  {
   "cell_type": "code",
   "execution_count": 80,
   "id": "2a6a89db",
   "metadata": {},
   "outputs": [],
   "source": [
    "# Removing outliers.\n",
    "\n",
    "imp_train_data = imp_train_data[imp_train_data['Fare'] < 400]"
   ]
  },
  {
   "cell_type": "code",
   "execution_count": 185,
   "id": "6718f735",
   "metadata": {},
   "outputs": [
    {
     "data": {
      "image/png": "[encoded data removed]",
      "text/plain": [
       "<Figure size 432x288 with 1 Axes>"
      ]
     },
     "metadata": {
      "needs_background": "light"
     },
     "output_type": "display_data"
    },
    {
     "data": {
      "image/png": "[encoded data removed]",
      "text/plain": [
       "<Figure size 432x288 with 1 Axes>"
      ]
     },
     "metadata": {
      "needs_background": "light"
     },
     "output_type": "display_data"
    },
    {
     "data": {
      "image/png": "[encoded data removed]",
      "text/plain": [
       "<Figure size 432x288 with 1 Axes>"
      ]
     },
     "metadata": {
      "needs_background": "light"
     },
     "output_type": "display_data"
    },
    {
     "data": {
      "image/png": "[encoded data removed]",
      "text/plain": [
       "<Figure size 432x288 with 1 Axes>"
      ]
     },
     "metadata": {
      "needs_background": "light"
     },
     "output_type": "display_data"
    },
    {
     "data": {
      "image/png": "[encoded data removed]",
      "text/plain": [
       "<Figure size 432x288 with 1 Axes>"
      ]
     },
     "metadata": {
      "needs_background": "light"
     },
     "output_type": "display_data"
    },
    {
     "data": {
      "image/png": "[encoded data removed]",
      "text/plain": [
       "<Figure size 432x288 with 1 Axes>"
      ]
     },
     "metadata": {
      "needs_background": "light"
     },
     "output_type": "display_data"
    }
   ],
   "source": [
    "for col in imp_valid_data.select_dtypes(exclude = 'object').columns:\n",
    "    sb.boxplot(x = imp_valid_data[col])\n",
    "    plt.show()"
   ]
  },
  {
   "cell_type": "code",
   "execution_count": 186,
   "id": "44c6964e",
   "metadata": {},
   "outputs": [
    {
     "data": {
      "image/png": "[encoded data removed]",
      "text/plain": [
       "<Figure size 432x288 with 1 Axes>"
      ]
     },
     "metadata": {
      "needs_background": "light"
     },
     "output_type": "display_data"
    },
    {
     "data": {
      "image/png": "[encoded data removed]",
      "text/plain": [
       "<Figure size 432x288 with 1 Axes>"
      ]
     },
     "metadata": {
      "needs_background": "light"
     },
     "output_type": "display_data"
    },
    {
     "data": {
      "image/png": "[encoded data removed]",
      "text/plain": [
       "<Figure size 432x288 with 1 Axes>"
      ]
     },
     "metadata": {
      "needs_background": "light"
     },
     "output_type": "display_data"
    },
    {
     "data": {
      "image/png": "[encoded data removed]",
      "text/plain": [
       "<Figure size 432x288 with 1 Axes>"
      ]
     },
     "metadata": {
      "needs_background": "light"
     },
     "output_type": "display_data"
    },
    {
     "data": {
      "image/png": "[encoded data removed]",
      "text/plain": [
       "<Figure size 432x288 with 1 Axes>"
      ]
     },
     "metadata": {
      "needs_background": "light"
     },
     "output_type": "display_data"
    }
   ],
   "source": [
    "for col in imp_test_data.select_dtypes(exclude = 'object').columns:\n",
    "    sb.boxplot(x = imp_test_data[col])\n",
    "    plt.show()"
   ]
  },
  {
   "cell_type": "code",
   "execution_count": 81,
   "id": "512a9e7a",
   "metadata": {},
   "outputs": [],
   "source": [
    "# Splitting the features and target variables.\n",
    "\n",
    "y_train = imp_train_data['Survived']\n",
    "imp_train_data = imp_train_data.drop(columns = ['Survived'])\n",
    "\n",
    "y_valid = imp_valid_data['Survived']\n",
    "imp_valid_data = imp_valid_data.drop(columns = 'Survived')"
   ]
  },
  {
   "cell_type": "markdown",
   "id": "2670e5a1",
   "metadata": {},
   "source": [
    "### 6. Feature Engineering."
   ]
  },
  {
   "cell_type": "code",
   "execution_count": 82,
   "id": "b9e4c96b",
   "metadata": {},
   "outputs": [],
   "source": [
    "imp_train_data_ = imp_train_data.copy()\n",
    "imp_valid_data_ = imp_valid_data.copy()\n",
    "imp_test_data_ = imp_test_data.copy()"
   ]
  },
  {
   "cell_type": "markdown",
   "id": "5076bc67",
   "metadata": {},
   "source": [
    "#### 6.1. Ordinal Encoding."
   ]
  },
  {
   "cell_type": "code",
   "execution_count": 83,
   "id": "cb01b806",
   "metadata": {},
   "outputs": [],
   "source": [
    "# Converting 'Pclass' to str\n",
    "\n",
    "imp_train_data_.loc[:, 'Pclass'] = imp_train_data_.loc[:, 'Pclass'].astype(str)\n",
    "imp_valid_data_.loc[:, 'Pclass'] = imp_valid_data_.loc[:, 'Pclass'].astype(str)\n",
    "imp_test_data_.loc[:, 'Pclass'] = imp_test_data_.loc[:, 'Pclass'].astype(str)"
   ]
  },
  {
   "cell_type": "code",
   "execution_count": 84,
   "id": "d306726f",
   "metadata": {},
   "outputs": [],
   "source": [
    "# Mapping the values.\n",
    "\n",
    "imp_train_data_['Pclass'] = imp_train_data_['Pclass'].map({'3': 1, '2': 2, '1': 3})\n",
    "imp_valid_data_['Pclass'] = imp_valid_data_['Pclass'].map({'3': 1, '2': 2, '1': 3})\n",
    "imp_test_data_['Pclass'] = imp_test_data_['Pclass'].map({'3': 1, '2': 2, '1': 3})"
   ]
  },
  {
   "cell_type": "markdown",
   "id": "07fb7792",
   "metadata": {},
   "source": [
    "#### 6.2. Log transformation on skewed data."
   ]
  },
  {
   "cell_type": "code",
   "execution_count": 85,
   "id": "b190ed9f",
   "metadata": {},
   "outputs": [
    {
     "name": "stdout",
     "output_type": "stream",
     "text": [
      "Skewed columns are: ['SibSp', 'Parch', 'Fare']\n",
      "Skewed columns are: ['SibSp', 'Parch', 'Fare']\n",
      "Skewed columns are: ['Age', 'SibSp', 'Parch', 'Fare']\n"
     ]
    }
   ],
   "source": [
    "# Checking for skewed data.\n",
    "\n",
    "num_train_data = imp_train_data_.select_dtypes(exclude = 'object')\n",
    "skewness = num_train_data.apply(lambda x: scistats.skew(x))\n",
    "train_skewed_cols = skewness[abs(skewness) > 0.75].keys().to_list()\n",
    "print('Skewed columns are:', train_skewed_cols)\n",
    "\n",
    "num_valid_data = imp_valid_data_.select_dtypes(exclude = 'object')\n",
    "skewness = num_valid_data.apply(lambda x: scistats.skew(x))\n",
    "valid_skewed_cols = skewness[abs(skewness) > 0.75].keys().to_list()\n",
    "print('Skewed columns are:', valid_skewed_cols)\n",
    "\n",
    "num_test_data = imp_test_data_.select_dtypes(exclude = 'object')\n",
    "skewness = num_test_data.apply(lambda x: scistats.skew(x))\n",
    "test_skewed_cols = skewness[abs(skewness) > 0.75].keys().to_list()\n",
    "print('Skewed columns are:', test_skewed_cols)"
   ]
  },
  {
   "cell_type": "code",
   "execution_count": 86,
   "id": "7167b9d0",
   "metadata": {},
   "outputs": [],
   "source": [
    "# Applying log transformation.\n",
    "\n",
    "log_train_data = np.log1p(imp_train_data_.loc[:, test_skewed_cols])\n",
    "imp_train_data_.drop(columns = test_skewed_cols, inplace = True)\n",
    "log_train_data.reset_index(drop = True, inplace = True)\n",
    "\n",
    "log_valid_data = np.log1p(imp_valid_data_.loc[:, test_skewed_cols])\n",
    "imp_valid_data_.drop(columns = test_skewed_cols, inplace = True)\n",
    "log_valid_data.reset_index(drop = True, inplace = True)\n",
    "\n",
    "log_test_data = np.log1p(imp_test_data_.loc[:, test_skewed_cols])\n",
    "imp_test_data_.drop(columns = test_skewed_cols, inplace = True)\n",
    "log_test_data.reset_index(drop = True, inplace = True)"
   ]
  },
  {
   "cell_type": "code",
   "execution_count": 87,
   "id": "d5db7732",
   "metadata": {},
   "outputs": [
    {
     "name": "stdout",
     "output_type": "stream",
     "text": [
      "Null values in log_train_data: 0\n",
      "Null values in log_valid_data: 0\n",
      "Null values in log_test_data: 0\n"
     ]
    }
   ],
   "source": [
    "# Cross checking for null values.\n",
    "\n",
    "print('Null values in log_train_data:', log_train_data.isnull().sum().sum())\n",
    "print('Null values in log_valid_data:', log_valid_data.isnull().sum().sum())\n",
    "print('Null values in log_test_data:', log_test_data.isnull().sum().sum())"
   ]
  },
  {
   "cell_type": "code",
   "execution_count": 88,
   "id": "8c50e474",
   "metadata": {},
   "outputs": [
    {
     "name": "stdout",
     "output_type": "stream",
     "text": [
      "Shape of log_train_data: (709, 4)\n",
      "Shape of log_valid_data: (179, 4)\n",
      "Shape of log_test_data: (418, 4)\n"
     ]
    }
   ],
   "source": [
    "# Checking for shape.\n",
    "\n",
    "print('Shape of log_train_data:', log_train_data.shape)\n",
    "print('Shape of log_valid_data:', log_valid_data.shape)\n",
    "print('Shape of log_test_data:', log_test_data.shape)"
   ]
  },
  {
   "cell_type": "code",
   "execution_count": 89,
   "id": "2df6b33f",
   "metadata": {},
   "outputs": [],
   "source": [
    "# Splitting numerical and categorical data.\n",
    "\n",
    "num_train_data = imp_train_data_.select_dtypes(exclude = 'object')\n",
    "obj_train_data = imp_train_data_.select_dtypes(include = 'object')\n",
    "\n",
    "num_valid_data = imp_valid_data_.select_dtypes(exclude = 'object')\n",
    "obj_valid_data = imp_valid_data_.select_dtypes(include = 'object')\n",
    "\n",
    "num_test_data = imp_test_data_.select_dtypes(exclude = 'object')\n",
    "obj_test_data = imp_test_data_.select_dtypes(include = 'object')"
   ]
  },
  {
   "cell_type": "markdown",
   "id": "8a4364d7",
   "metadata": {},
   "source": [
    "#### 6.3. Scaling and One hot encoding."
   ]
  },
  {
   "cell_type": "code",
   "execution_count": 90,
   "id": "9deef723",
   "metadata": {},
   "outputs": [],
   "source": [
    "from sklearn.preprocessing import StandardScaler, OneHotEncoder"
   ]
  },
  {
   "cell_type": "code",
   "execution_count": 91,
   "id": "91cca037",
   "metadata": {},
   "outputs": [],
   "source": [
    "std = StandardScaler()\n",
    "ohe = OneHotEncoder()\n",
    "\n",
    "# One hot encoding.\n",
    "\n",
    "train_split = num_train_data.shape[0]\n",
    "valid_split = train_split + num_valid_data.shape[0]\n",
    "\n",
    "temp_data = pd.concat([obj_train_data, \n",
    "                       obj_valid_data,\n",
    "                       obj_test_data], axis = 0)\n",
    "\n",
    "temp_data.reset_index(drop = True, inplace = True)\n",
    "\n",
    "temp_data_arr = ohe.fit_transform(temp_data).toarray()\n",
    "col_names = ohe.get_feature_names(temp_data.columns.to_list())"
   ]
  },
  {
   "cell_type": "code",
   "execution_count": 92,
   "id": "96b70aec",
   "metadata": {},
   "outputs": [],
   "source": [
    "ohe_train_data = pd.DataFrame(temp_data_arr[0: train_split, :], \n",
    "                              columns = col_names)\n",
    "ohe_train_data.reset_index(drop = True, inplace = True)\n",
    "\n",
    "ohe_valid_data = pd.DataFrame(temp_data_arr[train_split: valid_split, :], \n",
    "                              columns = col_names)\n",
    "ohe_valid_data.reset_index(drop = True, inplace = True)\n",
    "\n",
    "ohe_test_data = pd.DataFrame(temp_data_arr[valid_split: , :], \n",
    "                              columns = col_names)\n",
    "ohe_test_data.reset_index(drop = True, inplace = True)"
   ]
  },
  {
   "cell_type": "code",
   "execution_count": 93,
   "id": "345596f5",
   "metadata": {},
   "outputs": [
    {
     "name": "stdout",
     "output_type": "stream",
     "text": [
      "Null values in ohe_train_data: 0\n",
      "Null values in ohe_valid_data: 0\n",
      "Null values in ohe_test_data: 0\n"
     ]
    }
   ],
   "source": [
    "# Checking for null values.\n",
    "\n",
    "print('Null values in ohe_train_data:', ohe_train_data.isnull().sum().sum())\n",
    "print('Null values in ohe_valid_data:', ohe_valid_data.isnull().sum().sum())\n",
    "print('Null values in ohe_test_data:', ohe_test_data.isnull().sum().sum())"
   ]
  },
  {
   "cell_type": "code",
   "execution_count": 94,
   "id": "c7232d95",
   "metadata": {},
   "outputs": [
    {
     "name": "stdout",
     "output_type": "stream",
     "text": [
      "Shape of ohe_train_data: (709, 934)\n",
      "Shape of ohe_valid_data: (179, 934)\n",
      "Shape of ohe_test_data: (418, 934)\n"
     ]
    }
   ],
   "source": [
    "# Checking shapes.\n",
    "\n",
    "print('Shape of ohe_train_data:', ohe_train_data.shape)\n",
    "print('Shape of ohe_valid_data:', ohe_valid_data.shape)\n",
    "print('Shape of ohe_test_data:', ohe_test_data.shape)"
   ]
  },
  {
   "cell_type": "code",
   "execution_count": 95,
   "id": "9c490cc6",
   "metadata": {},
   "outputs": [],
   "source": [
    "# Standard scaling.\n",
    "\n",
    "num_train_data_arr = std.fit_transform(num_train_data)\n",
    "num_valid_data_arr = std.transform(num_valid_data)\n",
    "num_test_data_arr = std.transform(num_test_data)\n",
    "\n",
    "std_train_data = pd.DataFrame(num_train_data_arr, \n",
    "                              columns = num_train_data.columns.to_list())\n",
    "std_valid_data = pd.DataFrame(num_valid_data_arr, \n",
    "                              columns = num_valid_data.columns.to_list())\n",
    "std_test_data = pd.DataFrame(num_test_data_arr, \n",
    "                              columns = num_test_data.columns.to_list())\n",
    "\n",
    "std_train_data.reset_index(drop = True, inplace = True)\n",
    "std_valid_data.reset_index(drop = True, inplace = True)\n",
    "std_test_data.reset_index(drop = True, inplace = True)"
   ]
  },
  {
   "cell_type": "markdown",
   "id": "322bb77f",
   "metadata": {},
   "source": [
    "#### 6.4. Final data."
   ]
  },
  {
   "cell_type": "code",
   "execution_count": 96,
   "id": "8f77aeee",
   "metadata": {},
   "outputs": [],
   "source": [
    "mod_train_data = pd.concat([std_train_data, log_train_data, ohe_train_data], \n",
    "                           axis = 1)\n",
    "mod_valid_data = pd.concat([std_valid_data, log_valid_data, ohe_valid_data], \n",
    "                           axis = 1)\n",
    "mod_test_data = pd.concat([std_test_data, log_test_data, ohe_test_data], \n",
    "                           axis = 1)"
   ]
  },
  {
   "cell_type": "code",
   "execution_count": 98,
   "id": "c768f224",
   "metadata": {},
   "outputs": [
    {
     "name": "stdout",
     "output_type": "stream",
     "text": [
      "Null values in mod_train_data: 0\n",
      "Null values in mod_valid_data: 0\n",
      "Null values in mod_test_data: 0\n"
     ]
    }
   ],
   "source": [
    "# Checking for null values.\n",
    "\n",
    "print('Null values in mod_train_data:', mod_train_data.isnull().sum().sum())\n",
    "print('Null values in mod_valid_data:', mod_valid_data.isnull().sum().sum())\n",
    "print('Null values in mod_test_data:', mod_test_data.isnull().sum().sum())"
   ]
  },
  {
   "cell_type": "code",
   "execution_count": 99,
   "id": "b70f57c3",
   "metadata": {},
   "outputs": [
    {
     "name": "stdout",
     "output_type": "stream",
     "text": [
      "Shape of mod_train_data (709, 939)\n",
      "Shape of mod_valid_data (179, 939)\n",
      "Shape of mod_test_data (418, 939)\n",
      "(709,)\n",
      "(179,)\n"
     ]
    }
   ],
   "source": [
    "# Checking for shape.\n",
    "\n",
    "print('Shape of mod_train_data', mod_train_data.shape)\n",
    "print('Shape of mod_valid_data', mod_valid_data.shape)\n",
    "print('Shape of mod_test_data', mod_test_data.shape)\n",
    "\n",
    "print(y_train.shape)\n",
    "print(y_valid.shape)"
   ]
  },
  {
   "cell_type": "markdown",
   "id": "a1944485",
   "metadata": {},
   "source": [
    "### 7. Developing Models."
   ]
  },
  {
   "cell_type": "code",
   "execution_count": 70,
   "id": "32c1609f",
   "metadata": {},
   "outputs": [],
   "source": [
    "from sklearn.linear_model import LogisticRegression, SGDClassifier\n",
    "from sklearn.tree import DecisionTreeClassifier\n",
    "from sklearn.ensemble import RandomForestClassifier, GradientBoostingClassifier\n",
    "\n",
    "from sklearn.model_selection import cross_val_score, cross_val_predict\n",
    "\n",
    "from sklearn.metrics import confusion_matrix, precision_score, recall_score"
   ]
  },
  {
   "cell_type": "code",
   "execution_count": 71,
   "id": "bbdc16b0",
   "metadata": {},
   "outputs": [],
   "source": [
    "lrclf = LogisticRegression()\n",
    "sgdclf = SGDClassifier()\n",
    "\n",
    "dtclf = DecisionTreeClassifier(random_state = 0)\n",
    "\n",
    "rfclf = RandomForestClassifier(random_state = 0)\n",
    "gbclf = GradientBoostingClassifier(random_state = 0)"
   ]
  },
  {
   "cell_type": "code",
   "execution_count": 72,
   "id": "b587c825",
   "metadata": {},
   "outputs": [
    {
     "name": "stdout",
     "output_type": "stream",
     "text": [
      "Score of LogisticRegression() model: 0.8237\n",
      "Score of SGDClassifier() model: 0.8238\n",
      "Score of DecisionTreeClassifier(random_state=0) model: 0.811\n",
      "Score of RandomForestClassifier(random_state=0) model: 0.8336\n",
      "Score of GradientBoostingClassifier(random_state=0) model: 0.8237\n"
     ]
    }
   ],
   "source": [
    "classifiers = [lrclf, sgdclf, dtclf, rfclf, gbclf]\n",
    "\n",
    "for classifier in classifiers:\n",
    "    clf_scores = cross_val_score(classifier, X = mod_train_data, y = y_train, \n",
    "                                 cv = 10)\n",
    "    print(f'Score of {classifier} model:', np.round(clf_scores.mean(), 4))"
   ]
  },
  {
   "cell_type": "markdown",
   "id": "acd00d8c",
   "metadata": {},
   "source": [
    "#### 7.1. Decision tree."
   ]
  },
  {
   "cell_type": "code",
   "execution_count": 73,
   "id": "7a16ab6c",
   "metadata": {},
   "outputs": [],
   "source": [
    "dtres = dtclf.fit(mod_train_data, y_train)\n",
    "\n",
    "feature_names = mod_train_data.columns.to_list()\n",
    "len_features = len(feature_names)\n",
    "\n",
    "dt_imp_features = pd.DataFrame(data = dtres.feature_importances_, \n",
    "                               index = feature_names,\n",
    "                               columns = ['Importance'])\n",
    "\n",
    "top = 10\n",
    "top_dt_features = dt_imp_features.sort_values('Importance', \n",
    "                                              ascending = False)[0: top]"
   ]
  },
  {
   "cell_type": "markdown",
   "id": "2791816c",
   "metadata": {},
   "source": [
    "#### 7.2. Random forest."
   ]
  },
  {
   "cell_type": "code",
   "execution_count": 74,
   "id": "65e3fa21",
   "metadata": {},
   "outputs": [],
   "source": [
    "rfres = rfclf.fit(mod_train_data, y_train)\n",
    "\n",
    "rf_imp_features = pd.DataFrame(data = rfres.feature_importances_, \n",
    "                               index = feature_names,\n",
    "                               columns = ['Importance'])\n",
    "\n",
    "top_rf_features = rf_imp_features.sort_values('Importance', \n",
    "                                              ascending = False)[0: top]"
   ]
  },
  {
   "cell_type": "markdown",
   "id": "c1b1ceaa",
   "metadata": {},
   "source": [
    "#### 7.3. Important features."
   ]
  },
  {
   "cell_type": "code",
   "execution_count": 75,
   "id": "a9b956d5",
   "metadata": {},
   "outputs": [
    {
     "data": {
      "image/png": "[encoded data removed]",
      "text/plain": [
       "<Figure size 720x360 with 2 Axes>"
      ]
     },
     "metadata": {
      "needs_background": "light"
     },
     "output_type": "display_data"
    }
   ],
   "source": [
    "plt.figure(figsize = (10, 5))\n",
    "plt.subplot(121)\n",
    "sb.barplot(x = 'Importance', y = top_dt_features.index,\n",
    "           data = top_dt_features)\n",
    "plt.title('Decision Tree Important Features')\n",
    "\n",
    "plt.subplot(122)\n",
    "sb.barplot(x = 'Importance', y = top_rf_features.index,\n",
    "           data = top_rf_features)\n",
    "plt.title('Random Forest Important Features')\n",
    "plt.tight_layout()\n",
    "plt.show()"
   ]
  },
  {
   "cell_type": "markdown",
   "id": "1fb1c90b",
   "metadata": {},
   "source": [
    "#### 7.4. Model with Ticket feature removed."
   ]
  },
  {
   "cell_type": "code",
   "execution_count": 76,
   "id": "32263844",
   "metadata": {},
   "outputs": [],
   "source": [
    "wo_ticket_cols = [mod_train_data.columns.to_list()[i] for i, j in enumerate(mod_train_data.columns.str.startswith('Ticket')) if j == 0]\n",
    "wo_ticket_train_data =  mod_train_data[wo_ticket_cols]\n",
    "\n",
    "wo_ticket_cols = [mod_valid_data.columns.to_list()[i] for i, j in enumerate(mod_valid_data.columns.str.startswith('Ticket')) if j == 0]\n",
    "wo_ticket_valid_data =  mod_valid_data[wo_ticket_cols]\n",
    "\n",
    "wo_ticket_cols = [mod_test_data.columns.to_list()[i] for i, j in enumerate(mod_test_data.columns.str.startswith('Ticket')) if j == 0]\n",
    "wo_ticket_test_data =  mod_test_data[wo_ticket_cols]"
   ]
  },
  {
   "cell_type": "code",
   "execution_count": 78,
   "id": "57ec3f0d",
   "metadata": {},
   "outputs": [
    {
     "name": "stdout",
     "output_type": "stream",
     "text": [
      "Score of LogisticRegression() model: 0.804\n",
      "Score of SGDClassifier() model: 0.7491\n",
      "Score of DecisionTreeClassifier(random_state=0) model: 0.7728\n",
      "Score of RandomForestClassifier(random_state=0) model: 0.8209\n",
      "Score of GradientBoostingClassifier(random_state=0) model: 0.8336\n"
     ]
    }
   ],
   "source": [
    "# Without ticket data.\n",
    "\n",
    "classifiers = [lrclf, sgdclf, dtclf, rfclf, gbclf]\n",
    "\n",
    "for classifier in classifiers:\n",
    "    clf_scores = cross_val_score(classifier, X = wo_ticket_train_data, \n",
    "                                 y = y_train, cv = 10)\n",
    "    print(f'Score of {classifier} model:', np.round(clf_scores.mean(), 4))"
   ]
  },
  {
   "cell_type": "markdown",
   "id": "8ca46ab6",
   "metadata": {},
   "source": [
    "#### 7.5. Hyperparameter Tuning."
   ]
  },
  {
   "cell_type": "markdown",
   "id": "9686e219",
   "metadata": {},
   "source": [
    "##### 7.5.1 Random Forest Hyperparameter Tuning."
   ]
  },
  {
   "cell_type": "code",
   "execution_count": 79,
   "id": "51320d58",
   "metadata": {},
   "outputs": [
    {
     "name": "stdout",
     "output_type": "stream",
     "text": [
      "Score of the model: 0.8336\n"
     ]
    }
   ],
   "source": [
    "# Using data with Ticket\n",
    "# Using Random forest classifier for Hyper parameter tuning.\n",
    "\n",
    "rfclf = RandomForestClassifier(random_state = 0)\n",
    "\n",
    "clf_scores = cross_val_score(rfclf, X = mod_train_data,\n",
    "                             y = y_train, cv = 10, scoring = 'accuracy')\n",
    "print('Score of the model:', np.round(clf_scores.mean(), 4))"
   ]
  },
  {
   "cell_type": "code",
   "execution_count": 80,
   "id": "ad05fe42",
   "metadata": {},
   "outputs": [],
   "source": [
    "from sklearn.model_selection import GridSearchCV"
   ]
  },
  {
   "cell_type": "markdown",
   "id": "34125b59",
   "metadata": {},
   "source": [
    "##### 7.5.2 Estimators and max_depth."
   ]
  },
  {
   "cell_type": "code",
   "execution_count": 81,
   "id": "6f8be844",
   "metadata": {},
   "outputs": [],
   "source": [
    "params = {'n_estimators': [50, 100, 150, 200],\n",
    "          'max_depth': [5, 8, 10]}\n",
    "\n",
    "rfclf = RandomForestClassifier(random_state = 0)\n",
    "\n",
    "clf_gscv = GridSearchCV(rfclf, param_grid = params, \n",
    "                        cv = 10, scoring = 'accuracy')\n",
    "clf_res = clf_gscv.fit(X = mod_train_data, y = y_train)"
   ]
  },
  {
   "cell_type": "code",
   "execution_count": 82,
   "id": "70891b09",
   "metadata": {},
   "outputs": [
    {
     "name": "stdout",
     "output_type": "stream",
     "text": [
      "Best Score of the model: 0.8138\n",
      "Best parameter of the model: {'max_depth': 10, 'n_estimators': 100}\n"
     ]
    }
   ],
   "source": [
    "print('Best Score of the model:', np.round(clf_res.best_score_.mean(), 4))\n",
    "print('Best parameter of the model:', clf_res.best_params_)"
   ]
  },
  {
   "cell_type": "code",
   "execution_count": 84,
   "id": "f9daa8b5",
   "metadata": {},
   "outputs": [
    {
     "name": "stdout",
     "output_type": "stream",
     "text": [
      "Best Score of the model: 0.8336\n",
      "Best parameter of the model: {'max_depth': 20, 'n_estimators': 150}\n"
     ]
    }
   ],
   "source": [
    "# Increasing 'n_estimators'.\n",
    "\n",
    "params = {'n_estimators': [100, 150, 200],\n",
    "          'max_depth': [10, 15, 20]}\n",
    "\n",
    "rfclf = RandomForestClassifier(random_state = 0)\n",
    "\n",
    "clf_gscv = GridSearchCV(rfclf, param_grid = params, \n",
    "                        cv = 10, scoring = 'accuracy')\n",
    "clf_res = clf_gscv.fit(X = mod_train_data, y = y_train)\n",
    "\n",
    "print('Best Score of the model:', np.round(clf_res.best_score_.mean(), 4))\n",
    "print('Best parameter of the model:', clf_res.best_params_)"
   ]
  },
  {
   "cell_type": "markdown",
   "id": "26b5efc0",
   "metadata": {},
   "source": [
    "##### 7.5.3 min_samples_split and max_features."
   ]
  },
  {
   "cell_type": "code",
   "execution_count": 85,
   "id": "8106fa3f",
   "metadata": {},
   "outputs": [
    {
     "name": "stdout",
     "output_type": "stream",
     "text": [
      "Best Score of the model: 0.7955\n",
      "Best parameter of the model: {'max_features': 10, 'min_samples_split': 50}\n"
     ]
    }
   ],
   "source": [
    "params = {'min_samples_split': [50, 100, 150, 200],\n",
    "          'max_features': [5, 8, 10]}\n",
    "\n",
    "rfclf = RandomForestClassifier(max_depth = 20, n_estimators = 150,\n",
    "                               random_state = 0)\n",
    "\n",
    "clf_gscv = GridSearchCV(rfclf, param_grid = params,\n",
    "                        cv = 10, scoring = 'accuracy')\n",
    "clf_res = clf_gscv.fit(X = mod_train_data, y = y_train)\n",
    "\n",
    "print('Best Score of the model:', np.round(clf_res.best_score_.mean(), 4))\n",
    "print('Best parameter of the model:', clf_res.best_params_)"
   ]
  },
  {
   "cell_type": "code",
   "execution_count": 87,
   "id": "353c097a",
   "metadata": {},
   "outputs": [
    {
     "name": "stdout",
     "output_type": "stream",
     "text": [
      "Best Score of the model: 0.8294\n",
      "Best parameter of the model: {'max_features': 100, 'min_samples_split': 50}\n"
     ]
    }
   ],
   "source": [
    "# Increasing max_features.\n",
    "\n",
    "params = {'min_samples_split': [50, 100, 200],\n",
    "          'max_features': [10, 50, 80, 100]}\n",
    "\n",
    "rfclf = RandomForestClassifier(max_depth = 20, n_estimators = 150,\n",
    "                               random_state = 0)\n",
    "\n",
    "clf_gscv = GridSearchCV(rfclf, param_grid = params,\n",
    "                        cv = 10, scoring = 'accuracy')\n",
    "clf_res = clf_gscv.fit(X = mod_train_data, y = y_train)\n",
    "\n",
    "print('Best Score of the model:', np.round(clf_res.best_score_.mean(), 4))\n",
    "print('Best parameter of the model:', clf_res.best_params_)"
   ]
  },
  {
   "cell_type": "code",
   "execution_count": 88,
   "id": "01a673d5",
   "metadata": {},
   "outputs": [
    {
     "name": "stdout",
     "output_type": "stream",
     "text": [
      "Best Score of the model: 0.8336\n",
      "Best parameter of the model: {'warm_start': True}\n"
     ]
    }
   ],
   "source": [
    "params = {'warm_start': [True, False]}\n",
    "\n",
    "rfclf = RandomForestClassifier(random_state = 0)\n",
    "\n",
    "clf_gscv = GridSearchCV(rfclf, param_grid = params,\n",
    "                        cv = 10, scoring = 'accuracy')\n",
    "clf_res = clf_gscv.fit(X = mod_train_data, y = y_train)\n",
    "\n",
    "print('Best Score of the model:', np.round(clf_res.best_score_.mean(), 4))\n",
    "print('Best parameter of the model:', clf_res.best_params_)"
   ]
  },
  {
   "cell_type": "code",
   "execution_count": 93,
   "id": "4af44c97",
   "metadata": {},
   "outputs": [
    {
     "name": "stdout",
     "output_type": "stream",
     "text": [
      "Best Score of the model: 0.8336\n",
      "Best parameter of the model: {'warm_start': True}\n"
     ]
    }
   ],
   "source": [
    "rfclf = RandomForestClassifier(max_depth = 20, n_estimators = 150,\n",
    "                               random_state = 0, warm_start = True)\n",
    "\n",
    "clf_gscv = GridSearchCV(rfclf, param_grid = params,\n",
    "                        cv = 10, scoring = 'accuracy')\n",
    "clf_res = clf_gscv.fit(X = mod_train_data, y = y_train)\n",
    "\n",
    "print('Best Score of the model:', np.round(clf_res.best_score_.mean(), 4))\n",
    "print('Best parameter of the model:', clf_res.best_params_)"
   ]
  },
  {
   "cell_type": "markdown",
   "id": "fabe7e07",
   "metadata": {},
   "source": [
    "##### 7.6. Gradient Boosting Tuning."
   ]
  },
  {
   "cell_type": "markdown",
   "id": "47e9080d",
   "metadata": {},
   "source": [
    "##### 7.6.1 learning_rate and n_estimators."
   ]
  },
  {
   "cell_type": "code",
   "execution_count": 94,
   "id": "b9271f64",
   "metadata": {},
   "outputs": [
    {
     "name": "stdout",
     "output_type": "stream",
     "text": [
      "Best Score of the model: 0.8505\n",
      "Best parameter of the model: {'learning_rate': 0.5, 'n_estimators': 400}\n"
     ]
    }
   ],
   "source": [
    "params = {'learning_rate': [0.1, 0.2, 0.5, 0.8, 1],\n",
    "          'n_estimators': [200, 300, 400, 500]}\n",
    "\n",
    "bgclf = GradientBoostingClassifier(random_state = 0)\n",
    "\n",
    "bgclf_gscv = GridSearchCV(bgclf, param_grid = params, \n",
    "                          cv = 10, scoring = 'accuracy')\n",
    "gb_res = bgclf_gscv.fit(X = mod_train_data, y = y_train)\n",
    "\n",
    "print('Best Score of the model:', np.round(gb_res.best_score_.mean(), 4))\n",
    "print('Best parameter of the model:', gb_res.best_params_)"
   ]
  },
  {
   "cell_type": "code",
   "execution_count": 95,
   "id": "800e220e",
   "metadata": {},
   "outputs": [
    {
     "name": "stdout",
     "output_type": "stream",
     "text": [
      "Best Score of the model: 0.8278\n",
      "Best parameter of the model: {'learning_rate': 0.8, 'n_estimators': 300}\n"
     ]
    }
   ],
   "source": [
    "# Gradient Boosting Classifier without Ticket feature\n",
    "\n",
    "params = {'learning_rate': [0.1, 0.2, 0.5, 0.8, 1],\n",
    "          'n_estimators': [200, 300, 400, 500]}\n",
    "\n",
    "bgclf = GradientBoostingClassifier(random_state = 0)\n",
    "\n",
    "bgclf_gscv = GridSearchCV(bgclf, param_grid = params, \n",
    "                          cv = 10, scoring = 'accuracy')\n",
    "gb_res = bgclf_gscv.fit(X = wo_ticket_train_data, y = y_train)\n",
    "\n",
    "print('Best Score of the model:', np.round(gb_res.best_score_.mean(), 4))\n",
    "print('Best parameter of the model:', gb_res.best_params_)"
   ]
  },
  {
   "cell_type": "code",
   "execution_count": 96,
   "id": "0a153c59",
   "metadata": {},
   "outputs": [
    {
     "name": "stdout",
     "output_type": "stream",
     "text": [
      "Best Score of the model: 0.8534\n",
      "Best parameter of the model: {'n_estimators': 700}\n"
     ]
    }
   ],
   "source": [
    "# Increasing n_estimators.\n",
    "\n",
    "params = {'n_estimators': [500, 600, 700, 800]}\n",
    "\n",
    "bgclf = GradientBoostingClassifier(learning_rate = 0.5, random_state = 0)\n",
    "\n",
    "bgclf_gscv = GridSearchCV(bgclf, param_grid = params, \n",
    "                          cv = 10, scoring = 'accuracy')\n",
    "gb_res = bgclf_gscv.fit(X = mod_train_data, y = y_train)\n",
    "\n",
    "print('Best Score of the model:', np.round(gb_res.best_score_.mean(), 4))\n",
    "print('Best parameter of the model:', gb_res.best_params_)"
   ]
  },
  {
   "cell_type": "markdown",
   "id": "4be712ec",
   "metadata": {},
   "source": [
    "##### 7.6.2 max_depth and max_features."
   ]
  },
  {
   "cell_type": "code",
   "execution_count": 97,
   "id": "f2f8ee06",
   "metadata": {},
   "outputs": [
    {
     "name": "stdout",
     "output_type": "stream",
     "text": [
      "Best Score of the model: 0.852\n",
      "Best parameter of the model: {'max_depth': 10, 'max_features': 80}\n"
     ]
    }
   ],
   "source": [
    "params = {'max_depth': [5, 10, 15, 20],\n",
    "          'max_features': [20, 40, 60, 80]}\n",
    "\n",
    "bgclf = GradientBoostingClassifier(learning_rate = 0.5, n_estimators = 700,\n",
    "                                   random_state = 0)\n",
    "\n",
    "bgclf_gscv = GridSearchCV(bgclf, param_grid = params, \n",
    "                          cv = 10, scoring = 'accuracy')\n",
    "gb_res = bgclf_gscv.fit(X = mod_train_data, y = y_train)\n",
    "\n",
    "print('Best Score of the model:', np.round(gb_res.best_score_.mean(), 4))\n",
    "print('Best parameter of the model:', gb_res.best_params_)"
   ]
  },
  {
   "cell_type": "code",
   "execution_count": 106,
   "id": "d94869e2",
   "metadata": {},
   "outputs": [
    {
     "name": "stdout",
     "output_type": "stream",
     "text": [
      "Best Score of the model: 0.852\n",
      "Best parameter of the model: {'warm_start': True}\n"
     ]
    }
   ],
   "source": [
    "params = {'warm_start': [True, False]}\n",
    "\n",
    "bgclf = GradientBoostingClassifier(learning_rate = 0.5, n_estimators = 700,\n",
    "                                   max_features = 80, max_depth = 10, \n",
    "                                   random_state = 0)\n",
    "\n",
    "bgclf_gscv = GridSearchCV(bgclf, param_grid = params, \n",
    "                          cv = 10, scoring = 'accuracy')\n",
    "gb_res = bgclf_gscv.fit(X = mod_train_data, y = y_train)\n",
    "\n",
    "print('Best Score of the model:', np.round(gb_res.best_score_.mean(), 4))\n",
    "print('Best parameter of the model:', gb_res.best_params_)"
   ]
  },
  {
   "cell_type": "code",
   "execution_count": 100,
   "id": "2aba8d2c",
   "metadata": {},
   "outputs": [],
   "source": [
    "from sklearn.metrics import accuracy_score, confusion_matrix"
   ]
  },
  {
   "cell_type": "markdown",
   "id": "f780267d",
   "metadata": {},
   "source": [
    "##### 7.6.3 Using the optimal values."
   ]
  },
  {
   "cell_type": "code",
   "execution_count": 108,
   "id": "7ddd8ab5",
   "metadata": {},
   "outputs": [
    {
     "name": "stdout",
     "output_type": "stream",
     "text": [
      "Accuracy on Training data: 1.0\n",
      "Accuracy on Validation data: 0.8156424581005587\n"
     ]
    }
   ],
   "source": [
    "gbclf = GradientBoostingClassifier(learning_rate = 0.5, n_estimators = 700,\n",
    "                                   max_features = 80, max_depth = 10, \n",
    "                                   warm_start = True, random_state = 0)\n",
    "gbclf.fit(X = mod_train_data, y = y_train)\n",
    "\n",
    "pred_train = gbclf.predict(X = mod_train_data)\n",
    "print('Accuracy on Training data:', accuracy_score(y_true = y_train, \n",
    "                                                   y_pred = pred_train))\n",
    "\n",
    "pred_valid = gbclf.predict(X = mod_valid_data)\n",
    "print('Accuracy on Validation data:', accuracy_score(y_true = y_valid, \n",
    "                                                   y_pred = pred_valid))"
   ]
  },
  {
   "cell_type": "markdown",
   "id": "3d57380c",
   "metadata": {},
   "source": [
    "Overfitting is obeserved."
   ]
  },
  {
   "cell_type": "markdown",
   "id": "bd69a4de",
   "metadata": {},
   "source": [
    "##### 7.6.4 Tuning to lower overfitting."
   ]
  },
  {
   "cell_type": "code",
   "execution_count": 169,
   "id": "9eab8613",
   "metadata": {},
   "outputs": [
    {
     "name": "stdout",
     "output_type": "stream",
     "text": [
      "Accuracy on Training data: 0.8843\n",
      "Accuracy on Validation data: 0.8324\n"
     ]
    }
   ],
   "source": [
    "gbclf = GradientBoostingClassifier(learning_rate = 0.01, n_estimators = 600,\n",
    "                                   max_features = 10, max_depth = 5, \n",
    "                                   warm_start = False, random_state = 0)\n",
    "\n",
    "gbclf.fit(X = mod_train_data, y = y_train)\n",
    "\n",
    "pred_train = gbclf.predict(X = mod_train_data)\n",
    "print('Accuracy on Training data:', np.round(accuracy_score(y_true = y_train, \n",
    "                                                   y_pred = pred_train), 4))\n",
    "\n",
    "pred_valid = gbclf.predict(X = mod_valid_data)\n",
    "print('Accuracy on Validation data:', np.round(accuracy_score(y_true = y_valid, \n",
    "                                                   y_pred = pred_valid), 4))"
   ]
  },
  {
   "cell_type": "markdown",
   "id": "88e626bb",
   "metadata": {},
   "source": [
    "##### 7.6.5 Tuning learning rate and estimators."
   ]
  },
  {
   "cell_type": "code",
   "execution_count": 170,
   "id": "6aaaa6f9",
   "metadata": {},
   "outputs": [
    {
     "name": "stdout",
     "output_type": "stream",
     "text": [
      "Accuracy on Training data: 0.8829337094499294\n",
      "Accuracy on Validation data: 0.8379888268156425\n"
     ]
    }
   ],
   "source": [
    "fraction = 20\n",
    "gbclf = GradientBoostingClassifier(learning_rate = 0.01*(1/fraction), \n",
    "                                   n_estimators = 600*(fraction),\n",
    "                                   max_features = 10, max_depth = 5, \n",
    "                                   warm_start = False, random_state = 0)\n",
    "\n",
    "gbclf.fit(X = mod_train_data, y = y_train)\n",
    "\n",
    "pred_train = gbclf.predict(X = mod_train_data)\n",
    "print('Accuracy on Training data:', accuracy_score(y_true = y_train, \n",
    "                                                   y_pred = pred_train))\n",
    "\n",
    "pred_valid = gbclf.predict(X = mod_valid_data)\n",
    "print('Accuracy on Validation data:', accuracy_score(y_true = y_valid, \n",
    "                                                   y_pred = pred_valid))"
   ]
  },
  {
   "cell_type": "code",
   "execution_count": 171,
   "id": "3f5c0c59",
   "metadata": {},
   "outputs": [
    {
     "name": "stdout",
     "output_type": "stream",
     "text": [
      "Accuracy on Training data: 0.8815232722143864\n",
      "Accuracy on Validation data: 0.8324022346368715\n"
     ]
    }
   ],
   "source": [
    "fraction = 50\n",
    "gbclf = GradientBoostingClassifier(learning_rate = 0.01*(1/fraction), \n",
    "                                   n_estimators = 600*(fraction),\n",
    "                                   max_features = 10, max_depth = 5, \n",
    "                                   warm_start = False, random_state = 0)\n",
    "\n",
    "gbclf.fit(X = mod_train_data, y = y_train)\n",
    "\n",
    "pred_train = gbclf.predict(X = mod_train_data)\n",
    "print('Accuracy on Training data:', accuracy_score(y_true = y_train, \n",
    "                                                   y_pred = pred_train))\n",
    "\n",
    "pred_valid = gbclf.predict(X = mod_valid_data)\n",
    "print('Accuracy on Validation data:', accuracy_score(y_true = y_valid, \n",
    "                                                   y_pred = pred_valid))"
   ]
  },
  {
   "cell_type": "markdown",
   "id": "dba5d876",
   "metadata": {},
   "source": [
    "##### 7.6.6 Final model."
   ]
  },
  {
   "cell_type": "code",
   "execution_count": 172,
   "id": "ccccbbf1",
   "metadata": {},
   "outputs": [
    {
     "name": "stdout",
     "output_type": "stream",
     "text": [
      "Accuracy on Training data: 0.8829337094499294\n",
      "Accuracy on Validation data: 0.8379888268156425\n"
     ]
    }
   ],
   "source": [
    "fraction = 20\n",
    "gbclf = GradientBoostingClassifier(learning_rate = 0.01*(1/fraction), \n",
    "                                   n_estimators = 600*(fraction),\n",
    "                                   max_features = 10, max_depth = 5, \n",
    "                                   warm_start = False, random_state = 0)\n",
    "\n",
    "gbclf.fit(X = mod_train_data, y = y_train)\n",
    "\n",
    "pred_train = gbclf.predict(X = mod_train_data)\n",
    "print('Accuracy on Training data:', accuracy_score(y_true = y_train, \n",
    "                                                   y_pred = pred_train))\n",
    "\n",
    "pred_valid = gbclf.predict(X = mod_valid_data)\n",
    "print('Accuracy on Validation data:', accuracy_score(y_true = y_valid, \n",
    "                                                   y_pred = pred_valid))"
   ]
  },
  {
   "cell_type": "markdown",
   "id": "490b0931",
   "metadata": {},
   "source": [
    "### 8. Predictions."
   ]
  },
  {
   "cell_type": "code",
   "execution_count": 173,
   "id": "8f913f25",
   "metadata": {},
   "outputs": [],
   "source": [
    "# Test data predictions.\n",
    "\n",
    "id_test = pd.read_csv('test.csv')\n",
    "\n",
    "pred_test = gbclf.predict(X = mod_test_data)\n",
    "\n",
    "test_df = pd.DataFrame({'PassengerId': id_test['PassengerId'],\n",
    "                        'Survived': pred_test})\n",
    "test_df.to_csv('2ndattempt.csv', index = False)"
   ]
  },
  {
   "cell_type": "markdown",
   "id": "2eaac615",
   "metadata": {},
   "source": [
    "### 9. Kaggle Submissions."
   ]
  },
  {
   "cell_type": "code",
   "execution_count": 174,
   "id": "b4fa7134",
   "metadata": {},
   "outputs": [
    {
     "data": {
      "text/html": [
       "<div>\n",
       "<style scoped>\n",
       "    .dataframe tbody tr th:only-of-type {\n",
       "        vertical-align: middle;\n",
       "    }\n",
       "\n",
       "    .dataframe tbody tr th {\n",
       "        vertical-align: top;\n",
       "    }\n",
       "\n",
       "    .dataframe thead th {\n",
       "        text-align: right;\n",
       "    }\n",
       "</style>\n",
       "<table border=\"1\" class=\"dataframe\">\n",
       "  <thead>\n",
       "    <tr style=\"text-align: right;\">\n",
       "      <th></th>\n",
       "      <th>Score</th>\n",
       "      <th>Rank</th>\n",
       "    </tr>\n",
       "  </thead>\n",
       "  <tbody>\n",
       "    <tr>\n",
       "      <th>First_attempt</th>\n",
       "      <td>0.78220</td>\n",
       "      <td>8741</td>\n",
       "    </tr>\n",
       "    <tr>\n",
       "      <th>Second_attempt</th>\n",
       "      <td>0.78947</td>\n",
       "      <td>4248</td>\n",
       "    </tr>\n",
       "  </tbody>\n",
       "</table>\n",
       "</div>"
      ],
      "text/plain": [
       "                  Score  Rank\n",
       "First_attempt   0.78220  8741\n",
       "Second_attempt  0.78947  4248"
      ]
     },
     "execution_count": 174,
     "metadata": {},
     "output_type": "execute_result"
    }
   ],
   "source": [
    "pd.DataFrame(data = [[0.7822, 8741], \n",
    "                     [0.78947, 4248]], \n",
    "             index = ['First_attempt', 'Second_attempt'], \n",
    "             columns = ['Score', 'Rank'])"
   ]
  }
 ],
 "metadata": {
  "kernelspec": {
   "display_name": "Python 3",
   "language": "python",
   "name": "python3"
  },
  "language_info": {
   "codemirror_mode": {
    "name": "ipython",
    "version": 3
   },
   "file_extension": ".py",
   "mimetype": "text/x-python",
   "name": "python",
   "nbconvert_exporter": "python",
   "pygments_lexer": "ipython3",
   "version": "3.8.5"
  }
 },
 "nbformat": 4,
 "nbformat_minor": 5
}
