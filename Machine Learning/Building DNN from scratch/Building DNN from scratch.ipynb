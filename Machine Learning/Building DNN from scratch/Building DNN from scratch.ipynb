{
 "cells": [
  {
   "cell_type": "markdown",
   "metadata": {},
   "source": [
    "Date: 26/12/2020"
   ]
  },
  {
   "cell_type": "markdown",
   "metadata": {},
   "source": [
    "# Building a Deep Neural Network from scratch.\n",
    "\n",
    "This project focuses on building a Deep Neural Network from scratch. The aim of this project is to : -<br>\n",
    "1) Understand the concepts and working of DNN.<br>\n",
    "2) Using ReLU.<br>\n",
    "3) Coding it.<br>"
   ]
  },
  {
   "cell_type": "markdown",
   "metadata": {},
   "source": [
    "## Import Modules"
   ]
  },
  {
   "cell_type": "code",
   "execution_count": 1,
   "metadata": {},
   "outputs": [],
   "source": [
    "import numpy as np\n",
    "import h5py\n",
    "import matplotlib.pyplot as plt\n",
    "import pandas as pd\n",
    "import scipy\n",
    "%matplotlib inline"
   ]
  },
  {
   "cell_type": "markdown",
   "metadata": {},
   "source": [
    "## Import Data"
   ]
  },
  {
   "cell_type": "code",
   "execution_count": 2,
   "metadata": {},
   "outputs": [],
   "source": [
    "raw_train_data = h5py.File('train_catvnoncat.h5')"
   ]
  },
  {
   "cell_type": "code",
   "execution_count": 3,
   "metadata": {},
   "outputs": [],
   "source": [
    "train_keys = list(raw_train_data.keys())"
   ]
  },
  {
   "cell_type": "code",
   "execution_count": 4,
   "metadata": {},
   "outputs": [],
   "source": [
    "X_train_raw = np.array(raw_train_data[train_keys[1]])\n",
    "y_train_raw = np.array(raw_train_data[train_keys[2]])\n",
    "\n",
    "classes = np.array(raw_train_data[train_keys[0]])"
   ]
  },
  {
   "cell_type": "code",
   "execution_count": 7,
   "metadata": {},
   "outputs": [
    {
     "name": "stdout",
     "output_type": "stream",
     "text": [
      "The shape of X_train_raw is:(209, 64, 64, 3)\n",
      "The shape of y_train_raw is:(209,)\n"
     ]
    }
   ],
   "source": [
    "print(f'The shape of X_train_raw is:{X_train_raw.shape}')\n",
    "print(f'The shape of y_train_raw is:{y_train_raw.shape}')"
   ]
  },
  {
   "cell_type": "code",
   "execution_count": 8,
   "metadata": {},
   "outputs": [
    {
     "name": "stdout",
     "output_type": "stream",
     "text": [
      "The shape of y_train is:(1, 209)\n"
     ]
    }
   ],
   "source": [
    "y_train = y_train_raw.reshape((1, y_train_raw.shape[0]))\n",
    "\n",
    "print(f'The shape of y_train is:{y_train.shape}')"
   ]
  },
  {
   "cell_type": "code",
   "execution_count": 12,
   "metadata": {},
   "outputs": [
    {
     "name": "stdout",
     "output_type": "stream",
     "text": [
      "The shape of X_train is:(12288, 209)\n"
     ]
    }
   ],
   "source": [
    "X_train = X_train_raw.reshape((X_train_raw.shape[0], -1)).T\n",
    "\n",
    "print(f'The shape of X_train is:{X_train.shape}')"
   ]
  },
  {
   "cell_type": "markdown",
   "metadata": {},
   "source": [
    "## Normalization"
   ]
  },
  {
   "cell_type": "code",
   "execution_count": 11,
   "metadata": {},
   "outputs": [],
   "source": [
    "X_train = X_train/255.0"
   ]
  },
  {
   "cell_type": "markdown",
   "metadata": {},
   "source": [
    "## Model development"
   ]
  },
  {
   "cell_type": "code",
   "execution_count": 110,
   "metadata": {},
   "outputs": [
    {
     "name": "stdout",
     "output_type": "stream",
     "text": [
      "Number of units in each layers are:\n",
      "0 layer has 3 units\n",
      "1 layer has 5 units\n",
      "2 layer has 1 units\n",
      "---------------------------------------------------\n",
      "Total number of layers are 3\n"
     ]
    }
   ],
   "source": [
    "'''\n",
    "Defining number of units in each layers.\n",
    "\n",
    "Inputs: -\n",
    "------\n",
    "units_in_layers - Number of units for each layer in the form of a list. \n",
    "\n",
    "Output: -\n",
    "------\n",
    "Prints number of units in each layer.\n",
    "'''\n",
    "\n",
    "units_in_layers = [X_train.shape[0], 5, 1]\n",
    "total_layers = len(units_in_layers)\n",
    "\n",
    "print('Number of units in each layers are:')\n",
    "\n",
    "for i in range(len(units_in_layers)):\n",
    "    print(str(i) + f' layer has {units_in_layers[i]} units')\n",
    "\n",
    "print('---------------------------------------------------')\n",
    "print(f'Total number of layers are {total_layers}')"
   ]
  },
  {
   "cell_type": "code",
   "execution_count": 95,
   "metadata": {},
   "outputs": [],
   "source": [
    "def initialization_func(units_in_layers, total_layers):\n",
    "    '''\n",
    "    This function initializes weights and bias for the layers.\n",
    "    \n",
    "    Inputs: -\n",
    "    ------\n",
    "    units_in_layers - Number of units for each layer in the form of a list. \n",
    "    total_layers - Total number of layers.\n",
    "\n",
    "    Returns: -\n",
    "    ------\n",
    "    weights - dictionary containing weights and bias.\n",
    "    '''\n",
    "    \n",
    "    np.random.seed(5)\n",
    "    weights = {}\n",
    "    \n",
    "    for i in range(1, total_layers):\n",
    "        weights['W' + str(i)] = np.random.randn(units_in_layers[i], \n",
    "                                                units_in_layers[i - 1])*0.01\n",
    "        weights['b' + str(i)] = np.zeros((units_in_layers[i], \n",
    "                                                    1))\n",
    "    \n",
    "    return weights"
   ]
  },
  {
   "cell_type": "code",
   "execution_count": 96,
   "metadata": {},
   "outputs": [],
   "source": [
    "def forward_activation(A_ref, W, b, activation):\n",
    "    '''\n",
    "    Implements the forward propagation and calculates the required Activation.\n",
    "    \n",
    "    Inputs: -\n",
    "    ------\n",
    "    A_ref - Activations from previous layer (Initially it is equal to the input data). \n",
    "    W - Weight associated with the corresponding layer.\n",
    "    b - Bias associated with the corresponding layer.\n",
    "    activation - Name of the activation function to be implemented.\n",
    "\n",
    "    Returns: -\n",
    "    ------\n",
    "    a - Activation value for the next layer.\n",
    "    forward_cache - List containing values of A_ref, W, b, Z which is used during \n",
    "                    backward propagation. \n",
    "                    Example: - For initial layer the forward_cache will be\n",
    "                    forward_cache = (A_ref 0, W1, b1 z1)\n",
    "                    0 --> refers to the input layer or activation values of the previous layer.\n",
    "                    1 --> refers to the values associated with the 1st layer.\n",
    "    '''\n",
    "    \n",
    "    if activation == 'sigmoid':\n",
    "        z = np.matmul(W, A_ref) + b\n",
    "        a = 1/(1 + np.exp(-z))\n",
    "        forward_cache = (A_ref, W, b, z)\n",
    "        return a, forward_cache\n",
    "    \n",
    "    elif activation == 'relu':\n",
    "        z = np.matmul(W, A_ref) + b\n",
    "        a = np.maximum(0, z)\n",
    "        forward_cache = (A_ref, W, b, z)\n",
    "        return a, forward_cache"
   ]
  },
  {
   "cell_type": "code",
   "execution_count": 97,
   "metadata": {},
   "outputs": [],
   "source": [
    "def backward_activation_sigmoid(z):\n",
    "    '''\n",
    "    Calculates the derivative of sigmoid activation.\n",
    "    \n",
    "    Inputs: -\n",
    "    ------\n",
    "    z - Forward propagation value. This value is collected from **forward_cache**\n",
    "        of **forward_activation** function.\n",
    "\n",
    "    Returns: -\n",
    "    ------\n",
    "    Derivative of sigmoid function.\n",
    "    '''\n",
    "    \n",
    "    sig = 1/(1 + np.exp(-z))\n",
    "        \n",
    "    return sig*(1 - sig)\n",
    "    \n",
    "def backward_activation_relu(z):\n",
    "    '''\n",
    "    Calculates the derivative of ReLU activation.\n",
    "    \n",
    "    Inputs: -\n",
    "    ------\n",
    "    z - Forward propagation value. This value is collected from **forward_cache**\n",
    "        of **forward_activation** function.\n",
    "\n",
    "    Returns: -\n",
    "    ------\n",
    "    Derivative of ReLU function.\n",
    "    '''\n",
    "        \n",
    "    relu_grad = z.copy()         \n",
    "    relu_grad[relu_grad <= 0] = 0\n",
    "    relu_grad[relu_grad > 0] = 1\n",
    "\n",
    "    return relu_grad "
   ]
  },
  {
   "cell_type": "code",
   "execution_count": 189,
   "metadata": {},
   "outputs": [],
   "source": [
    "def forward_prop_func(weights, X_train):\n",
    "    '''\n",
    "    Implements the forward propagation and calculates the Activation for every layer.\n",
    "    \n",
    "    Inputs: -\n",
    "    ------\n",
    "    weights - Initial weights calculated from **initialization_func** function.\n",
    "    X_train - Input data.\n",
    "\n",
    "    Returns: -\n",
    "    ------\n",
    "    A_last - Activation value of the last layer.\n",
    "    cache - List of tuples containing the values of A_ref, W, b, Z of every layer.\n",
    "    '''\n",
    "    \n",
    "    L = len(list(weights.keys()))//2\n",
    "    A_ref = X_train.copy()\n",
    "    cache = []\n",
    "    \n",
    "    for i in range(L - 1):\n",
    "        A_next, forward_cache = forward_activation(A_ref, weights['W' + str(i + 1)],\n",
    "                                                  weights['b' + str(i + 1)], activation = 'relu')\n",
    "        A_ref = A_next\n",
    "        cache.append(forward_cache)\n",
    "    \n",
    "    A_last, forward_cache = forward_activation(A_ref, weights['W' + str(L)],\n",
    "                                               weights['b' + str(L)], activation = 'sigmoid')\n",
    "    cache.append(forward_cache)\n",
    "    \n",
    "    return A_last, cache"
   ]
  },
  {
   "cell_type": "code",
   "execution_count": 99,
   "metadata": {},
   "outputs": [],
   "source": [
    "def cost_func(A_last, y_train):\n",
    "    '''\n",
    "    Calculates the cost for a given value of weights.\n",
    "    \n",
    "    Inputs: -\n",
    "    ------\n",
    "    A_last - Activation value of the last layer calculated \n",
    "             from **forward_prop_func** function.\n",
    "    y_train - Label data.\n",
    "\n",
    "    Returns: -\n",
    "    ------\n",
    "    train_cost - Training cost for a given value of weights.\n",
    "    dA_last - Derivative of Loss with respect to the last activation layer.\n",
    "    '''\n",
    "    \n",
    "    epsilon = 1e-5\n",
    "    train_cost = (-(y_train*np.log(A_last + epsilon) + \n",
    "             (1 - y_train)*np.log(1 - A_last + epsilon))).mean()\n",
    "    \n",
    "    dA_last = (-(np.divide(y_train, A_last + epsilon)\n",
    "               - np.divide((1 - y_train), (1 - A_last + epsilon))))\n",
    "    \n",
    "    return train_cost, dA_last"
   ]
  },
  {
   "cell_type": "code",
   "execution_count": 100,
   "metadata": {},
   "outputs": [],
   "source": [
    "def dZ_func(dA_last, Z, activation):\n",
    "    '''\n",
    "    Calculates derivative of Loss with respect to the forward propagation layer.\n",
    "    \n",
    "    Inputs: -\n",
    "    ------\n",
    "    dA_last - Derivative of Loss with respect to the last activation layer.\n",
    "              This value is collected from **cost_func** function.\n",
    "    Z - This value is collected from **forward_cache** of **forward_activation** function.\n",
    "    activation - Name of the activation function to be implemented.\n",
    "\n",
    "    Returns: -\n",
    "    ------\n",
    "    dZ values.\n",
    "    '''\n",
    "    \n",
    "    if activation == 'relu':\n",
    "        return dA_last*backward_activation_relu(Z)\n",
    "    \n",
    "    elif activation == 'sigmoid':\n",
    "        return dA_last*backward_activation_sigmoid(Z)"
   ]
  },
  {
   "cell_type": "code",
   "execution_count": 129,
   "metadata": {},
   "outputs": [],
   "source": [
    "def grad(cache, dA_last, activation):\n",
    "    '''\n",
    "    Calculates gradients.\n",
    "    \n",
    "    Inputs: -\n",
    "    ------\n",
    "    cache - List of tuples containing the values of A_ref, W, b, Z of every layer.\n",
    "    dA_last - Derivative of Loss with respect to the last activation layer.\n",
    "              This value is collected from **cost_func** function.\n",
    "    activation - Name of the activation function to be implemented.\n",
    "\n",
    "    Returns: -\n",
    "    ------\n",
    "    dA_prev - Derivative of Loss with respect to the previous activation layer.\n",
    "    dw_ - Weight gradient.\n",
    "    db_ - Bias gradient.\n",
    "    '''\n",
    "    \n",
    "    A_prev, W, b, Z = cache\n",
    "    m = A_prev.shape[1]\n",
    "    \n",
    "    dz = dZ_func(dA_last, Z, activation)\n",
    "    dw_ = (1.0/m)*np.matmul(dz, A_prev.T)\n",
    "    db_ = (1.0/m)*(dz).sum(axis = 1, keepdims = True)\n",
    "    dA_prev = np.matmul(W.T, dz)\n",
    "    \n",
    "    return dA_prev, dw_, db_     "
   ]
  },
  {
   "cell_type": "code",
   "execution_count": 102,
   "metadata": {},
   "outputs": [],
   "source": [
    "def back_prop_func(A_last, cache, y_train):\n",
    "    '''\n",
    "    Calculates gradients.\n",
    "    \n",
    "    Inputs: -\n",
    "    ------\n",
    "    A_last - Activation value of the last layer calculated \n",
    "             from **forward_prop_func** function.\n",
    "    cache - List of tuples containing the values of A_ref, W, b, Z of every layer.\n",
    "    y_train - Label data.\n",
    "\n",
    "    Returns: -\n",
    "    ------\n",
    "    grads - Dictionary of gradients.\n",
    "    train_cost - Value of training cost.\n",
    "    '''\n",
    "    \n",
    "    grads = {}\n",
    "    L = len(cache)\n",
    "    \n",
    "\n",
    "    train_cost, dA_last = cost_func(A_last, y_train)\n",
    "    \n",
    "    current_cache = cache[-1]\n",
    "    dA_temp, dw_temp, db_temp = grad(current_cache, dA_last, activation = 'sigmoid')\n",
    "    grads['dA' + str(L)] = dA_temp\n",
    "    grads['dW' + str(L)] = dw_temp\n",
    "    grads['dB' + str(L)] = db_temp\n",
    "    \n",
    "    for t in reversed(range(L - 1)):\n",
    "        current_cache = cache[t]\n",
    "        grads['dA' + str(t + 1)], grads['dW' + str(t + 1)], grads['dB' + str(t + 1)] = grad(current_cache, grads['dA' + str(t + 2)], activation = 'relu')\n",
    "\n",
    "    return grads, train_cost"
   ]
  },
  {
   "cell_type": "code",
   "execution_count": null,
   "metadata": {},
   "outputs": [],
   "source": [
    "def update_parameters(weights, grads, learning_rate):\n",
    "    '''\n",
    "    Updates the weights.\n",
    "    \n",
    "    Inputs: -\n",
    "    ------\n",
    "    weights - Dictionary containing weights and bias.\n",
    "    grads - Dictionary of gradients. This value is collected from **back_prop_func**.\n",
    "    learning_rate - Value of learning rate.\n",
    "\n",
    "    Returns: -\n",
    "    ------\n",
    "    Updated values of weights.\n",
    "    '''\n",
    "    \n",
    "    lr = learning_rate\n",
    "    L = len(weights) // 2\n",
    "    \n",
    "    for l in range(L):\n",
    "        weights[\"W\" + str(l+1)] = weights[\"W\" + str(l+1)] - lr* grads[\"dW\" + str(l+1)]\n",
    "        weights[\"b\" + str(l+1)] = weights[\"b\" + str(l+1)] - lr * grads[\"dB\" + str(l+1)]\n",
    "        \n",
    "    return weights"
   ]
  },
  {
   "cell_type": "markdown",
   "metadata": {},
   "source": [
    "## Final Model"
   ]
  },
  {
   "cell_type": "code",
   "execution_count": 104,
   "metadata": {},
   "outputs": [],
   "source": [
    "def nn_model(units_in_layers, total_layers, X_train, y_train,\n",
    "             iterations, learning_rate):\n",
    "    '''\n",
    "    Final model.\n",
    "    \n",
    "    Inputs: -\n",
    "    ------\n",
    "    units_in_layers - Number of units for each layer in the form of a list. \n",
    "    total_layers - Total number of layers.\n",
    "    X_train - Input data.\n",
    "    y_train - Label data.\n",
    "    iterations - Iteration for optimization loop.\n",
    "    learning_rate - Value of learning rate.\n",
    "\n",
    "    Returns: -\n",
    "    ------\n",
    "    weights - Learned weights.\n",
    "    training_cost - List of training cost.\n",
    "    '''\n",
    "    \n",
    "    weights = initialization_func(units_in_layers, total_layers)\n",
    "    training_cost = []\n",
    "    \n",
    "    for i in range(iterations):\n",
    "        A_last_calc, cache = forward_prop_func(weights, X_train, X_test)\n",
    "        grads, train_cost = back_prop_func(A_last_calc, cache, y_train)\n",
    "        weights = update_parameters(weights, grads, learning_rate)\n",
    "        \n",
    "        \n",
    "        if i%200 == 0:\n",
    "            training_cost.append(train_cost)\n",
    "            \n",
    "    return weights, training_cost"
   ]
  },
  {
   "cell_type": "markdown",
   "metadata": {},
   "source": [
    "## Model checking"
   ]
  },
  {
   "cell_type": "code",
   "execution_count": 174,
   "metadata": {},
   "outputs": [],
   "source": [
    "units_in_layers = [X_train.shape[0], 500, 5, 1]\n",
    "total_layers = len(units_in_layers)\n",
    "\n",
    "u, co = nn_model(units_in_layers, total_layers, X_train, y_train,\n",
    "             X_test, y_test, 3000, 0.01)\n"
   ]
  },
  {
   "cell_type": "code",
   "execution_count": 179,
   "metadata": {},
   "outputs": [],
   "source": [
    "final_weights = u\n",
    "training_cost = co"
   ]
  },
  {
   "cell_type": "code",
   "execution_count": 188,
   "metadata": {},
   "outputs": [
    {
     "data": {
      "image/png": "[encoded data removed]",
      "text/plain": [
       "<Figure size 576x360 with 1 Axes>"
      ]
     },
     "metadata": {
      "needs_background": "light"
     },
     "output_type": "display_data"
    }
   ],
   "source": [
    "# Plotting the cost\n",
    "\n",
    "plt.figure(figsize = (8, 5))\n",
    "plt.plot(training_cost, label = 'Training cost')\n",
    "plt.title('Variation of Cost', fontsize = 20)\n",
    "plt.xlabel('Every 200th iteration')\n",
    "plt.ylabel('Cost')\n",
    "plt.legend()\n",
    "plt.show()"
   ]
  },
  {
   "cell_type": "markdown",
   "metadata": {},
   "source": [
    "# Conclusion"
   ]
  },
  {
   "cell_type": "markdown",
   "metadata": {},
   "source": [
    "The Deep Neural Network code is running correctly and it is capable of reducing the cost."
   ]
  }
 ],
 "metadata": {
  "kernelspec": {
   "display_name": "Python 3",
   "language": "python",
   "name": "python3"
  },
  "language_info": {
   "codemirror_mode": {
    "name": "ipython",
    "version": 3
   },
   "file_extension": ".py",
   "mimetype": "text/x-python",
   "name": "python",
   "nbconvert_exporter": "python",
   "pygments_lexer": "ipython3",
   "version": "3.8.5"
  },
  "toc": {
   "base_numbering": 1,
   "nav_menu": {},
   "number_sections": true,
   "sideBar": true,
   "skip_h1_title": false,
   "title_cell": "Table of Contents",
   "title_sidebar": "Contents",
   "toc_cell": false,
   "toc_position": {},
   "toc_section_display": true,
   "toc_window_display": false
  }
 },
 "nbformat": 4,
 "nbformat_minor": 2
}
