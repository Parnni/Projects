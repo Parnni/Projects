{
 "cells": [
  {
   "cell_type": "markdown",
   "metadata": {},
   "source": [
    "### Back Propagation Method from scratch for OR gate"
   ]
  },
  {
   "cell_type": "markdown",
   "metadata": {},
   "source": [
    "Start Date: 06/12/2020"
   ]
  },
  {
   "cell_type": "code",
   "execution_count": 14,
   "metadata": {},
   "outputs": [],
   "source": [
    "# Importing modules\n",
    "import numpy as np\n",
    "import pandas as pd\n",
    "import matplotlib.pyplot as plt\n",
    "%matplotlib inline"
   ]
  },
  {
   "cell_type": "markdown",
   "metadata": {},
   "source": [
    "### Data"
   ]
  },
  {
   "cell_type": "code",
   "execution_count": 2,
   "metadata": {},
   "outputs": [],
   "source": [
    "# Feature data\n",
    "X = np.array([[0, 0],\n",
    "              [0, 1],\n",
    "              [1, 0],\n",
    "              [1, 1]])\n",
    "\n",
    "# Label data\n",
    "y = np.array([0, 1, 1, 1])"
   ]
  },
  {
   "cell_type": "markdown",
   "metadata": {},
   "source": [
    "### Reshaping"
   ]
  },
  {
   "cell_type": "code",
   "execution_count": 3,
   "metadata": {},
   "outputs": [
    {
     "name": "stdout",
     "output_type": "stream",
     "text": [
      "Shape of X_train is: (3, 4)\n",
      "Shape of y_train is: (1, 4)\n"
     ]
    }
   ],
   "source": [
    "X_train = np.vstack((np.ones((1, 4)), X.T))\n",
    "y_train = y.reshape((1, 4))\n",
    "\n",
    "print(f'Shape of X_train is: {X_train.shape}')\n",
    "print(f'Shape of y_train is: {y_train.shape}')"
   ]
  },
  {
   "cell_type": "markdown",
   "metadata": {},
   "source": [
    "### Model development"
   ]
  },
  {
   "cell_type": "code",
   "execution_count": 4,
   "metadata": {},
   "outputs": [],
   "source": [
    "# Initialize weights\n",
    "\n",
    "def initialize_weights(X_train):\n",
    "    return np.zeros((X_train.shape[0], 1))     # Initializing weights"
   ]
  },
  {
   "cell_type": "code",
   "execution_count": 5,
   "metadata": {},
   "outputs": [],
   "source": [
    "# Sigmoid function\n",
    "\n",
    "def sigmoid_func(X, weights):\n",
    "    z = np.matmul(weights.T, X)                # Calculating z\n",
    "    yhat = 1/(1 + np.exp(-z))                  # Calculating sigmoid of z\n",
    "    return yhat"
   ]
  },
  {
   "cell_type": "code",
   "execution_count": 6,
   "metadata": {},
   "outputs": [],
   "source": [
    "# Optimizer\n",
    "\n",
    "def optimizer(X_train, y_train, weights, iterations, learning_rate):\n",
    "    costs = []                                  # Costs data storage\n",
    "    \n",
    "    for i in range(iterations):                 # Loop\n",
    "        yhat = sigmoid_func(X_train, weights)\n",
    "        loss = -(y_train*np.log(yhat) +         # Calculating loss\n",
    "                (1 - y_train)*np.log(1 - yhat))\n",
    "        cost = loss.mean()                      # Calculating training cost                      \n",
    "        \n",
    "        if i%100 == 0:                          # Storing every 100th data\n",
    "            costs.append(cost)\n",
    "        \n",
    "        dw = np.matmul(X_train, (yhat - y_train).T) # Gradient calculation\n",
    "        \n",
    "        weights = weights - learning_rate*dw        # Gradient update\n",
    "        \n",
    "    return weights, costs"
   ]
  },
  {
   "cell_type": "code",
   "execution_count": 7,
   "metadata": {},
   "outputs": [],
   "source": [
    "# Model\n",
    "\n",
    "def model(X_train, y_train, iterations, learning_rate, print_acc):\n",
    "    # Weight initialization\n",
    "    weights = initialize_weights(X_train)\n",
    "    \n",
    "    # Optimizer\n",
    "    weights, costs = optimizer(X_train, y_train, weights,\n",
    "                               iterations, learning_rate)\n",
    "    \n",
    "    # Training accuracy mae\n",
    "    a = sigmoid_func(X_train, weights)\n",
    "    training_acc = 1 - np.mean(np.abs(a - y_train))\n",
    "    if print_acc:\n",
    "        print(f'The iterations are: {iterations}')\n",
    "        print(f'The learning_rate is: {learning_rate}')\n",
    "        print(f'The training accuracy is (mae): {np.round(training_acc, 4)}')\n",
    "        print('\\n'+'--------------------------------------------------'+'\\n')\n",
    "        \n",
    "    # Collected data\n",
    "    log_data = {'weights': weights,\n",
    "                'costs': costs,\n",
    "                'training_acc': training_acc}\n",
    "    return log_data"
   ]
  },
  {
   "cell_type": "code",
   "execution_count": 8,
   "metadata": {},
   "outputs": [],
   "source": [
    "# Predict function\n",
    "\n",
    "def predict_func(X, weights):\n",
    "    predicted_val = sigmoid_func(X_train, weights).ravel()\n",
    "    idx1 = np.where(predicted_val >= 0.5)\n",
    "    idx2 = np.where(predicted_val < 0.5)\n",
    "    predicted_val[idx1] = 1.0\n",
    "    predicted_val[idx2] = 0.0\n",
    "    print(f'Predicted values are: {predicted_val}')"
   ]
  },
  {
   "cell_type": "code",
   "execution_count": 9,
   "metadata": {},
   "outputs": [],
   "source": [
    "# Plotting\n",
    "\n",
    "def plot_data(log_data):\n",
    "    plt.figure()\n",
    "    plt.title('Cost plot')\n",
    "    plt.plot(log_data['costs'], label = 'Training cost')\n",
    "    plt.xlabel('Iterations [per 100]')\n",
    "    plt.ylabel('Cost')\n",
    "    plt.legend()\n",
    "    plt.grid()\n",
    "    plt.show()"
   ]
  },
  {
   "cell_type": "markdown",
   "metadata": {},
   "source": [
    "### Testing for iterations and learning rate"
   ]
  },
  {
   "cell_type": "code",
   "execution_count": 10,
   "metadata": {},
   "outputs": [],
   "source": [
    "iterations_list = [500, 1000, 1500, 2000, 2500, 3000, 3500, 4000]\n",
    "lr_list = [0.1, 0.01, 0.001, 0.0001]\n",
    "total_data = []\n",
    "\n",
    "for iteration in iterations_list:\n",
    "    iterative_data = []\n",
    "    for learning_rate in lr_list:\n",
    "        data = model(X_train, y_train, iteration, learning_rate, False)\n",
    "        iterative_data.append(data['training_acc']) # Try training accuracy\n",
    "    total_data.append(iterative_data)"
   ]
  },
  {
   "cell_type": "code",
   "execution_count": 11,
   "metadata": {},
   "outputs": [],
   "source": [
    "best_param = {}\n",
    "\n",
    "for num, iteration in enumerate(iterations_list):\n",
    "    best_param[str(iteration)] = np.array(total_data[num])"
   ]
  },
  {
   "cell_type": "code",
   "execution_count": 12,
   "metadata": {},
   "outputs": [
    {
     "data": {
      "text/html": [
       "<div>\n",
       "<style scoped>\n",
       "    .dataframe tbody tr th:only-of-type {\n",
       "        vertical-align: middle;\n",
       "    }\n",
       "\n",
       "    .dataframe tbody tr th {\n",
       "        vertical-align: top;\n",
       "    }\n",
       "\n",
       "    .dataframe thead th {\n",
       "        text-align: right;\n",
       "    }\n",
       "</style>\n",
       "<table border=\"1\" class=\"dataframe\">\n",
       "  <thead>\n",
       "    <tr style=\"text-align: right;\">\n",
       "      <th></th>\n",
       "      <th>500</th>\n",
       "      <th>1000</th>\n",
       "      <th>1500</th>\n",
       "      <th>2000</th>\n",
       "      <th>2500</th>\n",
       "      <th>3000</th>\n",
       "      <th>3500</th>\n",
       "      <th>4000</th>\n",
       "    </tr>\n",
       "  </thead>\n",
       "  <tbody>\n",
       "    <tr>\n",
       "      <td>0.1000</td>\n",
       "      <td>0.954696</td>\n",
       "      <td>0.976845</td>\n",
       "      <td>0.984556</td>\n",
       "      <td>0.988439</td>\n",
       "      <td>0.990771</td>\n",
       "      <td>0.992324</td>\n",
       "      <td>0.993432</td>\n",
       "      <td>0.994261</td>\n",
       "    </tr>\n",
       "    <tr>\n",
       "      <td>0.0100</td>\n",
       "      <td>0.787218</td>\n",
       "      <td>0.843236</td>\n",
       "      <td>0.877582</td>\n",
       "      <td>0.900348</td>\n",
       "      <td>0.916360</td>\n",
       "      <td>0.928152</td>\n",
       "      <td>0.937157</td>\n",
       "      <td>0.944234</td>\n",
       "    </tr>\n",
       "    <tr>\n",
       "      <td>0.0010</td>\n",
       "      <td>0.625302</td>\n",
       "      <td>0.679142</td>\n",
       "      <td>0.707940</td>\n",
       "      <td>0.726749</td>\n",
       "      <td>0.740840</td>\n",
       "      <td>0.752382</td>\n",
       "      <td>0.762378</td>\n",
       "      <td>0.771341</td>\n",
       "    </tr>\n",
       "    <tr>\n",
       "      <td>0.0001</td>\n",
       "      <td>0.518042</td>\n",
       "      <td>0.534665</td>\n",
       "      <td>0.549904</td>\n",
       "      <td>0.563831</td>\n",
       "      <td>0.576536</td>\n",
       "      <td>0.588122</td>\n",
       "      <td>0.598692</td>\n",
       "      <td>0.608343</td>\n",
       "    </tr>\n",
       "  </tbody>\n",
       "</table>\n",
       "</div>"
      ],
      "text/plain": [
       "             500      1000      1500      2000      2500      3000      3500  \\\n",
       "0.1000  0.954696  0.976845  0.984556  0.988439  0.990771  0.992324  0.993432   \n",
       "0.0100  0.787218  0.843236  0.877582  0.900348  0.916360  0.928152  0.937157   \n",
       "0.0010  0.625302  0.679142  0.707940  0.726749  0.740840  0.752382  0.762378   \n",
       "0.0001  0.518042  0.534665  0.549904  0.563831  0.576536  0.588122  0.598692   \n",
       "\n",
       "            4000  \n",
       "0.1000  0.994261  \n",
       "0.0100  0.944234  \n",
       "0.0010  0.771341  \n",
       "0.0001  0.608343  "
      ]
     },
     "execution_count": 12,
     "metadata": {},
     "output_type": "execute_result"
    }
   ],
   "source": [
    "best_param_dataframe = pd.DataFrame(best_param, index = lr_list)\n",
    "best_param_dataframe"
   ]
  },
  {
   "cell_type": "code",
   "execution_count": 17,
   "metadata": {
    "scrolled": true
   },
   "outputs": [
    {
     "data": {
      "image/png": "[encoded data removed]",
      "text/plain": [
       "<Figure size 576x576 with 1 Axes>"
      ]
     },
     "metadata": {
      "needs_background": "light"
     },
     "output_type": "display_data"
    }
   ],
   "source": [
    "best_param_dataframe.plot(kind = 'barh', figsize = (8, 8), \n",
    "    title = 'Effect of iterations and learning rate on training accuracy')\n",
    "\n",
    "plt.xlabel('Accuracy')\n",
    "plt.ylabel('Learning rate')\n",
    "plt.legend(title = 'Iterations')\n",
    "plt.show()"
   ]
  },
  {
   "cell_type": "markdown",
   "metadata": {},
   "source": [
    "From the above plot, Learning rate of **0.1** with iterations between **3500 - 4000** gives the best results."
   ]
  }
 ],
 "metadata": {
  "kernelspec": {
   "display_name": "Python 3",
   "language": "python",
   "name": "python3"
  },
  "language_info": {
   "codemirror_mode": {
    "name": "ipython",
    "version": 3
   },
   "file_extension": ".py",
   "mimetype": "text/x-python",
   "name": "python",
   "nbconvert_exporter": "python",
   "pygments_lexer": "ipython3",
   "version": "3.7.4"
  }
 },
 "nbformat": 4,
 "nbformat_minor": 2
}
